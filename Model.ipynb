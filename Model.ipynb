{
 "cells": [
  {
   "cell_type": "markdown",
   "metadata": {
    "ExecuteTime": {
     "end_time": "2021-06-11T09:24:53.643384Z",
     "start_time": "2021-06-11T09:24:53.622385Z"
    }
   },
   "source": [
    "# South African Language Identification Hack 2022\n",
    "\n",
    "© Tosin Adebowale"
   ]
  },
  {
   "cell_type": "markdown",
   "metadata": {
    "tags": []
   },
   "source": [
    "<a id=\"shorthand\"></a>\n",
    "\n",
    "## Table of Contents\n",
    "\n",
    "<a href=#zero>0. Comet</a>\n",
    "\n",
    "<a href=#one>1. Packages</a>\n",
    "\n",
    "<a href=#two>2. Data</a>\n",
    "\n",
    "<a href=#three>3. Data Description</a>\n",
    "\n",
    "<a href=#four>4. Data Cleaning</a>\n",
    "\n",
    "* <a href=#four_zero>4.0. General data cleaning</a>\n",
    "\n",
    "* <a href=#four_one>4.1. StopWords</a>\n",
    "\n",
    "* <a href=#four_two>4.2. Tokenisation</a>\n",
    "\n",
    "* <a href=#four_three>4.3. Stemming</a>\n",
    "\n",
    "* <a href=#four_four>4.4. Lemmatization</a>\n",
    "\n",
    "* <a href=#four_five>4.5. Resampling</a>\n",
    "\n",
    "<a href=#five>5. Model Files</a>\n",
    "\n",
    "* <a href=#five_zero>5.0. Prepare features</a>\n",
    "\n",
    "* <a href=#five_one>5.1. Scaling features</a>\n",
    "\n",
    "* <a href=#five_two>5.2. Prepare label</a>\n",
    "\n",
    "* <a href=#five_three>5.3. Train_Test_Split</a>\n",
    "\n",
    "<a href=#six>6. Modelling</a>\n",
    "\n",
    "* <a href=#six_zero>6.0. Improve model individually</a>\n",
    "\n",
    "* <a href=#six_one>6.1. Model Performance</a>\n",
    "\n",
    "* <a href=#six_two>6.2. Run all models</a>\n",
    "\n",
    "* <a href=#six_three>6.3. Kaggle Submission</a>\n",
    "\n",
    "<a href=#seven>7. End Comet Experiment</a>\n",
    "\n",
    "<a href=#eight>8. Extra</a>"
   ]
  },
  {
   "cell_type": "markdown",
   "metadata": {},
   "source": [
    "<a id=\"zero\"></a>\n",
    "## 0. Comet\n",
    "<a href=#shorthand>Back to Table of Contents</a>\n",
    "\n",
    "---\n",
    "    \n",
    "## <center>| ⚡ Description ⚡ |\n",
    "\n",
    "**<center>Importing comet and and setting up experiments.<center>**\n",
    "\n",
    "---"
   ]
  },
  {
   "cell_type": "code",
   "execution_count": 30,
   "metadata": {},
   "outputs": [],
   "source": [
    "# pip install comet_ml"
   ]
  },
  {
   "cell_type": "code",
   "execution_count": 31,
   "metadata": {},
   "outputs": [],
   "source": [
    "# Import comet_ml at the top of your file\n",
    "\n",
    "from comet_ml import Experiment"
   ]
  },
  {
   "cell_type": "code",
   "execution_count": 32,
   "metadata": {},
   "outputs": [
    {
     "name": "stderr",
     "output_type": "stream",
     "text": [
      "COMET WARNING: Comet has disabled auto-logging functionality as it has been imported after the following ML modules: sklearn. Metrics and hyperparameters can still be logged using comet_ml.log_metrics() and comet_ml.log_parameters()\n",
      "COMET WARNING: As you are running in a Jupyter environment, you will need to call `experiment.end()` when finished to ensure all metrics and code are logged before exiting.\n",
      "COMET INFO: Experiment is live on comet.ml https://www.comet.ml/toarstn92/south-african-language-identification-2022/88f4c4186c094071baf792d4fbd8228b\n",
      "\n"
     ]
    }
   ],
   "source": [
    "# Create an experiment with your api key and details specific to your personal comet\n",
    "\n",
    "experiment = Experiment(\n",
    "    api_key=\"qsOVXkhUhq870yZ5QARvTqNEw\",\n",
    "    project_name=\"south-african-language-identification-2022\",\n",
    "    workspace=\"toarstn92\",\n",
    ")"
   ]
  },
  {
   "cell_type": "markdown",
   "metadata": {
    "tags": []
   },
   "source": [
    "<a id=\"one\"></a>\n",
    "## 1. Packages\n",
    "<a href=#shorthand>Back to Table of Contents</a>\n",
    "\n",
    "---\n",
    "    \n",
    "## <center>| ⚡ Description ⚡ |\n",
    "\n",
    "**<center>Importing and briefly discussing libraries used during analysis and modelling.<center>**\n",
    "\n",
    "**<center>Downloading nltk corpora of interest.<center>**\n",
    "\n",
    "---"
   ]
  },
  {
   "cell_type": "code",
   "execution_count": 33,
   "metadata": {},
   "outputs": [],
   "source": [
    "# pip install libraries that fails to import\n",
    "\n",
    "# pip install \"package name\""
   ]
  },
  {
   "cell_type": "code",
   "execution_count": 34,
   "metadata": {},
   "outputs": [],
   "source": [
    "# import necessary libraries\n",
    "\n",
    "import numpy as np\n",
    "import pandas as pd\n",
    "from prettytable import PrettyTable\n",
    "from astropy.table import Table, Column\n",
    "\n",
    "import matplotlib.pyplot as plt\n",
    "%matplotlib inline\n",
    "from matplotlib.colors import ListedColormap\n",
    "import seaborn as sns\n",
    "import re\n",
    "import string\n",
    "from spellchecker import SpellChecker\n",
    "from wordcloud import WordCloud, STOPWORDS, ImageColorGenerator\n",
    "from plotly import graph_objs as go\n",
    "import plotly.express as px\n",
    "from collections import Counter\n",
    "from varname import nameof\n",
    "from PIL import Image\n",
    "import pickle\n",
    "\n",
    "from gensim.models import Word2Vec\n",
    "from sklearn.feature_extraction.text import CountVectorizer, TfidfTransformer, TfidfVectorizer\n",
    "from sklearn.model_selection import cross_val_score, train_test_split, GridSearchCV\n",
    "from sklearn.preprocessing import StandardScaler, MaxAbsScaler, MinMaxScaler, LabelEncoder\n",
    "from sklearn.datasets import make_moons, make_circles, make_classification\n",
    "from sklearn.linear_model import LogisticRegression, SGDClassifier\n",
    "from sklearn.neighbors import KNeighborsClassifier\n",
    "from sklearn.svm import SVC, LinearSVC\n",
    "from sklearn.discriminant_analysis import LinearDiscriminantAnalysis, QuadraticDiscriminantAnalysis\n",
    "from sklearn.tree import DecisionTreeClassifier\n",
    "from sklearn.ensemble import RandomForestClassifier, AdaBoostClassifier\n",
    "from sklearn.metrics import accuracy_score, roc_auc_score, recall_score, precision_score, f1_score, confusion_matrix, classification_report\n",
    "from sklearn.utils import resample\n",
    "from sklearn.pipeline import Pipeline\n",
    "from sklearn.naive_bayes import MultinomialNB\n",
    "import nltk\n",
    "from nltk.tokenize import word_tokenize, TreebankWordTokenizer\n",
    "from nltk.stem import WordNetLemmatizer\n",
    "from nltk import SnowballStemmer, PorterStemmer, LancasterStemmer\n",
    "from nltk.corpus import stopwords\n",
    "from nltk.util import ngrams\n",
    "\n",
    "import time\n",
    "\n",
    "# set plot style\n",
    "\n",
    "sns.set()\n",
    "\n",
    "# suppress cell warnings\n",
    "\n",
    "# import warnings\n",
    "# warnings.filterwarnings(\"ignore\")"
   ]
  },
  {
   "cell_type": "code",
   "execution_count": 35,
   "metadata": {},
   "outputs": [],
   "source": [
    "# download nltk content\n",
    "\n",
    "# nltk.download(\"wordnet\")\n",
    "# nltk.download(\"stopwords\")\n",
    "# nltk.download(\"omw-1.4\")"
   ]
  },
  {
   "cell_type": "code",
   "execution_count": 36,
   "metadata": {},
   "outputs": [],
   "source": [
    "# set output options for all categories\n",
    "\n",
    "pd.set_option(\"max_colwidth\", 500)\n",
    "plt.rcParams[\"figure.figsize\"] = (10, 7)"
   ]
  },
  {
   "cell_type": "markdown",
   "metadata": {
    "tags": []
   },
   "source": [
    "<a id=\"two\"></a>\n",
    "## 2. Data\n",
    "<a href=#linkup>Back to Table of Contents</a>\n",
    "\n",
    "---\n",
    "    \n",
    "## <center>| ⚡ Description ⚡ |\n",
    "\n",
    "**<center>Loading data into DataFrame.<center>**\n",
    "\n",
    "---"
   ]
  },
  {
   "cell_type": "code",
   "execution_count": 37,
   "metadata": {
    "tags": []
   },
   "outputs": [
    {
     "data": {
      "text/html": [
       "<div>\n",
       "<style scoped>\n",
       "    .dataframe tbody tr th:only-of-type {\n",
       "        vertical-align: middle;\n",
       "    }\n",
       "\n",
       "    .dataframe tbody tr th {\n",
       "        vertical-align: top;\n",
       "    }\n",
       "\n",
       "    .dataframe thead th {\n",
       "        text-align: right;\n",
       "    }\n",
       "</style>\n",
       "<table border=\"1\" class=\"dataframe\">\n",
       "  <thead>\n",
       "    <tr style=\"text-align: right;\">\n",
       "      <th></th>\n",
       "      <th>lang_id</th>\n",
       "      <th>text</th>\n",
       "    </tr>\n",
       "  </thead>\n",
       "  <tbody>\n",
       "    <tr>\n",
       "      <th>0</th>\n",
       "      <td>xho</td>\n",
       "      <td>umgaqo-siseko wenza amalungiselelo kumaziko axhasa ulawulo lwesininzi kunye nokuthath inxaxheba kwabafazi ezi ziquka phakathi kwezinye zazo ikomishoni yokulingana ngokwesini ikomishoni yamalungelo oluntu lomzantsi afrika</td>\n",
       "    </tr>\n",
       "    <tr>\n",
       "      <th>1</th>\n",
       "      <td>xho</td>\n",
       "      <td>i-dha iya kuba nobulumko bokubeka umsebenzi naphi na kwisebe ngokusekwe kwiimfuno zokusebenza zalo emva kokubonana nomsebenzi kunye okanye imanyano yakhe ukuba ulandulo lomntu onjalo alufanelekanga i-dha mayibize uncedo olufanelekileyo elungelweni layo</td>\n",
       "    </tr>\n",
       "    <tr>\n",
       "      <th>2</th>\n",
       "      <td>eng</td>\n",
       "      <td>the province of kwazulu-natal department of transport invites tenders from established contractors experienced in bridge construction for the construction of the kwajolwayo tugela river pedestrian bridge near tugela ferry the duration of the project will be months</td>\n",
       "    </tr>\n",
       "    <tr>\n",
       "      <th>3</th>\n",
       "      <td>nso</td>\n",
       "      <td>o netefatša gore o ba file dilo ka moka tše le dumelelanego ka tšona mohlala maleri a magolo a a šomišwago go fihlelela meagong e metelele scaffolds a a bolokegilego lefelo la maleba la go šomela go phela gabotse bjbj</td>\n",
       "    </tr>\n",
       "    <tr>\n",
       "      <th>4</th>\n",
       "      <td>ven</td>\n",
       "      <td>khomishini ya ndinganyiso ya mbeu yo ewa maana u ya nga mulayo wa khomishini ya ndinganyiso ya mbeu u thetshelesa mbilaelo dzine dza tshimbilelana na tshialula u ya nga mbeu nahone i ivhea sa foramu ya thungo u ya nga mulayo wa ndinganyiso</td>\n",
       "    </tr>\n",
       "  </tbody>\n",
       "</table>\n",
       "</div>"
      ],
      "text/plain": [
       "  lang_id  \\\n",
       "0     xho   \n",
       "1     xho   \n",
       "2     eng   \n",
       "3     nso   \n",
       "4     ven   \n",
       "\n",
       "                                                                                                                                                                                                                                                                       text  \n",
       "0                                              umgaqo-siseko wenza amalungiselelo kumaziko axhasa ulawulo lwesininzi kunye nokuthath inxaxheba kwabafazi ezi ziquka phakathi kwezinye zazo ikomishoni yokulingana ngokwesini ikomishoni yamalungelo oluntu lomzantsi afrika  \n",
       "1              i-dha iya kuba nobulumko bokubeka umsebenzi naphi na kwisebe ngokusekwe kwiimfuno zokusebenza zalo emva kokubonana nomsebenzi kunye okanye imanyano yakhe ukuba ulandulo lomntu onjalo alufanelekanga i-dha mayibize uncedo olufanelekileyo elungelweni layo  \n",
       "2  the province of kwazulu-natal department of transport invites tenders from established contractors experienced in bridge construction for the construction of the kwajolwayo tugela river pedestrian bridge near tugela ferry the duration of the project will be months  \n",
       "3                                                 o netefatša gore o ba file dilo ka moka tše le dumelelanego ka tšona mohlala maleri a magolo a a šomišwago go fihlelela meagong e metelele scaffolds a a bolokegilego lefelo la maleba la go šomela go phela gabotse bjbj  \n",
       "4                           khomishini ya ndinganyiso ya mbeu yo ewa maana u ya nga mulayo wa khomishini ya ndinganyiso ya mbeu u thetshelesa mbilaelo dzine dza tshimbilelana na tshialula u ya nga mbeu nahone i ivhea sa foramu ya thungo u ya nga mulayo wa ndinganyiso  "
      ]
     },
     "execution_count": 37,
     "metadata": {},
     "output_type": "execute_result"
    }
   ],
   "source": [
    "# load data\n",
    "\n",
    "lang = pd.read_csv(\"data/train_set.csv\")\n",
    "lang.head()"
   ]
  },
  {
   "cell_type": "markdown",
   "metadata": {
    "tags": []
   },
   "source": [
    "<a id=\"three\"></a>\n",
    "## 3. Data Description\n",
    "<a href=#linkup>Back to Table of Contents</a>\n",
    "\n",
    "---\n",
    "    \n",
    "## <center>| ⚡ Description ⚡ |\n",
    "\n",
    "The data is in the form Language ID, Text. The text is in various states of cleanliness. Some NLP techniques will be necessary to clean up the data.\n",
    "\n",
    "**File descriptions**\n",
    "\n",
    "    train_set.csv - the training set\n",
    "    test_set.csv - the test set\n",
    "    sample_submission.csv - a sample submission file in the correct format\n",
    "\n",
    "**Language IDs**\n",
    "\n",
    "    afr - Afrikaans\n",
    "    eng - English\n",
    "    nbl - isiNdebele\n",
    "    nso - Sepedi\n",
    "    sot - Sesotho\n",
    "    ssw - siSwati\n",
    "    tsn - Setswana\n",
    "    tso - Xitsonga\n",
    "    ven - Tshivenda\n",
    "    xho - isiXhosa\n",
    "    zul - isiZulu\n",
    "    \n",
    "---"
   ]
  },
  {
   "cell_type": "code",
   "execution_count": 38,
   "metadata": {},
   "outputs": [],
   "source": [
    "# create copy to describe data\n",
    "\n",
    "describe = lang.copy()"
   ]
  },
  {
   "cell_type": "code",
   "execution_count": 39,
   "metadata": {
    "tags": []
   },
   "outputs": [
    {
     "data": {
      "text/plain": [
       "(33000, 2)"
      ]
     },
     "execution_count": 39,
     "metadata": {},
     "output_type": "execute_result"
    }
   ],
   "source": [
    "# observe data size\n",
    "\n",
    "describe.shape"
   ]
  },
  {
   "cell_type": "code",
   "execution_count": 40,
   "metadata": {},
   "outputs": [
    {
     "name": "stdout",
     "output_type": "stream",
     "text": [
      "['xho', 'eng', 'nso', 'ven', 'tsn', 'nbl', 'zul', 'ssw', 'tso', 'sot', 'afr'] 11\n"
     ]
    }
   ],
   "source": [
    "languages = list(describe[\"lang_id\"].unique())\n",
    "print(languages, len(languages))"
   ]
  },
  {
   "cell_type": "code",
   "execution_count": 41,
   "metadata": {},
   "outputs": [
    {
     "data": {
      "image/png": "[encoded data removed]",
      "text/plain": [
       "<Figure size 720x504 with 1 Axes>"
      ]
     },
     "metadata": {},
     "output_type": "display_data"
    }
   ],
   "source": [
    "heights = []\n",
    "for i in languages:\n",
    "    new = describe[describe[\"lang_id\"]==i]\n",
    "    heights.append(len(new))\n",
    "\n",
    "plt.barh(languages,heights,color=\"blue\")\n",
    "plt.yticks(languages)\n",
    "plt.ylabel(\"# of observations\")\n",
    "plt.legend([\"text\"])\n",
    "plt.show()"
   ]
  },
  {
   "cell_type": "code",
   "execution_count": 42,
   "metadata": {},
   "outputs": [],
   "source": [
    "# function to create wordcloud; word representation of data\n",
    "\n",
    "def grey_color_func(word, font_size, position,orientation,random_state=None, **kwargs):\n",
    "    # callable function for wordcloud.color_func that overwrites colormap and returns a PIL color for each word\n",
    "    return(\"hsl(0, 100%%, %d%%)\" % 100) # change values to set color need in hsl format\n",
    "\n",
    "def wordcloud_draw(data, color=\"black\", max_font_size=100, figure_size=(12, 12), title = None, title_size=30, image_color=True):\n",
    "    \"\"\" \n",
    "    Takes in one DataFrame as data\n",
    "\n",
    "            Parameters\n",
    "            ----------\n",
    "            color: str\n",
    "                Background color of output\n",
    "                \n",
    "            max_font_size: int\n",
    "                Smallest font size to use. Will stop when there is no more room in this size\n",
    "                \n",
    "            figure_size: int tuple\n",
    "                output size\n",
    "                \n",
    "            title: str\n",
    "                wordcloud title\n",
    "                \n",
    "            title_size: int\n",
    "                font size of title\n",
    "\n",
    "            image_color: bool\n",
    "                if True, display word with different colors\n",
    "                elif False, display all words in white\n",
    "\n",
    "            Returns\n",
    "            -------\n",
    "            Wordcloud\n",
    "    \"\"\"\n",
    "    words = \" \".join(data)\n",
    "    cleaned_word = \" \".join([word for word in words.split()])\n",
    "    wordcloud = WordCloud(background_color=color,\n",
    "                      width=1500,\n",
    "                      height=1000,\n",
    "                      random_state=42,\n",
    "                      max_font_size = max_font_size\n",
    "                     ).generate(cleaned_word)\n",
    "    \n",
    "    plt.figure(figsize=figure_size)\n",
    "    if image_color:\n",
    "        plt.imshow(wordcloud);\n",
    "        plt.title(title, fontdict={\"size\": title_size, \"color\": \"black\", \n",
    "                                  \"verticalalignment\": \"bottom\"})\n",
    "    else:\n",
    "        plt.imshow(wordcloud.recolor(color_func=grey_color_func), interpolation=\"bilinear\");\n",
    "        plt.title(title, fontdict={\"size\": title_size,  \n",
    "                                  \"verticalalignment\": \"bottom\"})\n",
    "    plt.axis(\"off\");\n",
    "    plt.tight_layout()"
   ]
  },
  {
   "cell_type": "code",
   "execution_count": 43,
   "metadata": {},
   "outputs": [],
   "source": [
    "wordcloud_draw(describe[\"text\"], color=\"black\", max_font_size=100, figure_size=(12, 12), title_size=30, title=\"Words in South African Languages\")"
   ]
  },
  {
   "cell_type": "markdown",
   "metadata": {},
   "source": [
    "<a id=\"four\"></a>\n",
    "## 4. Data Cleaning\n",
    "<a href=#linkup>Back to Table of Contents</a>\n",
    "\n",
    "---\n",
    "    \n",
    "## <center>| ⚡ Description ⚡ |\n",
    "\n",
    "**<center>Cleaning the Data.<center>**\n",
    "\n",
    "---"
   ]
  },
  {
   "cell_type": "code",
   "execution_count": null,
   "metadata": {},
   "outputs": [],
   "source": [
    "# create copy to clean data\n",
    "\n",
    "clean = describe.copy()"
   ]
  },
  {
   "cell_type": "code",
   "execution_count": null,
   "metadata": {},
   "outputs": [],
   "source": [
    "# function to remove punctuation, numbers andchange uppercase to lower\n",
    "\n",
    "def remove_punctuation_numbers_caps(message):\n",
    "    punc_numbers = string.punctuation + \"0123456789\"\n",
    "    return \"\".join([l.lower() for l in message if (l not in punc_numbers) or (len(l)>=3)])\n",
    "\n",
    "clean[\"text\"] = clean[\"text\"].apply(remove_punctuation_numbers_caps)"
   ]
  },
  {
   "cell_type": "code",
   "execution_count": null,
   "metadata": {},
   "outputs": [
    {
     "data": {
      "text/html": [
       "<div>\n",
       "<style scoped>\n",
       "    .dataframe tbody tr th:only-of-type {\n",
       "        vertical-align: middle;\n",
       "    }\n",
       "\n",
       "    .dataframe tbody tr th {\n",
       "        vertical-align: top;\n",
       "    }\n",
       "\n",
       "    .dataframe thead th {\n",
       "        text-align: right;\n",
       "    }\n",
       "</style>\n",
       "<table border=\"1\" class=\"dataframe\">\n",
       "  <thead>\n",
       "    <tr style=\"text-align: right;\">\n",
       "      <th></th>\n",
       "      <th>lang_id</th>\n",
       "      <th>text</th>\n",
       "    </tr>\n",
       "  </thead>\n",
       "  <tbody>\n",
       "    <tr>\n",
       "      <th>0</th>\n",
       "      <td>xho</td>\n",
       "      <td>umgaqosiseko wenza amalungiselelo kumaziko axhasa ulawulo lwesininzi kunye nokuthath inxaxheba kwabafazi ezi ziquka phakathi kwezinye zazo ikomishoni yokulingana ngokwesini ikomishoni yamalungelo oluntu lomzantsi afrika</td>\n",
       "    </tr>\n",
       "    <tr>\n",
       "      <th>1</th>\n",
       "      <td>xho</td>\n",
       "      <td>idha iya kuba nobulumko bokubeka umsebenzi naphi na kwisebe ngokusekwe kwiimfuno zokusebenza zalo emva kokubonana nomsebenzi kunye okanye imanyano yakhe ukuba ulandulo lomntu onjalo alufanelekanga idha mayibize uncedo olufanelekileyo elungelweni layo</td>\n",
       "    </tr>\n",
       "    <tr>\n",
       "      <th>2</th>\n",
       "      <td>eng</td>\n",
       "      <td>the province of kwazulunatal department of transport invites tenders from established contractors experienced in bridge construction for the construction of the kwajolwayo tugela river pedestrian bridge near tugela ferry the duration of the project will be months</td>\n",
       "    </tr>\n",
       "    <tr>\n",
       "      <th>3</th>\n",
       "      <td>nso</td>\n",
       "      <td>o netefatša gore o ba file dilo ka moka tše le dumelelanego ka tšona mohlala maleri a magolo a a šomišwago go fihlelela meagong e metelele scaffolds a a bolokegilego lefelo la maleba la go šomela go phela gabotse bjbj</td>\n",
       "    </tr>\n",
       "    <tr>\n",
       "      <th>4</th>\n",
       "      <td>ven</td>\n",
       "      <td>khomishini ya ndinganyiso ya mbeu yo ewa maana u ya nga mulayo wa khomishini ya ndinganyiso ya mbeu u thetshelesa mbilaelo dzine dza tshimbilelana na tshialula u ya nga mbeu nahone i ivhea sa foramu ya thungo u ya nga mulayo wa ndinganyiso</td>\n",
       "    </tr>\n",
       "  </tbody>\n",
       "</table>\n",
       "</div>"
      ],
      "text/plain": [
       "  lang_id  \\\n",
       "0     xho   \n",
       "1     xho   \n",
       "2     eng   \n",
       "3     nso   \n",
       "4     ven   \n",
       "\n",
       "                                                                                                                                                                                                                                                                      text  \n",
       "0                                              umgaqosiseko wenza amalungiselelo kumaziko axhasa ulawulo lwesininzi kunye nokuthath inxaxheba kwabafazi ezi ziquka phakathi kwezinye zazo ikomishoni yokulingana ngokwesini ikomishoni yamalungelo oluntu lomzantsi afrika  \n",
       "1               idha iya kuba nobulumko bokubeka umsebenzi naphi na kwisebe ngokusekwe kwiimfuno zokusebenza zalo emva kokubonana nomsebenzi kunye okanye imanyano yakhe ukuba ulandulo lomntu onjalo alufanelekanga idha mayibize uncedo olufanelekileyo elungelweni layo  \n",
       "2  the province of kwazulunatal department of transport invites tenders from established contractors experienced in bridge construction for the construction of the kwajolwayo tugela river pedestrian bridge near tugela ferry the duration of the project will be months  \n",
       "3                                                o netefatša gore o ba file dilo ka moka tše le dumelelanego ka tšona mohlala maleri a magolo a a šomišwago go fihlelela meagong e metelele scaffolds a a bolokegilego lefelo la maleba la go šomela go phela gabotse bjbj  \n",
       "4                          khomishini ya ndinganyiso ya mbeu yo ewa maana u ya nga mulayo wa khomishini ya ndinganyiso ya mbeu u thetshelesa mbilaelo dzine dza tshimbilelana na tshialula u ya nga mbeu nahone i ivhea sa foramu ya thungo u ya nga mulayo wa ndinganyiso  "
      ]
     },
     "execution_count": 14,
     "metadata": {},
     "output_type": "execute_result"
    }
   ],
   "source": [
    "clean.head()"
   ]
  },
  {
   "cell_type": "code",
   "execution_count": null,
   "metadata": {},
   "outputs": [],
   "source": [
    "# function to interactively display most Common words in data\n",
    "\n",
    "def common_words(data, word_qty=30, arrange=\"Least\", file=None, style_seen=None):\n",
    "    \"\"\" \n",
    "    Takes in column from DataFrame as data\n",
    "\n",
    "            Parameters\n",
    "            ----------\n",
    "            word_qty: int\n",
    "                Number of words to display\n",
    "                \n",
    "            arrange: str\n",
    "                if Least, display least occuring words\n",
    "                elif Most, display most occuring words\n",
    "\n",
    "            fike: str\n",
    "                path to save output + file name without extension\n",
    "                e.g. \"home/resource/file_name\"\n",
    "\n",
    "            style_seen: str\n",
    "                if None, output interactive display\n",
    "                if \"png\" or \"jpeg\", output static display\n",
    "\n",
    "            Returns\n",
    "            -------\n",
    "            interactive plot display\n",
    "    \"\"\"\n",
    "    df = data.apply(lambda x:str(x).split())\n",
    "    top = Counter([item for sublist in df for item in sublist])\n",
    "    if \"Least\" in arrange:\n",
    "        temp = pd.DataFrame(top.most_common()[::-1])[:word_qty]\n",
    "    elif \"Most\" in arrange:\n",
    "        temp = pd.DataFrame(top.most_common())[:word_qty]\n",
    "    temp.columns = [\"common_words\",\"count\"]\n",
    "    temp.style.background_gradient(cmap=\"Blues\")\n",
    "    fig = px.bar(temp, x=\"count\", y=\"common_words\", title=arrange+\" Commmon Words in South Africa\",\n",
    "                orientation=\"h\", width=700, height=700,color=\"common_words\")\n",
    "    if file:\n",
    "        fig.write_html(file+\".html\")\n",
    "        fig.write_image(file+\".png\")\n",
    "    return fig.show(style_seen)"
   ]
  },
  {
   "cell_type": "code",
   "execution_count": null,
   "metadata": {},
   "outputs": [
    {
     "data": {
      "image/png": "[encoded data removed]"
     },
     "metadata": {},
     "output_type": "display_data"
    }
   ],
   "source": [
    "common_words(clean[\"text\"], 30, arrange=\"Most\", file=\"plot/SA_words\", style_seen=\"png\")"
   ]
  },
  {
   "cell_type": "markdown",
   "metadata": {
    "tags": []
   },
   "source": [
    "<a id=\"five\"></a>\n",
    "## 5. Model Files\n",
    "<a href=#linkup>Back to Table of Contents</a>\n",
    "\n",
    "---\n",
    "    \n",
    "## <center>| ⚡ Description ⚡ |\n",
    "\n",
    "**<center>Preparing data to train model with.<center>**\n",
    "\n",
    "---"
   ]
  },
  {
   "cell_type": "code",
   "execution_count": null,
   "metadata": {},
   "outputs": [],
   "source": [
    "# create copy to prepare data\n",
    "\n",
    "prepare = clean.copy()"
   ]
  },
  {
   "cell_type": "code",
   "execution_count": null,
   "metadata": {},
   "outputs": [],
   "source": [
    "# split into feature(text) and label(language)\n",
    "\n",
    "text = prepare[\"text\"]\n",
    "language = prepare[\"lang_id\"]"
   ]
  },
  {
   "cell_type": "code",
   "execution_count": null,
   "metadata": {},
   "outputs": [],
   "source": [
    "train_features, test_features, train_labels, test_labels = train_test_split(text, language, test_size=0.2, random_state=5, stratify=language)"
   ]
  },
  {
   "cell_type": "code",
   "execution_count": null,
   "metadata": {},
   "outputs": [
    {
     "data": {
      "image/png": "[encoded data removed]",
      "text/plain": [
       "<Figure size 720x504 with 1 Axes>"
      ]
     },
     "metadata": {},
     "output_type": "display_data"
    }
   ],
   "source": [
    "# plot split across languages\n",
    "\n",
    "unique, counts = np.unique(train_labels, return_counts=True)\n",
    "plt.bar(unique, counts, color=\"blue\")\n",
    "unique, counts = np.unique(test_labels, return_counts=True)\n",
    "plt.bar(unique, counts, color=\"lightblue\")\n",
    "\n",
    "plt.title(\"Split Frequency\")\n",
    "plt.xlabel(\"lang_id\")\n",
    "plt.ylabel(\"Frequency\")\n",
    "plt.xticks(languages)\n",
    "plt.legend([\"train\", \"test\"])\n",
    "\n",
    "plt.show()"
   ]
  },
  {
   "cell_type": "markdown",
   "metadata": {},
   "source": [
    " <a id=\"six\"></a>\n",
    "## 6. Modelling\n",
    "<a href=#linkup>Back to Table of Contents</a>\n",
    "\n",
    "---\n",
    "    \n",
    "## <center>| ⚡ Description ⚡ |\n",
    "\n",
    "**<center>Developing model and evaluate accuracy.<center>**\n",
    "\n",
    "---"
   ]
  },
  {
   "cell_type": "markdown",
   "metadata": {
    "tags": []
   },
   "source": [
    "<a id=\"six_zero\"></a>\n",
    "### 6.0. Improve model\n",
    "\n",
    "<a href=#six>Back to Modelling</a>"
   ]
  },
  {
   "cell_type": "code",
   "execution_count": null,
   "metadata": {},
   "outputs": [],
   "source": [
    "# base vectorizers\n",
    "\n",
    "t_vectorizer = TfidfVectorizer(ngram_range=(1,3), analyzer=\"char\")\n",
    "\n",
    "c_vectorizer = CountVectorizer(analyzer='char', stop_words=None, ngram_range=(1,3))"
   ]
  },
  {
   "cell_type": "code",
   "execution_count": null,
   "metadata": {},
   "outputs": [],
   "source": [
    "# build pipelines using base vectorisers individually with LogisticRegression, RandomForestClassifier, LinearSVC and MultinomialNB\n",
    "\n",
    "pipe_lr_t13 = Pipeline([\n",
    "    (\"vectorizer\", t_vectorizer),\n",
    "    (\"clf\", LogisticRegression(max_iter=3000))\n",
    "    ])\n",
    "\n",
    "pipe_rf_t13 = Pipeline([\n",
    "    (\"vectorizer\", t_vectorizer),\n",
    "    (\"clf\", RandomForestClassifier())\n",
    "    ])\n",
    "\n",
    "pipe_lscv_t13 = Pipeline([\n",
    "    (\"vectorizer\", t_vectorizer),\n",
    "    (\"clf\", LinearSVC(dual=False))\n",
    "    ])\n",
    "\n",
    "pipe_mnb_t13 = Pipeline([\n",
    "    (\"vectorizer\", t_vectorizer),\n",
    "    (\"clf\", MultinomialNB())\n",
    "    ])\n",
    "\n",
    "pipe_lr_c13 = Pipeline([\n",
    "    (\"vectorizer\", c_vectorizer),\n",
    "    (\"clf\", LogisticRegression(max_iter=3000))\n",
    "    ])\n",
    "\n",
    "pipe_rf_c13 = Pipeline([\n",
    "    (\"vectorizer\", c_vectorizer),\n",
    "    (\"clf\", RandomForestClassifier())\n",
    "    ])\n",
    "\n",
    "pipe_lscv_c13 = Pipeline([\n",
    "    (\"vectorizer\", c_vectorizer),\n",
    "    (\"clf\", LinearSVC(dual=False))\n",
    "    ])\n",
    "\n",
    "pipe_mnb_c13 = Pipeline([\n",
    "    (\"vectorizer\", c_vectorizer),\n",
    "    (\"clf\", MultinomialNB())\n",
    "    ])"
   ]
  },
  {
   "cell_type": "code",
   "execution_count": null,
   "metadata": {},
   "outputs": [],
   "source": [
    "# fit pipelines to train files\n",
    "\n",
    "print(\"fitting to pipeline 1.....\")\n",
    "pipe_lr_t13.fit(train_features, train_labels)\n",
    "\n",
    "print(\"fitting to pipeline 2.....\")\n",
    "pipe_rf_t13.fit(train_features, train_labels)\n",
    "\n",
    "print(\"fitting to pipeline 3.....\")\n",
    "pipe_lscv_t13.fit(train_features, train_labels)\n",
    "\n",
    "print(\"fitting to pipeline 4.....\")\n",
    "pipe_mnb_t13.fit(train_features, train_labels)\n",
    "\n",
    "print(\"fitting to pipeline 5.....\")\n",
    "pipe_lr_c13.fit(train_features, train_labels)\n",
    "\n",
    "print(\"fitting to pipeline 6.....\")\n",
    "pipe_rf_c13.fit(train_features, train_labels)\n",
    "\n",
    "print(\"fitting to pipeline 7.....\")\n",
    "pipe_lscv_c13.fit(train_features, train_labels)\n",
    "\n",
    "print(\"fitting to pipeline 8.....\")\n",
    "pipe_mnb_c13.fit(train_features, train_labels)"
   ]
  },
  {
   "cell_type": "code",
   "execution_count": null,
   "metadata": {},
   "outputs": [],
   "source": [
    "# predict using fitted pipelines\n",
    "\n",
    "print(\"predicting using pipeline 1.....\")\n",
    "y_pred_lr_t13 = pipe_lr_t13.predict(test_features)\n",
    "\n",
    "print(\"predicting using pipeline 2.....\")\n",
    "y_pred_rf_t13 = pipe_rf_t13.predict(test_features)\n",
    "\n",
    "print(\"predicting using pipeline 3.....\")\n",
    "y_pred_lscv_t13 = pipe_lscv_t13.predict(test_features)\n",
    "\n",
    "print(\"predicting using pipeline 4.....\")\n",
    "y_pred_mnb_t13 = pipe_mnb_t13.predict(test_features)\n",
    "\n",
    "print(\"predicting using pipeline 5.....\")\n",
    "y_pred_lr_c13 = pipe_lr_c13.predict(test_features)\n",
    "\n",
    "print(\"predicting using pipeline 6.....\")\n",
    "y_pred_rf_c13 = pipe_rf_c13.predict(test_features)\n",
    "\n",
    "print(\"predicting using pipeline 7.....\")\n",
    "y_pred_lscv_c13 = pipe_lscv_c13.predict(test_features)\n",
    "\n",
    "print(\"predicting using pipeline 8.....\")\n",
    "y_pred_mnb_c13 = pipe_mnb_c13.predict(test_features)"
   ]
  },
  {
   "cell_type": "code",
   "execution_count": null,
   "metadata": {},
   "outputs": [],
   "source": [
    "# accuracy scores of predicted values\n",
    "\n",
    "acc_lr_t13      = accuracy_score(test_labels, y_pred_lr_t13)\n",
    "acc_rf_t13      = accuracy_score(test_labels, y_pred_rf_t13)\n",
    "acc_lscv_t13    = accuracy_score(test_labels, y_pred_lscv_t13)\n",
    "acc_mnb_t13     = accuracy_score(test_labels, y_pred_mnb_t13)\n",
    "acc_lr_c13      = accuracy_score(test_labels, y_pred_lr_c13)\n",
    "acc_rf_c13      = accuracy_score(test_labels, y_pred_rf_c13)\n",
    "acc_lscv_c13    = accuracy_score(test_labels, y_pred_lscv_c13)\n",
    "acc_mnb_c13     = accuracy_score(test_labels, y_pred_mnb_c13)"
   ]
  },
  {
   "cell_type": "code",
   "execution_count": null,
   "metadata": {},
   "outputs": [],
   "source": [
    "# tabulate accuracy scores\n",
    "\n",
    "Model_Table = PrettyTable()\n",
    "Model_Table.field_names = [\" \", \"   Logistic Regression   \", \"   Random forest Classififier  \", \"     Linear SVC       \",\"   Multinomial Naive Bayes   \"]\n",
    "Model_Table.add_row([\"  TfidfVect  \", round(acc_lr_t13,5),round(acc_rf_t13,5),round(acc_lscv_t13,5),round(acc_mnb_t13,5)])\n",
    "Model_Table.add_row([\"  CountVect  \", round(acc_lr_c13,5),round(acc_rf_c13,5),round(acc_lscv_c13,5),round(acc_mnb_c13,5)])\n",
    "print(\"Performance of all models:\")\n",
    "print(Model_Table)"
   ]
  },
  {
   "cell_type": "code",
   "execution_count": null,
   "metadata": {},
   "outputs": [],
   "source": [
    "# include scaler to pipeline steps using top models and change analyzer to \"char_wb\"; limiting ngram selection to word length\n",
    "\n",
    "pipe_mnb_t110_chw_maxab = Pipeline([\n",
    "    (\"vectorizer\", TfidfVectorizer(ngram_range=(1,10), analyzer=\"char_wb\")),\n",
    "    ('scaler', MaxAbsScaler()),\n",
    "    (\"clf\", MultinomialNB())\n",
    "    ])\n",
    "\n",
    "pipe_lscv_t110_chw_maxab = Pipeline([\n",
    "    (\"vectorizer\", TfidfVectorizer(ngram_range=(1,10), analyzer=\"char_wb\")),\n",
    "    ('scaler', MaxAbsScaler()),\n",
    "    (\"clf\", LinearSVC(dual=False))\n",
    "    ])"
   ]
  },
  {
   "cell_type": "code",
   "execution_count": null,
   "metadata": {},
   "outputs": [],
   "source": [
    "print(\"fitting to pipeline 9.....\")\n",
    "pipe_mnb_t110_chw_maxab.fit(train_features, train_labels)\n",
    "\n",
    "print(\"fitting to pipeline 10.....\")\n",
    "pipe_lscv_t110_chw_maxab.fit(train_features, train_labels)"
   ]
  },
  {
   "cell_type": "code",
   "execution_count": null,
   "metadata": {},
   "outputs": [],
   "source": [
    "print(\"predicting using pipeline 9.....\")\n",
    "y_pred_mnb_t110_chw_maxab = pipe_mnb_t110_chw_maxab.predict(test_features)\n",
    "\n",
    "print(\"predicting using pipeline 10.....\")\n",
    "y_pred_lscv_t110_chw_maxab = pipe_lscv_t110_chw_maxab.predict(test_features)"
   ]
  },
  {
   "cell_type": "code",
   "execution_count": null,
   "metadata": {},
   "outputs": [],
   "source": [
    "acc_mnb_t110_chw_maxab  = accuracy_score(test_labels, y_pred_mnb_t110_chw_maxab)\n",
    "acc_lscv_t110_chw_maxab = accuracy_score(test_labels, y_pred_lscv_t110_chw_maxab)\n",
    "\n",
    "acc_mnb_t110_chw_maxab, acc_lscv_t110_chw_maxab"
   ]
  },
  {
   "cell_type": "code",
   "execution_count": null,
   "metadata": {},
   "outputs": [],
   "source": [
    "# include a transformer step to pipeline\n",
    "\n",
    "pipe_mnb_t110_chw_tt_maxab = Pipeline([\n",
    "    (\"vectorizer\", TfidfVectorizer(ngram_range=(1,10), analyzer=\"char_wb\")),\n",
    "    (\"transformer\", TfidfTransformer(norm=\"l1\", sublinear_tf=True)),\n",
    "    ('scaler', MaxAbsScaler()),\n",
    "    (\"clf\", MultinomialNB())\n",
    "    ])\n",
    "\n",
    "pipe_mnb_c110_ch_tt_maxab = Pipeline([\n",
    "    (\"vectorizer\", CountVectorizer(ngram_range=(1,10), analyzer=\"char\")),\n",
    "    (\"transformer\", TfidfTransformer(norm=\"l1\", sublinear_tf=True)),\n",
    "    ('scaler', MaxAbsScaler()),\n",
    "    (\"clf\", MultinomialNB())\n",
    "    ])"
   ]
  },
  {
   "cell_type": "code",
   "execution_count": null,
   "metadata": {},
   "outputs": [],
   "source": [
    "print(\"fitting to pipeline 11.....\")\n",
    "pipe_mnb_t110_chw_tt_maxab.fit(train_features, train_labels)\n",
    "\n",
    "print(\"fitting to pipeline 12.....\")\n",
    "pipe_mnb_c110_ch_tt_maxab.fit(train_features, train_labels)"
   ]
  },
  {
   "cell_type": "code",
   "execution_count": null,
   "metadata": {},
   "outputs": [],
   "source": [
    "print(\"predicting using pipeline 11.....\")\n",
    "y_pred_mnb_t110_chw_tt_maxab = pipe_mnb_t110_chw_tt_maxab.predict(test_features)\n",
    "\n",
    "print(\"predicting using pipeline 12.....\")\n",
    "y_pred_mnb_c110_ch_tt_maxab = pipe_mnb_c110_ch_tt_maxab.predict(test_features)"
   ]
  },
  {
   "cell_type": "code",
   "execution_count": null,
   "metadata": {},
   "outputs": [],
   "source": [
    "acc_mnb_t110_chw_tt_maxab   = accuracy_score(test_labels, y_pred_mnb_t110_chw_tt_maxab)\n",
    "acc_mnb_c110_ch_tt_maxab    = accuracy_score(test_labels, y_pred_mnb_c110_ch_tt_maxab)\n",
    "\n",
    "acc_mnb_t110_chw_tt_maxab, acc_mnb_c110_ch_tt_maxab"
   ]
  },
  {
   "cell_type": "markdown",
   "metadata": {},
   "source": [
    "<a id=\"six_one\"></a>\n",
    "### 6.1. Model Performance\n",
    "\n",
    "<a href=#six>Back to Modelling</a>"
   ]
  },
  {
   "cell_type": "code",
   "execution_count": null,
   "metadata": {},
   "outputs": [],
   "source": [
    "# function to plot cunfusion matrix on sns heatmap + other details\n",
    "\n",
    "categories = np.unique(test_labels)\n",
    "\n",
    "def make_confusion_matrix(cf,\n",
    "                          group_names=None,\n",
    "                          categories='auto',\n",
    "                          count=True,\n",
    "                          percent=True,\n",
    "                          cbar=True,\n",
    "                          xyticks=True,\n",
    "                          xyplotlabels=True,\n",
    "                          sum_stats=True,\n",
    "                          figsize=None,\n",
    "                          cmap='Blues',\n",
    "                          title=None):\n",
    "    '''\n",
    "    This function will make a pretty plot of an sklearn Confusion Matrix cm using a Seaborn heatmap visualization.\n",
    "    Arguments\n",
    "    ---------\n",
    "    cf:            confusion matrix to be passed in\n",
    "    group_names:   List of strings that represent the labels row by row to be shown in each square.\n",
    "    categories:    List of strings containing the categories to be displayed on the x,y axis. Default is 'auto'\n",
    "    count:         If True, show the raw number in the confusion matrix. Default is True.\n",
    "    normalize:     If True, show the proportions for each category. Default is True.\n",
    "    cbar:          If True, show the color bar. The cbar values are based off the values in the confusion matrix.\n",
    "                   Default is True.\n",
    "    xyticks:       If True, show x and y ticks. Default is True.\n",
    "    xyplotlabels:  If True, show 'True Label' and 'Predicted Label' on the figure. Default is True.\n",
    "    sum_stats:     If True, display summary statistics below the figure. Default is True.\n",
    "    figsize:       Tuple representing the figure size. Default will be the matplotlib rcParams value.\n",
    "    cmap:          Colormap of the values displayed from matplotlib.pyplot.cm. Default is 'Blues'\n",
    "                   See http://matplotlib.org/examples/color/colormaps_reference.html\n",
    "                   \n",
    "    title:         Title for the heatmap. Default is None.\n",
    "    '''\n",
    "\n",
    "\n",
    "    # CODE TO GENERATE TEXT INSIDE EACH SQUARE\n",
    "    blanks = ['' for i in range(cf.size)]\n",
    "\n",
    "    if group_names and len(group_names)==cf.size:\n",
    "        group_labels = [\"{}\\n\".format(value) for value in group_names]\n",
    "    else:\n",
    "        group_labels = blanks\n",
    "\n",
    "    if count:\n",
    "        group_counts = [\"{0:0.0f}\\n\".format(value) for value in cf.flatten()]\n",
    "    else:\n",
    "        group_counts = blanks\n",
    "\n",
    "    if percent:\n",
    "        group_percentages = [\"{0:.2%}\".format(value) for value in cf.flatten()/np.sum(cf)]\n",
    "    else:\n",
    "        group_percentages = blanks\n",
    "\n",
    "    box_labels = [f\"{v1}{v2}{v3}\".strip() for v1, v2, v3 in zip(group_labels,group_counts,group_percentages)]\n",
    "    box_labels = np.asarray(box_labels).reshape(cf.shape[0],cf.shape[1])\n",
    "\n",
    "\n",
    "    # CODE TO GENERATE SUMMARY STATISTICS & TEXT FOR SUMMARY STATS\n",
    "    if sum_stats:\n",
    "        #Accuracy is sum of diagonal divided by total observations\n",
    "        accuracy  = np.trace(cf) / float(np.sum(cf))\n",
    "\n",
    "        #if it is a binary confusion matrix, show some more stats\n",
    "        if len(cf)==2:\n",
    "            #Metrics for Binary Confusion Matrices\n",
    "            precision = cf[1,1] / sum(cf[:,1])\n",
    "            recall    = cf[1,1] / sum(cf[1,:])\n",
    "            f1_score  = 2*precision*recall / (precision + recall)\n",
    "            stats_text = \"\\n\\nAccuracy={:0.3f}\\nPrecision={:0.3f}\\nRecall={:0.3f}\\nF1 Score={:0.3f}\".format(\n",
    "                accuracy,precision,recall,f1_score)\n",
    "        else:\n",
    "            stats_text = \"\\n\\nAccuracy={:0.3f}\".format(accuracy)\n",
    "    else:\n",
    "        stats_text = \"\"\n",
    "\n",
    "\n",
    "    # SET FIGURE PARAMETERS ACCORDING TO OTHER ARGUMENTS\n",
    "    if figsize==None:\n",
    "        #Get default figure size if not set\n",
    "        figsize = plt.rcParams.get('figure.figsize')\n",
    "\n",
    "    if xyticks==False:\n",
    "        #Do not show categories if xyticks is False\n",
    "        categories=False\n",
    "\n",
    "\n",
    "    # MAKE THE HEATMAP VISUALIZATION\n",
    "    plt.figure(figsize=figsize)\n",
    "    sns.heatmap(cf,annot=box_labels,fmt=\"\",cmap=cmap,cbar=cbar,xticklabels=categories,yticklabels=categories)\n",
    "    plt.yticks(rotation=0)\n",
    "\n",
    "    if xyplotlabels:\n",
    "        plt.ylabel('True label')\n",
    "        plt.xlabel('Predicted label' + stats_text)\n",
    "    else:\n",
    "        plt.xlabel(stats_text)\n",
    "    \n",
    "    if title:\n",
    "        plt.title(title)"
   ]
  },
  {
   "cell_type": "markdown",
   "metadata": {},
   "source": [
    "Function reference: **[make_confusion_matrix](https://github.com/DTrimarchi10/confusion_matrix)**"
   ]
  },
  {
   "cell_type": "code",
   "execution_count": null,
   "metadata": {},
   "outputs": [],
   "source": [
    "y_pred = y_pred_mnb_c110_ch_tt_maxab.copy()"
   ]
  },
  {
   "cell_type": "code",
   "execution_count": null,
   "metadata": {},
   "outputs": [],
   "source": [
    "matrix = confusion_matrix(test_labels, y_pred)\n",
    "acc = accuracy_score(test_labels, y_pred)\n",
    "acc"
   ]
  },
  {
   "cell_type": "code",
   "execution_count": null,
   "metadata": {},
   "outputs": [],
   "source": [
    "make_confusion_matrix(matrix,\n",
    "                      categories=categories, \n",
    "                      figsize=(16,10))"
   ]
  },
  {
   "cell_type": "markdown",
   "metadata": {
    "tags": []
   },
   "source": [
    "<a id=\"six_three\"></a>\n",
    "### 6.3. Kaggle Submission\n",
    "\n",
    "<a href=#six>Back to Modelling</a>"
   ]
  },
  {
   "cell_type": "code",
   "execution_count": null,
   "metadata": {},
   "outputs": [],
   "source": [
    "# load data unseen by model\n",
    "\n",
    "unseen = pd.read_csv(\"data/test_set.csv\")\n",
    "unseen.head()"
   ]
  },
  {
   "cell_type": "code",
   "execution_count": null,
   "metadata": {},
   "outputs": [],
   "source": [
    "unseen.shape"
   ]
  },
  {
   "cell_type": "code",
   "execution_count": null,
   "metadata": {},
   "outputs": [],
   "source": [
    "# preprocess unseen data as train data\n",
    "\n",
    "unseen[\"text\"] = unseen[\"text\"].apply(remove_punctuation_numbers_caps)"
   ]
  },
  {
   "cell_type": "code",
   "execution_count": null,
   "metadata": {},
   "outputs": [],
   "source": [
    "# chosen model\n",
    "\n",
    "model = Pipeline([\n",
    "    (\"vectorizer\", CountVectorizer(ngram_range=(1,10), analyzer=\"char\")),\n",
    "    (\"transformer\", TfidfTransformer(norm=\"l1\", sublinear_tf=True)),\n",
    "    ('scaler', MaxAbsScaler()),\n",
    "    (\"clf\", MultinomialNB())\n",
    "    ])"
   ]
  },
  {
   "cell_type": "code",
   "execution_count": null,
   "metadata": {},
   "outputs": [],
   "source": [
    "# data preprocessing\n",
    "\n",
    "model.fit(text, language)"
   ]
  },
  {
   "cell_type": "code",
   "execution_count": null,
   "metadata": {},
   "outputs": [],
   "source": [
    "# predict lang_id of unseen data\n",
    "\n",
    "unseen_prediction = model.predict(unseen[\"text\"])\n",
    "len(unseen_prediction)"
   ]
  },
  {
   "cell_type": "code",
   "execution_count": null,
   "metadata": {},
   "outputs": [],
   "source": [
    "# create submission DataFrame according to template provided\n",
    "\n",
    "unseen_series = pd.Series(unseen_prediction)\n",
    "pred = unseen_series.to_frame()\n",
    "pred = pred.rename(columns = {0:\"lang_id\"})\n",
    "sub_df = pd.read_csv(\"data/test_set.csv\")[[\"index\"]]\n",
    "sub_df2 = sub_df.join(other = pred)\n",
    "sub_df2.head()"
   ]
  },
  {
   "cell_type": "code",
   "execution_count": null,
   "metadata": {},
   "outputs": [
    {
     "ename": "SyntaxError",
     "evalue": "invalid syntax (3848666601.py, line 1)",
     "output_type": "error",
     "traceback": [
      "\u001b[1;36m  Input \u001b[1;32mIn [29]\u001b[1;36m\u001b[0m\n\u001b[1;33m    check unique lang_id inprediction\u001b[0m\n\u001b[1;37m          ^\u001b[0m\n\u001b[1;31mSyntaxError\u001b[0m\u001b[1;31m:\u001b[0m invalid syntax\n"
     ]
    }
   ],
   "source": [
    "# check unique lang_id inprediction\n",
    "\n",
    "languages = list(sub_df2[\"lang_id\"].unique())\n",
    "print(languages, len(languages))"
   ]
  },
  {
   "cell_type": "code",
   "execution_count": null,
   "metadata": {},
   "outputs": [],
   "source": [
    "sub_df2.to_csv(\"submission/sub_pipe_mnb_c110_ch_tt_maxab.csv\", index=False)"
   ]
  },
  {
   "cell_type": "markdown",
   "metadata": {
    "jp-MarkdownHeadingCollapsed": true,
    "tags": []
   },
   "source": [
    " <a id=\"seven\"></a>\n",
    "## 7. End Comet Experiment\n",
    "<a href=#linkup>Back to Table of Contents</a>\n",
    "\n",
    "---\n",
    "    \n",
    "## <center>| ⚡ Description ⚡ |\n",
    "\n",
    "**<center>Create logs and ending experiment.<center>**\n",
    "\n",
    "---"
   ]
  },
  {
   "cell_type": "code",
   "execution_count": null,
   "metadata": {
    "id": "-1kDE76cGRSd"
   },
   "outputs": [],
   "source": [
    "# Create dictionaries for data to be logged\n",
    "\n",
    "params = {\"clean\": \"punc_num_cap\",\n",
    "          \"resample\": False,\n",
    "          \"vectorizer\": \"CountVectorizer(ngram_range=(1,10), analyzer='char')\",\n",
    "          \"transformer\": \"TfidfTransformer(norm='l1', sublinear_tf=True)\",\n",
    "          \"scaler\": \"MaxAbsScaler\",\n",
    "          \"test size\": 0.2,\n",
    "          \"stratify\": True,\n",
    "          \"split_random_state\": 5,\n",
    "          \"model_type\": \"MultinomialNB()\"\n",
    "          }\n",
    "metrics_score = {\"acuracy\": acc\n",
    "           }"
   ]
  },
  {
   "cell_type": "code",
   "execution_count": null,
   "metadata": {
    "id": "oun_B6m5GXEz"
   },
   "outputs": [],
   "source": [
    "# Log our parameters and results\n",
    "\n",
    "experiment.log_parameters(params)\n",
    "experiment.log_metrics(metrics_score)\n",
    "experiment.log_confusion_matrix(test_labels, y_pred)"
   ]
  },
  {
   "cell_type": "code",
   "execution_count": null,
   "metadata": {
    "colab": {
     "base_uri": "https://localhost:8080/",
     "height": 269
    },
    "id": "CbQ3tKA-G6rW",
    "outputId": "d5818c72-cc5b-4c51-d4ef-cea92962f19f"
   },
   "outputs": [],
   "source": [
    "experiment.end()"
   ]
  },
  {
   "cell_type": "code",
   "execution_count": null,
   "metadata": {
    "colab": {
     "base_uri": "https://localhost:8080/",
     "height": 821
    },
    "id": "B-5ZmY-ZHFRf",
    "outputId": "4ea3e2c5-783d-49af-e71e-aaa59e63ea18"
   },
   "outputs": [],
   "source": [
    "# experiment.display()"
   ]
  }
 ],
 "metadata": {
  "colab": {
   "collapsed_sections": [],
   "name": "sklearn_comet_starter_notebook.ipynb",
   "provenance": []
  },
  "kernelspec": {
   "display_name": "Python 3.10.4 64-bit",
   "language": "python",
   "name": "python3"
  },
  "language_info": {
   "codemirror_mode": {
    "name": "ipython",
    "version": 3
   },
   "file_extension": ".py",
   "mimetype": "text/x-python",
   "name": "python",
   "nbconvert_exporter": "python",
   "pygments_lexer": "ipython3",
   "version": "3.10.4"
  },
  "vscode": {
   "interpreter": {
    "hash": "369f2c481f4da34e4445cda3fffd2e751bd1c4d706f27375911949ba6bb62e1c"
   }
  },
  "widgets": {
   "application/vnd.jupyter.widget-state+json": {
    "state": {},
    "version_major": 2,
    "version_minor": 0
   }
  }
 },
 "nbformat": 4,
 "nbformat_minor": 4
}
