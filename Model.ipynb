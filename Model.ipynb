{
 "cells": [
  {
   "cell_type": "markdown",
   "metadata": {
    "ExecuteTime": {
     "end_time": "2021-06-11T09:24:53.643384Z",
     "start_time": "2021-06-11T09:24:53.622385Z"
    }
   },
   "source": [
    "# South African Language Identification Hack 2022\n",
    "\n",
    "© Tosin Adebowale"
   ]
  },
  {
   "cell_type": "markdown",
   "metadata": {
    "tags": []
   },
   "source": [
    "<a id=\"shorthand\"></a>\n",
    "\n",
    "## Table of Contents\n",
    "\n",
    "<a href=#zero>0. Comet</a>\n",
    "\n",
    "<a href=#one>1. Packages</a>\n",
    "\n",
    "<a href=#two>2. Data</a>\n",
    "\n",
    "<a href=#three>3. Data Description</a>\n",
    "\n",
    "<a href=#four>4. Data Cleaning</a>\n",
    "\n",
    "* <a href=#four_zero>4.0. General data cleaning</a>\n",
    "\n",
    "* <a href=#four_one>4.1. StopWords</a>\n",
    "\n",
    "* <a href=#four_two>4.2. Tokenisation</a>\n",
    "\n",
    "* <a href=#four_three>4.3. Stemming</a>\n",
    "\n",
    "* <a href=#four_four>4.4. Lemmatization</a>\n",
    "\n",
    "* <a href=#four_five>4.5. Resampling</a>\n",
    "\n",
    "<a href=#five>5. Model Files</a>\n",
    "\n",
    "* <a href=#five_zero>5.0. Prepare features</a>\n",
    "\n",
    "* <a href=#five_one>5.1. Scaling features</a>\n",
    "\n",
    "* <a href=#five_two>5.2. Prepare label</a>\n",
    "\n",
    "* <a href=#five_three>5.3. Train_Test_Split</a>\n",
    "\n",
    "<a href=#six>6. Modelling</a>\n",
    "\n",
    "* <a href=#six_zero>6.0. Improve model individually</a>\n",
    "\n",
    "* <a href=#six_one>6.1. Model Performance</a>\n",
    "\n",
    "* <a href=#six_two>6.2. Run all models</a>\n",
    "\n",
    "* <a href=#six_three>6.3. Kaggle Submission</a>\n",
    "\n",
    "<a href=#seven>7. End Comet Experiment</a>\n",
    "\n",
    "<a href=#eight>8. Extra</a>"
   ]
  },
  {
   "cell_type": "markdown",
   "metadata": {},
   "source": [
    "<a id=\"zero\"></a>\n",
    "## 0. Comet\n",
    "<a href=#shorthand>Back to Table of Contents</a>\n",
    "\n",
    "---\n",
    "    \n",
    "## <center>| ⚡ Description ⚡ |\n",
    "\n",
    "**<center>Importing comet and and setting up experiments.<center>**\n",
    "\n",
    "---"
   ]
  },
  {
   "cell_type": "code",
   "execution_count": 90,
   "metadata": {},
   "outputs": [],
   "source": [
    "# pip install comet_ml"
   ]
  },
  {
   "cell_type": "code",
   "execution_count": 91,
   "metadata": {},
   "outputs": [],
   "source": [
    "# # Import comet_ml at the top of your file\n",
    "\n",
    "# from comet_ml import Experiment"
   ]
  },
  {
   "cell_type": "code",
   "execution_count": 92,
   "metadata": {},
   "outputs": [],
   "source": [
    "# # Create an experiment with your api key and details specific to your personal comet\n",
    "\n",
    "# experiment = Experiment(\n",
    "#     api_key=\"qsOVXkhUhq870yZ5QARvTqNEw\",\n",
    "#     project_name=\"south-african-language-identification-2022\",\n",
    "#     workspace=\"toarstn92\",\n",
    "# )"
   ]
  },
  {
   "cell_type": "markdown",
   "metadata": {
    "tags": []
   },
   "source": [
    "<a id=\"one\"></a>\n",
    "## 1. Packages\n",
    "<a href=#shorthand>Back to Table of Contents</a>\n",
    "\n",
    "---\n",
    "    \n",
    "## <center>| ⚡ Description ⚡ |\n",
    "\n",
    "**<center>Importing and briefly discussing libraries used during analysis and modelling.<center>**\n",
    "\n",
    "**<center>Downloading nltk corpora of interest.<center>**\n",
    "\n",
    "---"
   ]
  },
  {
   "cell_type": "code",
   "execution_count": 93,
   "metadata": {},
   "outputs": [],
   "source": [
    "# pip install libraries that fails to import\n",
    "\n",
    "# pip install \"package name\""
   ]
  },
  {
   "cell_type": "code",
   "execution_count": 2,
   "metadata": {},
   "outputs": [],
   "source": [
    "# import necessary libraries\n",
    "\n",
    "import numpy as np\n",
    "import pandas as pd\n",
    "\n",
    "import matplotlib.pyplot as plt\n",
    "%matplotlib inline\n",
    "from matplotlib.colors import ListedColormap\n",
    "import seaborn as sns\n",
    "import re\n",
    "import string\n",
    "from spellchecker import SpellChecker\n",
    "from wordcloud import WordCloud, STOPWORDS, ImageColorGenerator\n",
    "from plotly import graph_objs as go\n",
    "import plotly.express as px\n",
    "from collections import Counter\n",
    "from varname import nameof\n",
    "from PIL import Image\n",
    "import pickle\n",
    "\n",
    "from gensim.models import Word2Vec\n",
    "from sklearn.feature_extraction.text import CountVectorizer, TfidfTransformer, TfidfVectorizer\n",
    "from sklearn.model_selection import cross_val_score, train_test_split, GridSearchCV\n",
    "from sklearn.preprocessing import StandardScaler, MaxAbsScaler, MinMaxScaler, LabelEncoder\n",
    "from sklearn.datasets import make_moons, make_circles, make_classification\n",
    "from sklearn.linear_model import LogisticRegression, SGDClassifier\n",
    "from sklearn.neighbors import KNeighborsClassifier\n",
    "from sklearn.svm import SVC, LinearSVC\n",
    "from sklearn.discriminant_analysis import LinearDiscriminantAnalysis, QuadraticDiscriminantAnalysis\n",
    "from sklearn.tree import DecisionTreeClassifier\n",
    "from sklearn.ensemble import RandomForestClassifier, AdaBoostClassifier\n",
    "from sklearn.metrics import accuracy_score, roc_auc_score, recall_score, precision_score, f1_score, confusion_matrix, classification_report\n",
    "from sklearn.utils import resample\n",
    "from sklearn import pipeline\n",
    "from sklearn.naive_bayes import MultinomialNB\n",
    "import nltk\n",
    "from nltk.tokenize import word_tokenize, TreebankWordTokenizer\n",
    "from nltk.stem import WordNetLemmatizer\n",
    "from nltk import SnowballStemmer, PorterStemmer, LancasterStemmer\n",
    "from nltk.corpus import stopwords\n",
    "from nltk.util import ngrams\n",
    "\n",
    "import time\n",
    "\n",
    "# set plot style\n",
    "\n",
    "sns.set()\n",
    "\n",
    "# suppress cell warnings\n",
    "\n",
    "# import warnings\n",
    "# warnings.filterwarnings(\"ignore\")"
   ]
  },
  {
   "cell_type": "code",
   "execution_count": 95,
   "metadata": {},
   "outputs": [],
   "source": [
    "# download nltk content\n",
    "\n",
    "# nltk.download(\"wordnet\")\n",
    "# nltk.download(\"stopwords\")\n",
    "# nltk.download(\"omw-1.4\")"
   ]
  },
  {
   "cell_type": "code",
   "execution_count": 3,
   "metadata": {},
   "outputs": [],
   "source": [
    "# set output options for all categories\n",
    "\n",
    "pd.set_option(\"max_colwidth\", 500)\n",
    "plt.rcParams[\"figure.figsize\"] = (10, 7)"
   ]
  },
  {
   "cell_type": "markdown",
   "metadata": {
    "tags": []
   },
   "source": [
    "<a id=\"two\"></a>\n",
    "## 2. Data\n",
    "<a href=#linkup>Back to Table of Contents</a>\n",
    "\n",
    "---\n",
    "    \n",
    "## <center>| ⚡ Description ⚡ |\n",
    "\n",
    "**<center>Loading data into DataFrame.<center>**\n",
    "\n",
    "---"
   ]
  },
  {
   "cell_type": "code",
   "execution_count": 4,
   "metadata": {
    "tags": []
   },
   "outputs": [
    {
     "data": {
      "text/html": [
       "<div>\n",
       "<style scoped>\n",
       "    .dataframe tbody tr th:only-of-type {\n",
       "        vertical-align: middle;\n",
       "    }\n",
       "\n",
       "    .dataframe tbody tr th {\n",
       "        vertical-align: top;\n",
       "    }\n",
       "\n",
       "    .dataframe thead th {\n",
       "        text-align: right;\n",
       "    }\n",
       "</style>\n",
       "<table border=\"1\" class=\"dataframe\">\n",
       "  <thead>\n",
       "    <tr style=\"text-align: right;\">\n",
       "      <th></th>\n",
       "      <th>lang_id</th>\n",
       "      <th>text</th>\n",
       "    </tr>\n",
       "  </thead>\n",
       "  <tbody>\n",
       "    <tr>\n",
       "      <th>0</th>\n",
       "      <td>xho</td>\n",
       "      <td>umgaqo-siseko wenza amalungiselelo kumaziko axhasa ulawulo lwesininzi kunye nokuthath inxaxheba kwabafazi ezi ziquka phakathi kwezinye zazo ikomishoni yokulingana ngokwesini ikomishoni yamalungelo oluntu lomzantsi afrika</td>\n",
       "    </tr>\n",
       "    <tr>\n",
       "      <th>1</th>\n",
       "      <td>xho</td>\n",
       "      <td>i-dha iya kuba nobulumko bokubeka umsebenzi naphi na kwisebe ngokusekwe kwiimfuno zokusebenza zalo emva kokubonana nomsebenzi kunye okanye imanyano yakhe ukuba ulandulo lomntu onjalo alufanelekanga i-dha mayibize uncedo olufanelekileyo elungelweni layo</td>\n",
       "    </tr>\n",
       "    <tr>\n",
       "      <th>2</th>\n",
       "      <td>eng</td>\n",
       "      <td>the province of kwazulu-natal department of transport invites tenders from established contractors experienced in bridge construction for the construction of the kwajolwayo tugela river pedestrian bridge near tugela ferry the duration of the project will be months</td>\n",
       "    </tr>\n",
       "    <tr>\n",
       "      <th>3</th>\n",
       "      <td>nso</td>\n",
       "      <td>o netefatša gore o ba file dilo ka moka tše le dumelelanego ka tšona mohlala maleri a magolo a a šomišwago go fihlelela meagong e metelele scaffolds a a bolokegilego lefelo la maleba la go šomela go phela gabotse bjbj</td>\n",
       "    </tr>\n",
       "    <tr>\n",
       "      <th>4</th>\n",
       "      <td>ven</td>\n",
       "      <td>khomishini ya ndinganyiso ya mbeu yo ewa maana u ya nga mulayo wa khomishini ya ndinganyiso ya mbeu u thetshelesa mbilaelo dzine dza tshimbilelana na tshialula u ya nga mbeu nahone i ivhea sa foramu ya thungo u ya nga mulayo wa ndinganyiso</td>\n",
       "    </tr>\n",
       "  </tbody>\n",
       "</table>\n",
       "</div>"
      ],
      "text/plain": [
       "  lang_id  \\\n",
       "0     xho   \n",
       "1     xho   \n",
       "2     eng   \n",
       "3     nso   \n",
       "4     ven   \n",
       "\n",
       "                                                                                                                                                                                                                                                                       text  \n",
       "0                                              umgaqo-siseko wenza amalungiselelo kumaziko axhasa ulawulo lwesininzi kunye nokuthath inxaxheba kwabafazi ezi ziquka phakathi kwezinye zazo ikomishoni yokulingana ngokwesini ikomishoni yamalungelo oluntu lomzantsi afrika  \n",
       "1              i-dha iya kuba nobulumko bokubeka umsebenzi naphi na kwisebe ngokusekwe kwiimfuno zokusebenza zalo emva kokubonana nomsebenzi kunye okanye imanyano yakhe ukuba ulandulo lomntu onjalo alufanelekanga i-dha mayibize uncedo olufanelekileyo elungelweni layo  \n",
       "2  the province of kwazulu-natal department of transport invites tenders from established contractors experienced in bridge construction for the construction of the kwajolwayo tugela river pedestrian bridge near tugela ferry the duration of the project will be months  \n",
       "3                                                 o netefatša gore o ba file dilo ka moka tše le dumelelanego ka tšona mohlala maleri a magolo a a šomišwago go fihlelela meagong e metelele scaffolds a a bolokegilego lefelo la maleba la go šomela go phela gabotse bjbj  \n",
       "4                           khomishini ya ndinganyiso ya mbeu yo ewa maana u ya nga mulayo wa khomishini ya ndinganyiso ya mbeu u thetshelesa mbilaelo dzine dza tshimbilelana na tshialula u ya nga mbeu nahone i ivhea sa foramu ya thungo u ya nga mulayo wa ndinganyiso  "
      ]
     },
     "execution_count": 4,
     "metadata": {},
     "output_type": "execute_result"
    }
   ],
   "source": [
    "# load data\n",
    "\n",
    "lang = pd.read_csv(\"data/train_set.csv\")\n",
    "lang.head()"
   ]
  },
  {
   "cell_type": "markdown",
   "metadata": {
    "tags": []
   },
   "source": [
    "<a id=\"three\"></a>\n",
    "## 3. Data Description\n",
    "<a href=#linkup>Back to Table of Contents</a>\n",
    "\n",
    "---\n",
    "    \n",
    "## <center>| ⚡ Description ⚡ |\n",
    "\n",
    "The data is in the form Language ID, Text. The text is in various states of cleanliness. Some NLP techniques will be necessary to clean up the data.\n",
    "\n",
    "**File descriptions**\n",
    "\n",
    "    train_set.csv - the training set\n",
    "    test_set.csv - the test set\n",
    "    sample_submission.csv - a sample submission file in the correct format\n",
    "\n",
    "**Language IDs**\n",
    "\n",
    "    afr - Afrikaans\n",
    "    eng - English\n",
    "    nbl - isiNdebele\n",
    "    nso - Sepedi\n",
    "    sot - Sesotho\n",
    "    ssw - siSwati\n",
    "    tsn - Setswana\n",
    "    tso - Xitsonga\n",
    "    ven - Tshivenda\n",
    "    xho - isiXhosa\n",
    "    zul - isiZulu\n",
    "    \n",
    "---"
   ]
  },
  {
   "cell_type": "code",
   "execution_count": 6,
   "metadata": {},
   "outputs": [],
   "source": [
    "# create copy to describe data\n",
    "\n",
    "describe = lang.copy()"
   ]
  },
  {
   "cell_type": "code",
   "execution_count": 7,
   "metadata": {
    "tags": []
   },
   "outputs": [
    {
     "data": {
      "text/plain": [
       "(33000, 2)"
      ]
     },
     "execution_count": 7,
     "metadata": {},
     "output_type": "execute_result"
    }
   ],
   "source": [
    "# observe data size\n",
    "\n",
    "describe.shape"
   ]
  },
  {
   "cell_type": "code",
   "execution_count": 8,
   "metadata": {},
   "outputs": [
    {
     "name": "stdout",
     "output_type": "stream",
     "text": [
      "['xho', 'eng', 'nso', 'ven', 'tsn', 'nbl', 'zul', 'ssw', 'tso', 'sot', 'afr'] 11\n"
     ]
    }
   ],
   "source": [
    "languages = list(describe[\"lang_id\"].unique())\n",
    "print(languages, len(languages))"
   ]
  },
  {
   "cell_type": "code",
   "execution_count": 10,
   "metadata": {},
   "outputs": [
    {
     "data": {
      "image/png": "[encoded data removed]",
      "text/plain": [
       "<Figure size 720x504 with 1 Axes>"
      ]
     },
     "metadata": {},
     "output_type": "display_data"
    }
   ],
   "source": [
    "heights = []\n",
    "for i in languages:\n",
    "    new = describe[describe[\"lang_id\"]==i]\n",
    "    heights.append(len(new))\n",
    "\n",
    "plt.barh(languages,heights,color=\"blue\")\n",
    "plt.yticks(languages)\n",
    "plt.ylabel(\"# of observations\")\n",
    "plt.legend([\"text\"])\n",
    "plt.show()"
   ]
  },
  {
   "cell_type": "code",
   "execution_count": 11,
   "metadata": {},
   "outputs": [],
   "source": [
    "# function to create wordcloud; word representation of data\n",
    "\n",
    "def grey_color_func(word, font_size, position,orientation,random_state=None, **kwargs):\n",
    "    # callable function for wordcloud.color_func that overwrites colormap and returns a PIL color for each word\n",
    "    return(\"hsl(0, 100%%, %d%%)\" % 100) # change values to set color need in hsl format\n",
    "\n",
    "def wordcloud_draw(data, color=\"black\", max_font_size=100, figure_size=(12, 12), title = None, title_size=30, image_color=True):\n",
    "    \"\"\" \n",
    "    Takes in one DataFrame as data\n",
    "\n",
    "            Parameters\n",
    "            ----------\n",
    "            color: str\n",
    "                Background color of output\n",
    "                \n",
    "            max_font_size: int\n",
    "                Smallest font size to use. Will stop when there is no more room in this size\n",
    "                \n",
    "            figure_size: int tuple\n",
    "                output size\n",
    "                \n",
    "            title: str\n",
    "                wordcloud title\n",
    "                \n",
    "            title_size: int\n",
    "                font size of title\n",
    "\n",
    "            image_color: bool\n",
    "                if True, display word with different colors\n",
    "                elif False, display all words in white\n",
    "\n",
    "            Returns\n",
    "            -------\n",
    "            Wordcloud\n",
    "    \"\"\"\n",
    "    words = \" \".join(data)\n",
    "    cleaned_word = \" \".join([word for word in words.split()])\n",
    "    wordcloud = WordCloud(background_color=color,\n",
    "                      width=1500,\n",
    "                      height=1000,\n",
    "                      random_state=42,\n",
    "                      max_font_size = max_font_size\n",
    "                     ).generate(cleaned_word)\n",
    "    \n",
    "    plt.figure(figsize=figure_size)\n",
    "    if image_color:\n",
    "        plt.imshow(wordcloud);\n",
    "        plt.title(title, fontdict={\"size\": title_size, \"color\": \"black\", \n",
    "                                  \"verticalalignment\": \"bottom\"})\n",
    "    else:\n",
    "        plt.imshow(wordcloud.recolor(color_func=grey_color_func), interpolation=\"bilinear\");\n",
    "        plt.title(title, fontdict={\"size\": title_size,  \n",
    "                                  \"verticalalignment\": \"bottom\"})\n",
    "    plt.axis(\"off\");\n",
    "    plt.tight_layout()"
   ]
  },
  {
   "cell_type": "code",
   "execution_count": 12,
   "metadata": {},
   "outputs": [],
   "source": [
    "wordcloud_draw(describe[\"text\"], color=\"black\", max_font_size=100, figure_size=(12, 12), title_size=30, title=\"South African Words\")"
   ]
  },
  {
   "cell_type": "markdown",
   "metadata": {},
   "source": [
    "<a id=\"four\"></a>\n",
    "## 4. Data Cleaning\n",
    "<a href=#linkup>Back to Table of Contents</a>\n",
    "\n",
    "---\n",
    "    \n",
    "## <center>| ⚡ Description ⚡ |\n",
    "\n",
    "**<center>Cleaning the Data.<center>**\n",
    "\n",
    "---"
   ]
  },
  {
   "cell_type": "markdown",
   "metadata": {},
   "source": [
    "<a id=\"four_zero\"></a>\n",
    "### 4.0. General data cleaning\n",
    "\n",
    "<a href=#four>Back to Data Cleaning</a>"
   ]
  },
  {
   "cell_type": "code",
   "execution_count": 16,
   "metadata": {},
   "outputs": [],
   "source": [
    "# create copy to clean data\n",
    "\n",
    "clean = describe.copy()"
   ]
  },
  {
   "cell_type": "code",
   "execution_count": 17,
   "metadata": {},
   "outputs": [
    {
     "name": "stdout",
     "output_type": "stream",
     "text": [
      "[1, 2, 0, -1]\n"
     ]
    }
   ],
   "source": [
    "# confirm values in sentiment column\n",
    "\n",
    "sentiment_labels = list(clean[\"sentiment\"].unique())\n",
    "print(sentiment_labels)"
   ]
  },
  {
   "cell_type": "code",
   "execution_count": 18,
   "metadata": {},
   "outputs": [],
   "source": [
    "# remove non-ASCII characters\n",
    "\n",
    "clean[\"message\"] = clean.loc[:, \"message\"].str.encode(\"ascii\", \"ignore\").str.decode(\"ascii\")"
   ]
  },
  {
   "cell_type": "code",
   "execution_count": 19,
   "metadata": {},
   "outputs": [],
   "source": [
    "# replace patterns with general nomenclature or blank space\n",
    "\n",
    "pattern_replace = {r'(@([\\w]|[!\"#$%&\"\"()*+,-./:;<=>?@[\\]^`{|}~])+)': \"Username\", \n",
    "                   r'(https://t.co/([\\w]|[!\"#$%&\"\"()*+,-./:;<=>?@[\\]^`{|}~])+)': \"urlweb\",\n",
    "                   r'(\\r|\\n|https)': \" \"\n",
    "                   }\n",
    "\n",
    "clean.replace({\"message\": pattern_replace}, regex=True, inplace=True)"
   ]
  },
  {
   "cell_type": "code",
   "execution_count": 20,
   "metadata": {},
   "outputs": [],
   "source": [
    "# function to remove punctuation, numbers andchange uppercase to lower\n",
    "\n",
    "def remove_punctuation_numbers_caps(message):\n",
    "    punc_numbers = string.punctuation + \"0123456789\"\n",
    "    return \"\".join([l.lower() for l in message if (l not in punc_numbers) or (len(l)>=3)])\n",
    "\n",
    "clean[\"message\"] = clean[\"message\"].apply(remove_punctuation_numbers_caps)"
   ]
  },
  {
   "cell_type": "code",
   "execution_count": 21,
   "metadata": {},
   "outputs": [
    {
     "data": {
      "text/html": [
       "<div>\n",
       "<style scoped>\n",
       "    .dataframe tbody tr th:only-of-type {\n",
       "        vertical-align: middle;\n",
       "    }\n",
       "\n",
       "    .dataframe tbody tr th {\n",
       "        vertical-align: top;\n",
       "    }\n",
       "\n",
       "    .dataframe thead th {\n",
       "        text-align: right;\n",
       "    }\n",
       "</style>\n",
       "<table border=\"1\" class=\"dataframe\">\n",
       "  <thead>\n",
       "    <tr style=\"text-align: right;\">\n",
       "      <th></th>\n",
       "      <th>sentiment</th>\n",
       "      <th>message</th>\n",
       "    </tr>\n",
       "    <tr>\n",
       "      <th>tweetid</th>\n",
       "      <th></th>\n",
       "      <th></th>\n",
       "    </tr>\n",
       "  </thead>\n",
       "  <tbody>\n",
       "    <tr>\n",
       "      <th>625221</th>\n",
       "      <td>1</td>\n",
       "      <td>polyscimajor epa chief doesnt think carbon dioxide is main cause of global warming and wait what urlweb via username</td>\n",
       "    </tr>\n",
       "    <tr>\n",
       "      <th>126103</th>\n",
       "      <td>1</td>\n",
       "      <td>its not like we lack evidence of anthropogenic global warming</td>\n",
       "    </tr>\n",
       "    <tr>\n",
       "      <th>698562</th>\n",
       "      <td>2</td>\n",
       "      <td>rt username researchers say we have three years to act on climate change before its too late urlweb urlweb</td>\n",
       "    </tr>\n",
       "    <tr>\n",
       "      <th>573736</th>\n",
       "      <td>1</td>\n",
       "      <td>todayinmaker wired   was a pivotal year in the war on climate change urlweb</td>\n",
       "    </tr>\n",
       "    <tr>\n",
       "      <th>466954</th>\n",
       "      <td>1</td>\n",
       "      <td>rt username its  and a racist sexist climate change denying bigot is leading in the polls electionnight</td>\n",
       "    </tr>\n",
       "  </tbody>\n",
       "</table>\n",
       "</div>"
      ],
      "text/plain": [
       "         sentiment  \\\n",
       "tweetid              \n",
       "625221           1   \n",
       "126103           1   \n",
       "698562           2   \n",
       "573736           1   \n",
       "466954           1   \n",
       "\n",
       "                                                                                                                      message  \n",
       "tweetid                                                                                                                        \n",
       "625221   polyscimajor epa chief doesnt think carbon dioxide is main cause of global warming and wait what urlweb via username  \n",
       "126103                                                          its not like we lack evidence of anthropogenic global warming  \n",
       "698562             rt username researchers say we have three years to act on climate change before its too late urlweb urlweb  \n",
       "573736                                            todayinmaker wired   was a pivotal year in the war on climate change urlweb  \n",
       "466954                rt username its  and a racist sexist climate change denying bigot is leading in the polls electionnight  "
      ]
     },
     "execution_count": 21,
     "metadata": {},
     "output_type": "execute_result"
    }
   ],
   "source": [
    "clean.head()"
   ]
  },
  {
   "cell_type": "code",
   "execution_count": 22,
   "metadata": {},
   "outputs": [],
   "source": [
    "# function to interactively display most Common words in data\n",
    "\n",
    "def common_words(data, word_qty=30, arrange=\"Least\"):\n",
    "    \"\"\" \n",
    "    Takes in column from DataFrame as data\n",
    "\n",
    "            Parameters\n",
    "            ----------\n",
    "            word_qty: int\n",
    "                Number of words to display\n",
    "                \n",
    "            arrange: str\n",
    "                if Least, display least occuring words\n",
    "                elif Most, display most occuring words\n",
    "\n",
    "            Returns\n",
    "            -------\n",
    "            interactive plot display\n",
    "    \"\"\"\n",
    "    df = data.apply(lambda x:str(x).split())\n",
    "    top = Counter([item for sublist in df for item in sublist])\n",
    "    if \"Least\" in arrange:\n",
    "        temp = pd.DataFrame(top.most_common()[::-1])[:word_qty]\n",
    "    elif \"Most\" in arrange:\n",
    "        temp = pd.DataFrame(top.most_common())[:word_qty]\n",
    "    temp.columns = [\"common_words\",\"count\"]\n",
    "    temp.style.background_gradient(cmap=\"Blues\")\n",
    "    fig = px.bar(temp, x=\"count\", y=\"common_words\", title=arrange+\" Commmon Words in Tweet\",\n",
    "                orientation=\"h\", width=700, height=700,color=\"common_words\")\n",
    "    return fig.show()"
   ]
  },
  {
   "cell_type": "code",
   "execution_count": 23,
   "metadata": {},
   "outputs": [
    {
     "data": {
      "application/vnd.plotly.v1+json": {
       "config": {
        "plotlyServerURL": "https://plot.ly"
       },
       "data": [
        {
         "alignmentgroup": "True",
         "hovertemplate": "common_words=%{y}<br>count=%{x}<extra></extra>",
         "legendgroup": "username",
         "marker": {
          "color": "#636efa",
          "pattern": {
           "shape": ""
          }
         },
         "name": "username",
         "offsetgroup": "username",
         "orientation": "h",
         "showlegend": true,
         "textposition": "auto",
         "type": "bar",
         "x": [
          14737
         ],
         "xaxis": "x",
         "y": [
          "username"
         ],
         "yaxis": "y"
        },
        {
         "alignmentgroup": "True",
         "hovertemplate": "common_words=%{y}<br>count=%{x}<extra></extra>",
         "legendgroup": "climate",
         "marker": {
          "color": "#EF553B",
          "pattern": {
           "shape": ""
          }
         },
         "name": "climate",
         "offsetgroup": "climate",
         "orientation": "h",
         "showlegend": true,
         "textposition": "auto",
         "type": "bar",
         "x": [
          12959
         ],
         "xaxis": "x",
         "y": [
          "climate"
         ],
         "yaxis": "y"
        },
        {
         "alignmentgroup": "True",
         "hovertemplate": "common_words=%{y}<br>count=%{x}<extra></extra>",
         "legendgroup": "change",
         "marker": {
          "color": "#00cc96",
          "pattern": {
           "shape": ""
          }
         },
         "name": "change",
         "offsetgroup": "change",
         "orientation": "h",
         "showlegend": true,
         "textposition": "auto",
         "type": "bar",
         "x": [
          12552
         ],
         "xaxis": "x",
         "y": [
          "change"
         ],
         "yaxis": "y"
        },
        {
         "alignmentgroup": "True",
         "hovertemplate": "common_words=%{y}<br>count=%{x}<extra></extra>",
         "legendgroup": "rt",
         "marker": {
          "color": "#ab63fa",
          "pattern": {
           "shape": ""
          }
         },
         "name": "rt",
         "offsetgroup": "rt",
         "orientation": "h",
         "showlegend": true,
         "textposition": "auto",
         "type": "bar",
         "x": [
          9723
         ],
         "xaxis": "x",
         "y": [
          "rt"
         ],
         "yaxis": "y"
        },
        {
         "alignmentgroup": "True",
         "hovertemplate": "common_words=%{y}<br>count=%{x}<extra></extra>",
         "legendgroup": "urlweb",
         "marker": {
          "color": "#FFA15A",
          "pattern": {
           "shape": ""
          }
         },
         "name": "urlweb",
         "offsetgroup": "urlweb",
         "orientation": "h",
         "showlegend": true,
         "textposition": "auto",
         "type": "bar",
         "x": [
          9125
         ],
         "xaxis": "x",
         "y": [
          "urlweb"
         ],
         "yaxis": "y"
        },
        {
         "alignmentgroup": "True",
         "hovertemplate": "common_words=%{y}<br>count=%{x}<extra></extra>",
         "legendgroup": "the",
         "marker": {
          "color": "#19d3f3",
          "pattern": {
           "shape": ""
          }
         },
         "name": "the",
         "offsetgroup": "the",
         "orientation": "h",
         "showlegend": true,
         "textposition": "auto",
         "type": "bar",
         "x": [
          7759
         ],
         "xaxis": "x",
         "y": [
          "the"
         ],
         "yaxis": "y"
        },
        {
         "alignmentgroup": "True",
         "hovertemplate": "common_words=%{y}<br>count=%{x}<extra></extra>",
         "legendgroup": "to",
         "marker": {
          "color": "#FF6692",
          "pattern": {
           "shape": ""
          }
         },
         "name": "to",
         "offsetgroup": "to",
         "orientation": "h",
         "showlegend": true,
         "textposition": "auto",
         "type": "bar",
         "x": [
          7200
         ],
         "xaxis": "x",
         "y": [
          "to"
         ],
         "yaxis": "y"
        },
        {
         "alignmentgroup": "True",
         "hovertemplate": "common_words=%{y}<br>count=%{x}<extra></extra>",
         "legendgroup": "is",
         "marker": {
          "color": "#B6E880",
          "pattern": {
           "shape": ""
          }
         },
         "name": "is",
         "offsetgroup": "is",
         "orientation": "h",
         "showlegend": true,
         "textposition": "auto",
         "type": "bar",
         "x": [
          4397
         ],
         "xaxis": "x",
         "y": [
          "is"
         ],
         "yaxis": "y"
        },
        {
         "alignmentgroup": "True",
         "hovertemplate": "common_words=%{y}<br>count=%{x}<extra></extra>",
         "legendgroup": "of",
         "marker": {
          "color": "#FF97FF",
          "pattern": {
           "shape": ""
          }
         },
         "name": "of",
         "offsetgroup": "of",
         "orientation": "h",
         "showlegend": true,
         "textposition": "auto",
         "type": "bar",
         "x": [
          4225
         ],
         "xaxis": "x",
         "y": [
          "of"
         ],
         "yaxis": "y"
        },
        {
         "alignmentgroup": "True",
         "hovertemplate": "common_words=%{y}<br>count=%{x}<extra></extra>",
         "legendgroup": "a",
         "marker": {
          "color": "#FECB52",
          "pattern": {
           "shape": ""
          }
         },
         "name": "a",
         "offsetgroup": "a",
         "orientation": "h",
         "showlegend": true,
         "textposition": "auto",
         "type": "bar",
         "x": [
          4192
         ],
         "xaxis": "x",
         "y": [
          "a"
         ],
         "yaxis": "y"
        },
        {
         "alignmentgroup": "True",
         "hovertemplate": "common_words=%{y}<br>count=%{x}<extra></extra>",
         "legendgroup": "global",
         "marker": {
          "color": "#636efa",
          "pattern": {
           "shape": ""
          }
         },
         "name": "global",
         "offsetgroup": "global",
         "orientation": "h",
         "showlegend": true,
         "textposition": "auto",
         "type": "bar",
         "x": [
          3779
         ],
         "xaxis": "x",
         "y": [
          "global"
         ],
         "yaxis": "y"
        },
        {
         "alignmentgroup": "True",
         "hovertemplate": "common_words=%{y}<br>count=%{x}<extra></extra>",
         "legendgroup": "in",
         "marker": {
          "color": "#EF553B",
          "pattern": {
           "shape": ""
          }
         },
         "name": "in",
         "offsetgroup": "in",
         "orientation": "h",
         "showlegend": true,
         "textposition": "auto",
         "type": "bar",
         "x": [
          3700
         ],
         "xaxis": "x",
         "y": [
          "in"
         ],
         "yaxis": "y"
        },
        {
         "alignmentgroup": "True",
         "hovertemplate": "common_words=%{y}<br>count=%{x}<extra></extra>",
         "legendgroup": "warming",
         "marker": {
          "color": "#00cc96",
          "pattern": {
           "shape": ""
          }
         },
         "name": "warming",
         "offsetgroup": "warming",
         "orientation": "h",
         "showlegend": true,
         "textposition": "auto",
         "type": "bar",
         "x": [
          3503
         ],
         "xaxis": "x",
         "y": [
          "warming"
         ],
         "yaxis": "y"
        },
        {
         "alignmentgroup": "True",
         "hovertemplate": "common_words=%{y}<br>count=%{x}<extra></extra>",
         "legendgroup": "and",
         "marker": {
          "color": "#ab63fa",
          "pattern": {
           "shape": ""
          }
         },
         "name": "and",
         "offsetgroup": "and",
         "orientation": "h",
         "showlegend": true,
         "textposition": "auto",
         "type": "bar",
         "x": [
          2996
         ],
         "xaxis": "x",
         "y": [
          "and"
         ],
         "yaxis": "y"
        },
        {
         "alignmentgroup": "True",
         "hovertemplate": "common_words=%{y}<br>count=%{x}<extra></extra>",
         "legendgroup": "on",
         "marker": {
          "color": "#FFA15A",
          "pattern": {
           "shape": ""
          }
         },
         "name": "on",
         "offsetgroup": "on",
         "orientation": "h",
         "showlegend": true,
         "textposition": "auto",
         "type": "bar",
         "x": [
          2754
         ],
         "xaxis": "x",
         "y": [
          "on"
         ],
         "yaxis": "y"
        },
        {
         "alignmentgroup": "True",
         "hovertemplate": "common_words=%{y}<br>count=%{x}<extra></extra>",
         "legendgroup": "for",
         "marker": {
          "color": "#19d3f3",
          "pattern": {
           "shape": ""
          }
         },
         "name": "for",
         "offsetgroup": "for",
         "orientation": "h",
         "showlegend": true,
         "textposition": "auto",
         "type": "bar",
         "x": [
          1992
         ],
         "xaxis": "x",
         "y": [
          "for"
         ],
         "yaxis": "y"
        },
        {
         "alignmentgroup": "True",
         "hovertemplate": "common_words=%{y}<br>count=%{x}<extra></extra>",
         "legendgroup": "trump",
         "marker": {
          "color": "#FF6692",
          "pattern": {
           "shape": ""
          }
         },
         "name": "trump",
         "offsetgroup": "trump",
         "orientation": "h",
         "showlegend": true,
         "textposition": "auto",
         "type": "bar",
         "x": [
          1943
         ],
         "xaxis": "x",
         "y": [
          "trump"
         ],
         "yaxis": "y"
        },
        {
         "alignmentgroup": "True",
         "hovertemplate": "common_words=%{y}<br>count=%{x}<extra></extra>",
         "legendgroup": "about",
         "marker": {
          "color": "#B6E880",
          "pattern": {
           "shape": ""
          }
         },
         "name": "about",
         "offsetgroup": "about",
         "orientation": "h",
         "showlegend": true,
         "textposition": "auto",
         "type": "bar",
         "x": [
          1810
         ],
         "xaxis": "x",
         "y": [
          "about"
         ],
         "yaxis": "y"
        },
        {
         "alignmentgroup": "True",
         "hovertemplate": "common_words=%{y}<br>count=%{x}<extra></extra>",
         "legendgroup": "that",
         "marker": {
          "color": "#FF97FF",
          "pattern": {
           "shape": ""
          }
         },
         "name": "that",
         "offsetgroup": "that",
         "orientation": "h",
         "showlegend": true,
         "textposition": "auto",
         "type": "bar",
         "x": [
          1543
         ],
         "xaxis": "x",
         "y": [
          "that"
         ],
         "yaxis": "y"
        },
        {
         "alignmentgroup": "True",
         "hovertemplate": "common_words=%{y}<br>count=%{x}<extra></extra>",
         "legendgroup": "we",
         "marker": {
          "color": "#FECB52",
          "pattern": {
           "shape": ""
          }
         },
         "name": "we",
         "offsetgroup": "we",
         "orientation": "h",
         "showlegend": true,
         "textposition": "auto",
         "type": "bar",
         "x": [
          1518
         ],
         "xaxis": "x",
         "y": [
          "we"
         ],
         "yaxis": "y"
        },
        {
         "alignmentgroup": "True",
         "hovertemplate": "common_words=%{y}<br>count=%{x}<extra></extra>",
         "legendgroup": "you",
         "marker": {
          "color": "#636efa",
          "pattern": {
           "shape": ""
          }
         },
         "name": "you",
         "offsetgroup": "you",
         "orientation": "h",
         "showlegend": true,
         "textposition": "auto",
         "type": "bar",
         "x": [
          1455
         ],
         "xaxis": "x",
         "y": [
          "you"
         ],
         "yaxis": "y"
        },
        {
         "alignmentgroup": "True",
         "hovertemplate": "common_words=%{y}<br>count=%{x}<extra></extra>",
         "legendgroup": "are",
         "marker": {
          "color": "#EF553B",
          "pattern": {
           "shape": ""
          }
         },
         "name": "are",
         "offsetgroup": "are",
         "orientation": "h",
         "showlegend": true,
         "textposition": "auto",
         "type": "bar",
         "x": [
          1377
         ],
         "xaxis": "x",
         "y": [
          "are"
         ],
         "yaxis": "y"
        },
        {
         "alignmentgroup": "True",
         "hovertemplate": "common_words=%{y}<br>count=%{x}<extra></extra>",
         "legendgroup": "i",
         "marker": {
          "color": "#00cc96",
          "pattern": {
           "shape": ""
          }
         },
         "name": "i",
         "offsetgroup": "i",
         "orientation": "h",
         "showlegend": true,
         "textposition": "auto",
         "type": "bar",
         "x": [
          1290
         ],
         "xaxis": "x",
         "y": [
          "i"
         ],
         "yaxis": "y"
        },
        {
         "alignmentgroup": "True",
         "hovertemplate": "common_words=%{y}<br>count=%{x}<extra></extra>",
         "legendgroup": "it",
         "marker": {
          "color": "#ab63fa",
          "pattern": {
           "shape": ""
          }
         },
         "name": "it",
         "offsetgroup": "it",
         "orientation": "h",
         "showlegend": true,
         "textposition": "auto",
         "type": "bar",
         "x": [
          1203
         ],
         "xaxis": "x",
         "y": [
          "it"
         ],
         "yaxis": "y"
        },
        {
         "alignmentgroup": "True",
         "hovertemplate": "common_words=%{y}<br>count=%{x}<extra></extra>",
         "legendgroup": "believe",
         "marker": {
          "color": "#FFA15A",
          "pattern": {
           "shape": ""
          }
         },
         "name": "believe",
         "offsetgroup": "believe",
         "orientation": "h",
         "showlegend": true,
         "textposition": "auto",
         "type": "bar",
         "x": [
          1159
         ],
         "xaxis": "x",
         "y": [
          "believe"
         ],
         "yaxis": "y"
        },
        {
         "alignmentgroup": "True",
         "hovertemplate": "common_words=%{y}<br>count=%{x}<extra></extra>",
         "legendgroup": "how",
         "marker": {
          "color": "#19d3f3",
          "pattern": {
           "shape": ""
          }
         },
         "name": "how",
         "offsetgroup": "how",
         "orientation": "h",
         "showlegend": true,
         "textposition": "auto",
         "type": "bar",
         "x": [
          1150
         ],
         "xaxis": "x",
         "y": [
          "how"
         ],
         "yaxis": "y"
        },
        {
         "alignmentgroup": "True",
         "hovertemplate": "common_words=%{y}<br>count=%{x}<extra></extra>",
         "legendgroup": "this",
         "marker": {
          "color": "#FF6692",
          "pattern": {
           "shape": ""
          }
         },
         "name": "this",
         "offsetgroup": "this",
         "orientation": "h",
         "showlegend": true,
         "textposition": "auto",
         "type": "bar",
         "x": [
          1114
         ],
         "xaxis": "x",
         "y": [
          "this"
         ],
         "yaxis": "y"
        },
        {
         "alignmentgroup": "True",
         "hovertemplate": "common_words=%{y}<br>count=%{x}<extra></extra>",
         "legendgroup": "not",
         "marker": {
          "color": "#B6E880",
          "pattern": {
           "shape": ""
          }
         },
         "name": "not",
         "offsetgroup": "not",
         "orientation": "h",
         "showlegend": true,
         "textposition": "auto",
         "type": "bar",
         "x": [
          1076
         ],
         "xaxis": "x",
         "y": [
          "not"
         ],
         "yaxis": "y"
        },
        {
         "alignmentgroup": "True",
         "hovertemplate": "common_words=%{y}<br>count=%{x}<extra></extra>",
         "legendgroup": "by",
         "marker": {
          "color": "#FF97FF",
          "pattern": {
           "shape": ""
          }
         },
         "name": "by",
         "offsetgroup": "by",
         "orientation": "h",
         "showlegend": true,
         "textposition": "auto",
         "type": "bar",
         "x": [
          1048
         ],
         "xaxis": "x",
         "y": [
          "by"
         ],
         "yaxis": "y"
        },
        {
         "alignmentgroup": "True",
         "hovertemplate": "common_words=%{y}<br>count=%{x}<extra></extra>",
         "legendgroup": "have",
         "marker": {
          "color": "#FECB52",
          "pattern": {
           "shape": ""
          }
         },
         "name": "have",
         "offsetgroup": "have",
         "orientation": "h",
         "showlegend": true,
         "textposition": "auto",
         "type": "bar",
         "x": [
          992
         ],
         "xaxis": "x",
         "y": [
          "have"
         ],
         "yaxis": "y"
        }
       ],
       "layout": {
        "barmode": "relative",
        "height": 700,
        "legend": {
         "title": {
          "text": "common_words"
         },
         "tracegroupgap": 0
        },
        "template": {
         "data": {
          "bar": [
           {
            "error_x": {
             "color": "#2a3f5f"
            },
            "error_y": {
             "color": "#2a3f5f"
            },
            "marker": {
             "line": {
              "color": "#E5ECF6",
              "width": 0.5
             },
             "pattern": {
              "fillmode": "overlay",
              "size": 10,
              "solidity": 0.2
             }
            },
            "type": "bar"
           }
          ],
          "barpolar": [
           {
            "marker": {
             "line": {
              "color": "#E5ECF6",
              "width": 0.5
             },
             "pattern": {
              "fillmode": "overlay",
              "size": 10,
              "solidity": 0.2
             }
            },
            "type": "barpolar"
           }
          ],
          "carpet": [
           {
            "aaxis": {
             "endlinecolor": "#2a3f5f",
             "gridcolor": "white",
             "linecolor": "white",
             "minorgridcolor": "white",
             "startlinecolor": "#2a3f5f"
            },
            "baxis": {
             "endlinecolor": "#2a3f5f",
             "gridcolor": "white",
             "linecolor": "white",
             "minorgridcolor": "white",
             "startlinecolor": "#2a3f5f"
            },
            "type": "carpet"
           }
          ],
          "choropleth": [
           {
            "colorbar": {
             "outlinewidth": 0,
             "ticks": ""
            },
            "type": "choropleth"
           }
          ],
          "contour": [
           {
            "colorbar": {
             "outlinewidth": 0,
             "ticks": ""
            },
            "colorscale": [
             [
              0,
              "#0d0887"
             ],
             [
              0.1111111111111111,
              "#46039f"
             ],
             [
              0.2222222222222222,
              "#7201a8"
             ],
             [
              0.3333333333333333,
              "#9c179e"
             ],
             [
              0.4444444444444444,
              "#bd3786"
             ],
             [
              0.5555555555555556,
              "#d8576b"
             ],
             [
              0.6666666666666666,
              "#ed7953"
             ],
             [
              0.7777777777777778,
              "#fb9f3a"
             ],
             [
              0.8888888888888888,
              "#fdca26"
             ],
             [
              1,
              "#f0f921"
             ]
            ],
            "type": "contour"
           }
          ],
          "contourcarpet": [
           {
            "colorbar": {
             "outlinewidth": 0,
             "ticks": ""
            },
            "type": "contourcarpet"
           }
          ],
          "heatmap": [
           {
            "colorbar": {
             "outlinewidth": 0,
             "ticks": ""
            },
            "colorscale": [
             [
              0,
              "#0d0887"
             ],
             [
              0.1111111111111111,
              "#46039f"
             ],
             [
              0.2222222222222222,
              "#7201a8"
             ],
             [
              0.3333333333333333,
              "#9c179e"
             ],
             [
              0.4444444444444444,
              "#bd3786"
             ],
             [
              0.5555555555555556,
              "#d8576b"
             ],
             [
              0.6666666666666666,
              "#ed7953"
             ],
             [
              0.7777777777777778,
              "#fb9f3a"
             ],
             [
              0.8888888888888888,
              "#fdca26"
             ],
             [
              1,
              "#f0f921"
             ]
            ],
            "type": "heatmap"
           }
          ],
          "heatmapgl": [
           {
            "colorbar": {
             "outlinewidth": 0,
             "ticks": ""
            },
            "colorscale": [
             [
              0,
              "#0d0887"
             ],
             [
              0.1111111111111111,
              "#46039f"
             ],
             [
              0.2222222222222222,
              "#7201a8"
             ],
             [
              0.3333333333333333,
              "#9c179e"
             ],
             [
              0.4444444444444444,
              "#bd3786"
             ],
             [
              0.5555555555555556,
              "#d8576b"
             ],
             [
              0.6666666666666666,
              "#ed7953"
             ],
             [
              0.7777777777777778,
              "#fb9f3a"
             ],
             [
              0.8888888888888888,
              "#fdca26"
             ],
             [
              1,
              "#f0f921"
             ]
            ],
            "type": "heatmapgl"
           }
          ],
          "histogram": [
           {
            "marker": {
             "pattern": {
              "fillmode": "overlay",
              "size": 10,
              "solidity": 0.2
             }
            },
            "type": "histogram"
           }
          ],
          "histogram2d": [
           {
            "colorbar": {
             "outlinewidth": 0,
             "ticks": ""
            },
            "colorscale": [
             [
              0,
              "#0d0887"
             ],
             [
              0.1111111111111111,
              "#46039f"
             ],
             [
              0.2222222222222222,
              "#7201a8"
             ],
             [
              0.3333333333333333,
              "#9c179e"
             ],
             [
              0.4444444444444444,
              "#bd3786"
             ],
             [
              0.5555555555555556,
              "#d8576b"
             ],
             [
              0.6666666666666666,
              "#ed7953"
             ],
             [
              0.7777777777777778,
              "#fb9f3a"
             ],
             [
              0.8888888888888888,
              "#fdca26"
             ],
             [
              1,
              "#f0f921"
             ]
            ],
            "type": "histogram2d"
           }
          ],
          "histogram2dcontour": [
           {
            "colorbar": {
             "outlinewidth": 0,
             "ticks": ""
            },
            "colorscale": [
             [
              0,
              "#0d0887"
             ],
             [
              0.1111111111111111,
              "#46039f"
             ],
             [
              0.2222222222222222,
              "#7201a8"
             ],
             [
              0.3333333333333333,
              "#9c179e"
             ],
             [
              0.4444444444444444,
              "#bd3786"
             ],
             [
              0.5555555555555556,
              "#d8576b"
             ],
             [
              0.6666666666666666,
              "#ed7953"
             ],
             [
              0.7777777777777778,
              "#fb9f3a"
             ],
             [
              0.8888888888888888,
              "#fdca26"
             ],
             [
              1,
              "#f0f921"
             ]
            ],
            "type": "histogram2dcontour"
           }
          ],
          "mesh3d": [
           {
            "colorbar": {
             "outlinewidth": 0,
             "ticks": ""
            },
            "type": "mesh3d"
           }
          ],
          "parcoords": [
           {
            "line": {
             "colorbar": {
              "outlinewidth": 0,
              "ticks": ""
             }
            },
            "type": "parcoords"
           }
          ],
          "pie": [
           {
            "automargin": true,
            "type": "pie"
           }
          ],
          "scatter": [
           {
            "fillpattern": {
             "fillmode": "overlay",
             "size": 10,
             "solidity": 0.2
            },
            "type": "scatter"
           }
          ],
          "scatter3d": [
           {
            "line": {
             "colorbar": {
              "outlinewidth": 0,
              "ticks": ""
             }
            },
            "marker": {
             "colorbar": {
              "outlinewidth": 0,
              "ticks": ""
             }
            },
            "type": "scatter3d"
           }
          ],
          "scattercarpet": [
           {
            "marker": {
             "colorbar": {
              "outlinewidth": 0,
              "ticks": ""
             }
            },
            "type": "scattercarpet"
           }
          ],
          "scattergeo": [
           {
            "marker": {
             "colorbar": {
              "outlinewidth": 0,
              "ticks": ""
             }
            },
            "type": "scattergeo"
           }
          ],
          "scattergl": [
           {
            "marker": {
             "colorbar": {
              "outlinewidth": 0,
              "ticks": ""
             }
            },
            "type": "scattergl"
           }
          ],
          "scattermapbox": [
           {
            "marker": {
             "colorbar": {
              "outlinewidth": 0,
              "ticks": ""
             }
            },
            "type": "scattermapbox"
           }
          ],
          "scatterpolar": [
           {
            "marker": {
             "colorbar": {
              "outlinewidth": 0,
              "ticks": ""
             }
            },
            "type": "scatterpolar"
           }
          ],
          "scatterpolargl": [
           {
            "marker": {
             "colorbar": {
              "outlinewidth": 0,
              "ticks": ""
             }
            },
            "type": "scatterpolargl"
           }
          ],
          "scatterternary": [
           {
            "marker": {
             "colorbar": {
              "outlinewidth": 0,
              "ticks": ""
             }
            },
            "type": "scatterternary"
           }
          ],
          "surface": [
           {
            "colorbar": {
             "outlinewidth": 0,
             "ticks": ""
            },
            "colorscale": [
             [
              0,
              "#0d0887"
             ],
             [
              0.1111111111111111,
              "#46039f"
             ],
             [
              0.2222222222222222,
              "#7201a8"
             ],
             [
              0.3333333333333333,
              "#9c179e"
             ],
             [
              0.4444444444444444,
              "#bd3786"
             ],
             [
              0.5555555555555556,
              "#d8576b"
             ],
             [
              0.6666666666666666,
              "#ed7953"
             ],
             [
              0.7777777777777778,
              "#fb9f3a"
             ],
             [
              0.8888888888888888,
              "#fdca26"
             ],
             [
              1,
              "#f0f921"
             ]
            ],
            "type": "surface"
           }
          ],
          "table": [
           {
            "cells": {
             "fill": {
              "color": "#EBF0F8"
             },
             "line": {
              "color": "white"
             }
            },
            "header": {
             "fill": {
              "color": "#C8D4E3"
             },
             "line": {
              "color": "white"
             }
            },
            "type": "table"
           }
          ]
         },
         "layout": {
          "annotationdefaults": {
           "arrowcolor": "#2a3f5f",
           "arrowhead": 0,
           "arrowwidth": 1
          },
          "autotypenumbers": "strict",
          "coloraxis": {
           "colorbar": {
            "outlinewidth": 0,
            "ticks": ""
           }
          },
          "colorscale": {
           "diverging": [
            [
             0,
             "#8e0152"
            ],
            [
             0.1,
             "#c51b7d"
            ],
            [
             0.2,
             "#de77ae"
            ],
            [
             0.3,
             "#f1b6da"
            ],
            [
             0.4,
             "#fde0ef"
            ],
            [
             0.5,
             "#f7f7f7"
            ],
            [
             0.6,
             "#e6f5d0"
            ],
            [
             0.7,
             "#b8e186"
            ],
            [
             0.8,
             "#7fbc41"
            ],
            [
             0.9,
             "#4d9221"
            ],
            [
             1,
             "#276419"
            ]
           ],
           "sequential": [
            [
             0,
             "#0d0887"
            ],
            [
             0.1111111111111111,
             "#46039f"
            ],
            [
             0.2222222222222222,
             "#7201a8"
            ],
            [
             0.3333333333333333,
             "#9c179e"
            ],
            [
             0.4444444444444444,
             "#bd3786"
            ],
            [
             0.5555555555555556,
             "#d8576b"
            ],
            [
             0.6666666666666666,
             "#ed7953"
            ],
            [
             0.7777777777777778,
             "#fb9f3a"
            ],
            [
             0.8888888888888888,
             "#fdca26"
            ],
            [
             1,
             "#f0f921"
            ]
           ],
           "sequentialminus": [
            [
             0,
             "#0d0887"
            ],
            [
             0.1111111111111111,
             "#46039f"
            ],
            [
             0.2222222222222222,
             "#7201a8"
            ],
            [
             0.3333333333333333,
             "#9c179e"
            ],
            [
             0.4444444444444444,
             "#bd3786"
            ],
            [
             0.5555555555555556,
             "#d8576b"
            ],
            [
             0.6666666666666666,
             "#ed7953"
            ],
            [
             0.7777777777777778,
             "#fb9f3a"
            ],
            [
             0.8888888888888888,
             "#fdca26"
            ],
            [
             1,
             "#f0f921"
            ]
           ]
          },
          "colorway": [
           "#636efa",
           "#EF553B",
           "#00cc96",
           "#ab63fa",
           "#FFA15A",
           "#19d3f3",
           "#FF6692",
           "#B6E880",
           "#FF97FF",
           "#FECB52"
          ],
          "font": {
           "color": "#2a3f5f"
          },
          "geo": {
           "bgcolor": "white",
           "lakecolor": "white",
           "landcolor": "#E5ECF6",
           "showlakes": true,
           "showland": true,
           "subunitcolor": "white"
          },
          "hoverlabel": {
           "align": "left"
          },
          "hovermode": "closest",
          "mapbox": {
           "style": "light"
          },
          "paper_bgcolor": "white",
          "plot_bgcolor": "#E5ECF6",
          "polar": {
           "angularaxis": {
            "gridcolor": "white",
            "linecolor": "white",
            "ticks": ""
           },
           "bgcolor": "#E5ECF6",
           "radialaxis": {
            "gridcolor": "white",
            "linecolor": "white",
            "ticks": ""
           }
          },
          "scene": {
           "xaxis": {
            "backgroundcolor": "#E5ECF6",
            "gridcolor": "white",
            "gridwidth": 2,
            "linecolor": "white",
            "showbackground": true,
            "ticks": "",
            "zerolinecolor": "white"
           },
           "yaxis": {
            "backgroundcolor": "#E5ECF6",
            "gridcolor": "white",
            "gridwidth": 2,
            "linecolor": "white",
            "showbackground": true,
            "ticks": "",
            "zerolinecolor": "white"
           },
           "zaxis": {
            "backgroundcolor": "#E5ECF6",
            "gridcolor": "white",
            "gridwidth": 2,
            "linecolor": "white",
            "showbackground": true,
            "ticks": "",
            "zerolinecolor": "white"
           }
          },
          "shapedefaults": {
           "line": {
            "color": "#2a3f5f"
           }
          },
          "ternary": {
           "aaxis": {
            "gridcolor": "white",
            "linecolor": "white",
            "ticks": ""
           },
           "baxis": {
            "gridcolor": "white",
            "linecolor": "white",
            "ticks": ""
           },
           "bgcolor": "#E5ECF6",
           "caxis": {
            "gridcolor": "white",
            "linecolor": "white",
            "ticks": ""
           }
          },
          "title": {
           "x": 0.05
          },
          "xaxis": {
           "automargin": true,
           "gridcolor": "white",
           "linecolor": "white",
           "ticks": "",
           "title": {
            "standoff": 15
           },
           "zerolinecolor": "white",
           "zerolinewidth": 2
          },
          "yaxis": {
           "automargin": true,
           "gridcolor": "white",
           "linecolor": "white",
           "ticks": "",
           "title": {
            "standoff": 15
           },
           "zerolinecolor": "white",
           "zerolinewidth": 2
          }
         }
        },
        "title": {
         "text": "Most Commmon Words in Tweet"
        },
        "width": 700,
        "xaxis": {
         "anchor": "y",
         "domain": [
          0,
          1
         ],
         "title": {
          "text": "count"
         }
        },
        "yaxis": {
         "anchor": "x",
         "categoryarray": [
          "have",
          "by",
          "not",
          "this",
          "how",
          "believe",
          "it",
          "i",
          "are",
          "you",
          "we",
          "that",
          "about",
          "trump",
          "for",
          "on",
          "and",
          "warming",
          "in",
          "global",
          "a",
          "of",
          "is",
          "to",
          "the",
          "urlweb",
          "rt",
          "change",
          "climate",
          "username"
         ],
         "categoryorder": "array",
         "domain": [
          0,
          1
         ],
         "title": {
          "text": "common_words"
         }
        }
       }
      }
     },
     "metadata": {},
     "output_type": "display_data"
    }
   ],
   "source": [
    "common_words(clean[\"message\"], 30, arrange=\"Most\")"
   ]
  },
  {
   "cell_type": "markdown",
   "metadata": {},
   "source": [
    "<a id=\"four_one\"></a>\n",
    "### 4.1. StopWords\n",
    "\n",
    "<a href=#four>Back to Data Cleaning</a>"
   ]
  },
  {
   "cell_type": "code",
   "execution_count": 24,
   "metadata": {},
   "outputs": [],
   "source": [
    "# create copy to remove stopwords\n",
    "\n",
    "clean_sw = clean.copy()"
   ]
  },
  {
   "cell_type": "code",
   "execution_count": 25,
   "metadata": {},
   "outputs": [],
   "source": [
    "# function to remove stopwords\n",
    "\n",
    "def remove_stop_words(post):\n",
    "    return \" \".join([t for t in post.split() if t not in stopwords.words(\"english\")])\n",
    "\n",
    "clean_sw[\"clean\"] = clean_sw[\"message\"].apply(remove_stop_words)"
   ]
  },
  {
   "cell_type": "code",
   "execution_count": 26,
   "metadata": {},
   "outputs": [
    {
     "data": {
      "text/html": [
       "<div>\n",
       "<style scoped>\n",
       "    .dataframe tbody tr th:only-of-type {\n",
       "        vertical-align: middle;\n",
       "    }\n",
       "\n",
       "    .dataframe tbody tr th {\n",
       "        vertical-align: top;\n",
       "    }\n",
       "\n",
       "    .dataframe thead th {\n",
       "        text-align: right;\n",
       "    }\n",
       "</style>\n",
       "<table border=\"1\" class=\"dataframe\">\n",
       "  <thead>\n",
       "    <tr style=\"text-align: right;\">\n",
       "      <th></th>\n",
       "      <th>sentiment</th>\n",
       "      <th>message</th>\n",
       "      <th>clean</th>\n",
       "    </tr>\n",
       "    <tr>\n",
       "      <th>tweetid</th>\n",
       "      <th></th>\n",
       "      <th></th>\n",
       "      <th></th>\n",
       "    </tr>\n",
       "  </thead>\n",
       "  <tbody>\n",
       "    <tr>\n",
       "      <th>625221</th>\n",
       "      <td>1</td>\n",
       "      <td>polyscimajor epa chief doesnt think carbon dioxide is main cause of global warming and wait what urlweb via username</td>\n",
       "      <td>polyscimajor epa chief doesnt think carbon dioxide main cause global warming wait urlweb via username</td>\n",
       "    </tr>\n",
       "    <tr>\n",
       "      <th>126103</th>\n",
       "      <td>1</td>\n",
       "      <td>its not like we lack evidence of anthropogenic global warming</td>\n",
       "      <td>like lack evidence anthropogenic global warming</td>\n",
       "    </tr>\n",
       "    <tr>\n",
       "      <th>698562</th>\n",
       "      <td>2</td>\n",
       "      <td>rt username researchers say we have three years to act on climate change before its too late urlweb urlweb</td>\n",
       "      <td>rt username researchers say three years act climate change late urlweb urlweb</td>\n",
       "    </tr>\n",
       "    <tr>\n",
       "      <th>573736</th>\n",
       "      <td>1</td>\n",
       "      <td>todayinmaker wired   was a pivotal year in the war on climate change urlweb</td>\n",
       "      <td>todayinmaker wired pivotal year war climate change urlweb</td>\n",
       "    </tr>\n",
       "    <tr>\n",
       "      <th>466954</th>\n",
       "      <td>1</td>\n",
       "      <td>rt username its  and a racist sexist climate change denying bigot is leading in the polls electionnight</td>\n",
       "      <td>rt username racist sexist climate change denying bigot leading polls electionnight</td>\n",
       "    </tr>\n",
       "  </tbody>\n",
       "</table>\n",
       "</div>"
      ],
      "text/plain": [
       "         sentiment  \\\n",
       "tweetid              \n",
       "625221           1   \n",
       "126103           1   \n",
       "698562           2   \n",
       "573736           1   \n",
       "466954           1   \n",
       "\n",
       "                                                                                                                      message  \\\n",
       "tweetid                                                                                                                         \n",
       "625221   polyscimajor epa chief doesnt think carbon dioxide is main cause of global warming and wait what urlweb via username   \n",
       "126103                                                          its not like we lack evidence of anthropogenic global warming   \n",
       "698562             rt username researchers say we have three years to act on climate change before its too late urlweb urlweb   \n",
       "573736                                            todayinmaker wired   was a pivotal year in the war on climate change urlweb   \n",
       "466954                rt username its  and a racist sexist climate change denying bigot is leading in the polls electionnight   \n",
       "\n",
       "                                                                                                         clean  \n",
       "tweetid                                                                                                         \n",
       "625221   polyscimajor epa chief doesnt think carbon dioxide main cause global warming wait urlweb via username  \n",
       "126103                                                         like lack evidence anthropogenic global warming  \n",
       "698562                           rt username researchers say three years act climate change late urlweb urlweb  \n",
       "573736                                               todayinmaker wired pivotal year war climate change urlweb  \n",
       "466954                      rt username racist sexist climate change denying bigot leading polls electionnight  "
      ]
     },
     "execution_count": 26,
     "metadata": {},
     "output_type": "execute_result"
    }
   ],
   "source": [
    "clean_sw.head()"
   ]
  },
  {
   "cell_type": "markdown",
   "metadata": {
    "tags": []
   },
   "source": [
    "<a id=\"four_two\"></a>\n",
    "### 4.2. Tokenisation\n",
    "\n",
    "<a href=#four>Back to Data Cleaning</a>"
   ]
  },
  {
   "cell_type": "code",
   "execution_count": 27,
   "metadata": {},
   "outputs": [],
   "source": [
    "# create copy to tokenize\n",
    "\n",
    "token = clean_sw.copy()"
   ]
  },
  {
   "cell_type": "code",
   "execution_count": 28,
   "metadata": {},
   "outputs": [],
   "source": [
    "tokeniser = TreebankWordTokenizer()\n",
    "token[\"tokens\"] = token[\"clean\"].apply(tokeniser.tokenize)"
   ]
  },
  {
   "cell_type": "code",
   "execution_count": 29,
   "metadata": {},
   "outputs": [
    {
     "data": {
      "text/plain": [
       "['rt',\n",
       " 'username',\n",
       " 'elected',\n",
       " 'president',\n",
       " 'believes',\n",
       " 'climate',\n",
       " 'change',\n",
       " 'hoax',\n",
       " 'veered',\n",
       " 'chinese',\n",
       " 'government']"
      ]
     },
     "execution_count": 29,
     "metadata": {},
     "output_type": "execute_result"
    }
   ],
   "source": [
    "token[\"tokens\"].iloc[4895]"
   ]
  },
  {
   "cell_type": "markdown",
   "metadata": {},
   "source": [
    "<a id=\"four_three\"></a>\n",
    "### 4.3. Stemming\n",
    "\n",
    "<a href=#four>Back to Data Cleaning</a>"
   ]
  },
  {
   "cell_type": "code",
   "execution_count": 110,
   "metadata": {},
   "outputs": [],
   "source": [
    "# create copy to stem words using stemmer\n",
    "\n",
    "stemmed = token.copy()"
   ]
  },
  {
   "cell_type": "code",
   "execution_count": 111,
   "metadata": {},
   "outputs": [],
   "source": [
    "sb_stemmer = SnowballStemmer(\"english\")\n",
    "port_stemmer = PorterStemmer()\n",
    "lanc_stemmer = LancasterStemmer()\n",
    "# \"english\"\n",
    "\n",
    "def word_stemmer(words, stemmer):\n",
    "    # stem words in DataFrame column\n",
    "    return [stemmer.stem(word) for word in words]"
   ]
  },
  {
   "cell_type": "code",
   "execution_count": 112,
   "metadata": {},
   "outputs": [],
   "source": [
    "stemmed[\"sb_stem\"] = stemmed[\"tokens\"].apply(word_stemmer, args=(sb_stemmer, ))\n",
    "stemmed[\"port_stem\"] = stemmed[\"tokens\"].apply(word_stemmer, args=(port_stemmer, ))\n",
    "stemmed[\"lanc_stem\"] = stemmed[\"tokens\"].apply(word_stemmer, args=(lanc_stemmer, ))"
   ]
  },
  {
   "cell_type": "code",
   "execution_count": 122,
   "metadata": {},
   "outputs": [
    {
     "name": "stdout",
     "output_type": "stream",
     "text": [
      "rt                                       --> rt                             --> rt                   --> rt        \n",
      "username                                 --> usernam                        --> usernam              --> usernam   \n",
      "ok                                       --> ok                             --> ok                   --> ok        \n",
      "crochet                                  --> crochet                        --> crochet              --> crochet   \n",
      "addict                                   --> addict                         --> addict               --> addict    \n",
      "global                                   --> global                         --> global               --> glob      \n",
      "warming                                  --> warm                           --> warm                 --> warm      \n",
      "blanket                                  --> blanket                        --> blanket              --> blanket   \n",
      "stripes                                  --> stripe                         --> stripe               --> stripes   \n",
      "coloured                                 --> colour                         --> colour               --> colo      \n",
      "according                                --> accord                         --> accord               --> accord    \n",
      "last                                     --> last                           --> last                 --> last      \n",
      "years                                    --> year                           --> year                 --> year      \n"
     ]
    }
   ],
   "source": [
    "# confirm stemmer function\n",
    "row = 356\n",
    "\n",
    "for i, t in enumerate(stemmed.iloc[row][\"tokens\"]):    \n",
    "    print (\"{:40s} --> {:30s} --> {:20s} --> {:10s}\".format(t, stemmed.iloc[row][\"sb_stem\"][i], stemmed.iloc[row][\"port_stem\"][i], stemmed.iloc[row][\"lanc_stem\"][i]))"
   ]
  },
  {
   "cell_type": "markdown",
   "metadata": {},
   "source": [
    "<a id=\"four_four\"></a>\n",
    "### 4.4. Lemmatization\n",
    "\n",
    "<a href=#four>Back to Data Cleaning</a>"
   ]
  },
  {
   "cell_type": "code",
   "execution_count": 123,
   "metadata": {},
   "outputs": [],
   "source": [
    "# create copy to stem words using lemmatizer\n",
    "\n",
    "lemmad = stemmed.copy()"
   ]
  },
  {
   "cell_type": "code",
   "execution_count": 124,
   "metadata": {},
   "outputs": [],
   "source": [
    "lemmatizer = WordNetLemmatizer()\n",
    "\n",
    "def word_lemma(words, lemmatizer):\n",
    "    # lemmatize words in DataFrame column\n",
    "    return [lemmatizer.lemmatize(word) for word in words]  "
   ]
  },
  {
   "cell_type": "code",
   "execution_count": 125,
   "metadata": {},
   "outputs": [],
   "source": [
    "lemmad[\"lemma\"] = lemmad[\"tokens\"].apply(word_lemma, args=(lemmatizer, ))"
   ]
  },
  {
   "cell_type": "code",
   "execution_count": 126,
   "metadata": {},
   "outputs": [
    {
     "name": "stdout",
     "output_type": "stream",
     "text": [
      "rt                   --> rt        \n",
      "username             --> username  \n",
      "lefts                --> left      \n",
      "meltdown             --> meltdown  \n",
      "causing              --> causing   \n",
      "global               --> global    \n",
      "warming              --> warming   \n",
      "whywemustimpeachtrumpinwords --> whywemustimpeachtrumpinwords\n"
     ]
    }
   ],
   "source": [
    "# confirm lemmatizer function\n",
    "\n",
    "for i, t in enumerate(lemmad.iloc[2162][\"tokens\"]):    \n",
    "    print (\"{:20s} --> {:10s}\".format(t, lemmad.iloc[2162][\"lemma\"][i]))"
   ]
  },
  {
   "cell_type": "markdown",
   "metadata": {
    "jp-MarkdownHeadingCollapsed": true,
    "tags": []
   },
   "source": [
    "<a id=\"four_five\"></a>\n",
    "### 4.5. Resampling\n",
    "\n",
    "<a href=#four>Back to Data Cleaning</a>"
   ]
  },
  {
   "cell_type": "code",
   "execution_count": 38,
   "metadata": {},
   "outputs": [],
   "source": [
    "# create copy to resample sentiment category\n",
    "\n",
    "resampling = lemmad.copy()"
   ]
  },
  {
   "cell_type": "code",
   "execution_count": 39,
   "metadata": {},
   "outputs": [],
   "source": [
    "# separate out sentiments\n",
    "\n",
    "news_re = resampling[resampling[\"sentiment\"]==2]\n",
    "pro_re = resampling[resampling[\"sentiment\"]==1]\n",
    "neutral_re = resampling[resampling[\"sentiment\"]==0]\n",
    "anti_re = resampling[resampling[\"sentiment\"]==-1]"
   ]
  },
  {
   "cell_type": "code",
   "execution_count": 40,
   "metadata": {},
   "outputs": [
    {
     "data": {
      "text/plain": [
       " 1    6824\n",
       " 2    6824\n",
       " 0    6824\n",
       "-1    6824\n",
       "Name: sentiment, dtype: int64"
      ]
     },
     "execution_count": 40,
     "metadata": {},
     "output_type": "execute_result"
    }
   ],
   "source": [
    "# data size to resample to\n",
    "class_size = int(len(pro)*0.8) # 80% of maxinum class size\n",
    "\n",
    "# Downsample majority\n",
    "pro_downsampled = resample(pro_re,\n",
    "                           replace=False, # sample without replacement (no need to duplicate observations)\n",
    "                           n_samples=class_size,\n",
    "                           random_state=42)\n",
    "\n",
    "# Upsample minority\n",
    "news_upsampled = resample(news_re,\n",
    "                          replace=True, # sample with replacement (we need to duplicate observations)\n",
    "                          n_samples=class_size,\n",
    "                          random_state=42)\n",
    "\n",
    "newtral_upsampled = resample(neutral_re,\n",
    "                             replace=True,\n",
    "                             n_samples=class_size,\n",
    "                             random_state=42)\n",
    "\n",
    "anti_upsampled = resample(anti_re,\n",
    "                          replace=True,\n",
    "                          n_samples=class_size,\n",
    "                          random_state=42)\n",
    "\n",
    "resampled = pd.concat([pro_downsampled, news_upsampled, newtral_upsampled, anti_upsampled])\n",
    "\n",
    "# confirm new class counts\n",
    "resampled[\"sentiment\"].value_counts()"
   ]
  },
  {
   "cell_type": "code",
   "execution_count": 41,
   "metadata": {},
   "outputs": [
    {
     "data": {
      "image/png": "[encoded data removed]",
      "text/plain": [
       "<Figure size 720x504 with 1 Axes>"
      ]
     },
     "metadata": {},
     "output_type": "display_data"
    }
   ],
   "source": [
    "# plot resampling process\n",
    "\n",
    "heights1 = [len(resampled[resampled[\"sentiment\"]==2]), len(pro), len(neutral), len(anti)]\n",
    "heights2 = [len(news), len(pro), len(resampled[resampled[\"sentiment\"]==0]), len(anti)]\n",
    "heights3 = [len(news), len(pro), len(neutral), len(resampled[resampled[\"sentiment\"]==-1])]\n",
    "heights4 = [len(news), len(resampled[resampled[\"sentiment\"]==1]), len(neutral), len(anti)]\n",
    "\n",
    "# Get all possible labels\n",
    "labels = resampling[\"sentiment\"].unique()\n",
    "plt.bar(labels,heights1,color=[\"blue\", \"lightblue\", \"lightblue\", \"lightblue\"])\n",
    "plt.bar(labels,heights2,color=[\"lightblue\", \"lightblue\", \"blue\", \"lightblue\"])\n",
    "plt.bar(labels,heights3,color=[\"lightblue\", \"lightblue\", \"lightblue\", \"blue\"])\n",
    "plt.bar(labels,heights4,color=[\"lightblue\", \"blue\", \"lightblue\", \"lightblue\"])\n",
    "plt.xticks(labels,[\"news\", \"pro\", \"neutral\", \"anti\"])\n",
    "plt.ylabel(\"# of observations\")\n",
    "plt.legend([\"resampled\", \"original\"])\n",
    "plt.show()"
   ]
  },
  {
   "cell_type": "code",
   "execution_count": 42,
   "metadata": {},
   "outputs": [
    {
     "data": {
      "text/html": [
       "<div>\n",
       "<style scoped>\n",
       "    .dataframe tbody tr th:only-of-type {\n",
       "        vertical-align: middle;\n",
       "    }\n",
       "\n",
       "    .dataframe tbody tr th {\n",
       "        vertical-align: top;\n",
       "    }\n",
       "\n",
       "    .dataframe thead th {\n",
       "        text-align: right;\n",
       "    }\n",
       "</style>\n",
       "<table border=\"1\" class=\"dataframe\">\n",
       "  <thead>\n",
       "    <tr style=\"text-align: right;\">\n",
       "      <th></th>\n",
       "      <th>sentiment</th>\n",
       "      <th>message</th>\n",
       "      <th>clean</th>\n",
       "      <th>tokens</th>\n",
       "      <th>stem</th>\n",
       "      <th>lemma</th>\n",
       "    </tr>\n",
       "    <tr>\n",
       "      <th>tweetid</th>\n",
       "      <th></th>\n",
       "      <th></th>\n",
       "      <th></th>\n",
       "      <th></th>\n",
       "      <th></th>\n",
       "      <th></th>\n",
       "    </tr>\n",
       "  </thead>\n",
       "  <tbody>\n",
       "    <tr>\n",
       "      <th>555359</th>\n",
       "      <td>1</td>\n",
       "      <td>rt username watch beforetheflood right here as username travels the world to tackle climate change urlweb htt</td>\n",
       "      <td>rt username watch beforetheflood right username travels world tackle climate change urlweb htt</td>\n",
       "      <td>[rt, username, watch, beforetheflood, right, username, travels, world, tackle, climate, change, urlweb, htt]</td>\n",
       "      <td>[rt, usernam, watch, beforetheflood, right, usernam, travel, world, tackl, climat, chang, urlweb, htt]</td>\n",
       "      <td>[rt, username, watch, beforetheflood, right, username, travel, world, tackle, climate, change, urlweb, htt]</td>\n",
       "    </tr>\n",
       "    <tr>\n",
       "      <th>504402</th>\n",
       "      <td>1</td>\n",
       "      <td>rt username we have a presidentelect who doesnt believe in climate change millions of people are going to have to say mr t</td>\n",
       "      <td>rt username presidentelect doesnt believe climate change millions people going say mr</td>\n",
       "      <td>[rt, username, presidentelect, doesnt, believe, climate, change, millions, people, going, say, mr]</td>\n",
       "      <td>[rt, usernam, presidentelect, doesnt, believ, climat, chang, million, peopl, go, say, mr]</td>\n",
       "      <td>[rt, username, presidentelect, doesnt, believe, climate, change, million, people, going, say, mr]</td>\n",
       "    </tr>\n",
       "    <tr>\n",
       "      <th>559217</th>\n",
       "      <td>1</td>\n",
       "      <td>rt username fed court has ruled rights of username youth threatened by climate change help them proceed to trial</td>\n",
       "      <td>rt username fed court ruled rights username youth threatened climate change help proceed trial</td>\n",
       "      <td>[rt, username, fed, court, ruled, rights, username, youth, threatened, climate, change, help, proceed, trial]</td>\n",
       "      <td>[rt, usernam, fed, court, rule, right, usernam, youth, threaten, climat, chang, help, proceed, trial]</td>\n",
       "      <td>[rt, username, fed, court, ruled, right, username, youth, threatened, climate, change, help, proceed, trial]</td>\n",
       "    </tr>\n",
       "    <tr>\n",
       "      <th>936602</th>\n",
       "      <td>1</td>\n",
       "      <td>rt username the us elected trump but the rest of the world didntso what do we do if us policies  eg climate change threaten the re</td>\n",
       "      <td>rt username us elected trump rest world didntso us policies eg climate change threaten</td>\n",
       "      <td>[rt, username, us, elected, trump, rest, world, didntso, us, policies, eg, climate, change, threaten]</td>\n",
       "      <td>[rt, usernam, us, elect, trump, rest, world, didntso, us, polici, eg, climat, chang, threaten]</td>\n",
       "      <td>[rt, username, u, elected, trump, rest, world, didntso, u, policy, eg, climate, change, threaten]</td>\n",
       "    </tr>\n",
       "    <tr>\n",
       "      <th>639182</th>\n",
       "      <td>1</td>\n",
       "      <td>rt username we have a presidentelect who doesnt believe in climate change thats frightening for this country and the world</td>\n",
       "      <td>rt username presidentelect doesnt believe climate change thats frightening country world</td>\n",
       "      <td>[rt, username, presidentelect, doesnt, believe, climate, change, thats, frightening, country, world]</td>\n",
       "      <td>[rt, usernam, presidentelect, doesnt, believ, climat, chang, that, frighten, countri, world]</td>\n",
       "      <td>[rt, username, presidentelect, doesnt, believe, climate, change, thats, frightening, country, world]</td>\n",
       "    </tr>\n",
       "  </tbody>\n",
       "</table>\n",
       "</div>"
      ],
      "text/plain": [
       "         sentiment  \\\n",
       "tweetid              \n",
       "555359           1   \n",
       "504402           1   \n",
       "559217           1   \n",
       "936602           1   \n",
       "639182           1   \n",
       "\n",
       "                                                                                                                                    message  \\\n",
       "tweetid                                                                                                                                       \n",
       "555359                        rt username watch beforetheflood right here as username travels the world to tackle climate change urlweb htt   \n",
       "504402           rt username we have a presidentelect who doesnt believe in climate change millions of people are going to have to say mr t   \n",
       "559217                     rt username fed court has ruled rights of username youth threatened by climate change help them proceed to trial   \n",
       "936602   rt username the us elected trump but the rest of the world didntso what do we do if us policies  eg climate change threaten the re   \n",
       "639182           rt username we have a presidentelect who doesnt believe in climate change thats frightening for this country and the world   \n",
       "\n",
       "                                                                                                  clean  \\\n",
       "tweetid                                                                                                   \n",
       "555359   rt username watch beforetheflood right username travels world tackle climate change urlweb htt   \n",
       "504402            rt username presidentelect doesnt believe climate change millions people going say mr   \n",
       "559217   rt username fed court ruled rights username youth threatened climate change help proceed trial   \n",
       "936602           rt username us elected trump rest world didntso us policies eg climate change threaten   \n",
       "639182         rt username presidentelect doesnt believe climate change thats frightening country world   \n",
       "\n",
       "                                                                                                                tokens  \\\n",
       "tweetid                                                                                                                  \n",
       "555359    [rt, username, watch, beforetheflood, right, username, travels, world, tackle, climate, change, urlweb, htt]   \n",
       "504402              [rt, username, presidentelect, doesnt, believe, climate, change, millions, people, going, say, mr]   \n",
       "559217   [rt, username, fed, court, ruled, rights, username, youth, threatened, climate, change, help, proceed, trial]   \n",
       "936602           [rt, username, us, elected, trump, rest, world, didntso, us, policies, eg, climate, change, threaten]   \n",
       "639182            [rt, username, presidentelect, doesnt, believe, climate, change, thats, frightening, country, world]   \n",
       "\n",
       "                                                                                                           stem  \\\n",
       "tweetid                                                                                                           \n",
       "555359   [rt, usernam, watch, beforetheflood, right, usernam, travel, world, tackl, climat, chang, urlweb, htt]   \n",
       "504402                [rt, usernam, presidentelect, doesnt, believ, climat, chang, million, peopl, go, say, mr]   \n",
       "559217    [rt, usernam, fed, court, rule, right, usernam, youth, threaten, climat, chang, help, proceed, trial]   \n",
       "936602           [rt, usernam, us, elect, trump, rest, world, didntso, us, polici, eg, climat, chang, threaten]   \n",
       "639182             [rt, usernam, presidentelect, doesnt, believ, climat, chang, that, frighten, countri, world]   \n",
       "\n",
       "                                                                                                                lemma  \n",
       "tweetid                                                                                                                \n",
       "555359    [rt, username, watch, beforetheflood, right, username, travel, world, tackle, climate, change, urlweb, htt]  \n",
       "504402              [rt, username, presidentelect, doesnt, believe, climate, change, million, people, going, say, mr]  \n",
       "559217   [rt, username, fed, court, ruled, right, username, youth, threatened, climate, change, help, proceed, trial]  \n",
       "936602              [rt, username, u, elected, trump, rest, world, didntso, u, policy, eg, climate, change, threaten]  \n",
       "639182           [rt, username, presidentelect, doesnt, believe, climate, change, thats, frightening, country, world]  "
      ]
     },
     "execution_count": 42,
     "metadata": {},
     "output_type": "execute_result"
    }
   ],
   "source": [
    "resampled.head()"
   ]
  },
  {
   "cell_type": "markdown",
   "metadata": {
    "tags": []
   },
   "source": [
    "<a id=\"five\"></a>\n",
    "## 5. Model Files\n",
    "<a href=#linkup>Back to Table of Contents</a>\n",
    "\n",
    "---\n",
    "    \n",
    "## <center>| ⚡ Description ⚡ |\n",
    "\n",
    "**<center>Preparing data to train model with.<center>**\n",
    "\n",
    "---"
   ]
  },
  {
   "cell_type": "markdown",
   "metadata": {
    "tags": []
   },
   "source": [
    "<a id=\"five_zero\"></a>\n",
    "### 5.0. Prepare features\n",
    "\n",
    "<a href=#five>Back to Model Files</a>"
   ]
  },
  {
   "cell_type": "code",
   "execution_count": 127,
   "metadata": {},
   "outputs": [],
   "source": [
    "# create copy to prepare data\n",
    "\n",
    "prepare = lemmad.copy()"
   ]
  },
  {
   "cell_type": "code",
   "execution_count": 128,
   "metadata": {},
   "outputs": [
    {
     "data": {
      "text/html": [
       "<div>\n",
       "<style scoped>\n",
       "    .dataframe tbody tr th:only-of-type {\n",
       "        vertical-align: middle;\n",
       "    }\n",
       "\n",
       "    .dataframe tbody tr th {\n",
       "        vertical-align: top;\n",
       "    }\n",
       "\n",
       "    .dataframe thead th {\n",
       "        text-align: right;\n",
       "    }\n",
       "</style>\n",
       "<table border=\"1\" class=\"dataframe\">\n",
       "  <thead>\n",
       "    <tr style=\"text-align: right;\">\n",
       "      <th></th>\n",
       "      <th>sentiment</th>\n",
       "      <th>message</th>\n",
       "      <th>clean</th>\n",
       "      <th>tokens</th>\n",
       "      <th>sb_stem</th>\n",
       "      <th>port_stem</th>\n",
       "      <th>lanc_stem</th>\n",
       "      <th>lemma</th>\n",
       "      <th>sb_stem_str</th>\n",
       "      <th>port_stem_str</th>\n",
       "      <th>lanc_stem_str</th>\n",
       "      <th>lemma_str</th>\n",
       "    </tr>\n",
       "    <tr>\n",
       "      <th>tweetid</th>\n",
       "      <th></th>\n",
       "      <th></th>\n",
       "      <th></th>\n",
       "      <th></th>\n",
       "      <th></th>\n",
       "      <th></th>\n",
       "      <th></th>\n",
       "      <th></th>\n",
       "      <th></th>\n",
       "      <th></th>\n",
       "      <th></th>\n",
       "      <th></th>\n",
       "    </tr>\n",
       "  </thead>\n",
       "  <tbody>\n",
       "    <tr>\n",
       "      <th>625221</th>\n",
       "      <td>1</td>\n",
       "      <td>polyscimajor epa chief doesnt think carbon dioxide is main cause of global warming and wait what urlweb via username</td>\n",
       "      <td>polyscimajor epa chief doesnt think carbon dioxide main cause global warming wait urlweb via username</td>\n",
       "      <td>[polyscimajor, epa, chief, doesnt, think, carbon, dioxide, main, cause, global, warming, wait, urlweb, via, username]</td>\n",
       "      <td>[polyscimajor, epa, chief, doesnt, think, carbon, dioxid, main, caus, global, warm, wait, urlweb, via, usernam]</td>\n",
       "      <td>[polyscimajor, epa, chief, doesnt, think, carbon, dioxid, main, caus, global, warm, wait, urlweb, via, usernam]</td>\n",
       "      <td>[polyscimas, ep, chief, doesnt, think, carbon, dioxid, main, caus, glob, warm, wait, urlweb, via, usernam]</td>\n",
       "      <td>[polyscimajor, epa, chief, doesnt, think, carbon, dioxide, main, cause, global, warming, wait, urlweb, via, username]</td>\n",
       "      <td>polyscimajor epa chief doesnt think carbon dioxid main caus global warm wait urlweb via usernam</td>\n",
       "      <td>polyscimajor epa chief doesnt think carbon dioxid main caus global warm wait urlweb via usernam</td>\n",
       "      <td>polyscimas ep chief doesnt think carbon dioxid main caus glob warm wait urlweb via usernam</td>\n",
       "      <td>polyscimajor epa chief doesnt think carbon dioxide main cause global warming wait urlweb via username</td>\n",
       "    </tr>\n",
       "    <tr>\n",
       "      <th>126103</th>\n",
       "      <td>1</td>\n",
       "      <td>its not like we lack evidence of anthropogenic global warming</td>\n",
       "      <td>like lack evidence anthropogenic global warming</td>\n",
       "      <td>[like, lack, evidence, anthropogenic, global, warming]</td>\n",
       "      <td>[like, lack, evid, anthropogen, global, warm]</td>\n",
       "      <td>[like, lack, evid, anthropogen, global, warm]</td>\n",
       "      <td>[lik, lack, evid, anthropog, glob, warm]</td>\n",
       "      <td>[like, lack, evidence, anthropogenic, global, warming]</td>\n",
       "      <td>like lack evid anthropogen global warm</td>\n",
       "      <td>like lack evid anthropogen global warm</td>\n",
       "      <td>lik lack evid anthropog glob warm</td>\n",
       "      <td>like lack evidence anthropogenic global warming</td>\n",
       "    </tr>\n",
       "    <tr>\n",
       "      <th>698562</th>\n",
       "      <td>2</td>\n",
       "      <td>rt username researchers say we have three years to act on climate change before its too late urlweb urlweb</td>\n",
       "      <td>rt username researchers say three years act climate change late urlweb urlweb</td>\n",
       "      <td>[rt, username, researchers, say, three, years, act, climate, change, late, urlweb, urlweb]</td>\n",
       "      <td>[rt, usernam, research, say, three, year, act, climat, chang, late, urlweb, urlweb]</td>\n",
       "      <td>[rt, usernam, research, say, three, year, act, climat, chang, late, urlweb, urlweb]</td>\n",
       "      <td>[rt, usernam, research, say, three, year, act, clim, chang, lat, urlweb, urlweb]</td>\n",
       "      <td>[rt, username, researcher, say, three, year, act, climate, change, late, urlweb, urlweb]</td>\n",
       "      <td>rt usernam research say three year act climat chang late urlweb urlweb</td>\n",
       "      <td>rt usernam research say three year act climat chang late urlweb urlweb</td>\n",
       "      <td>rt usernam research say three year act clim chang lat urlweb urlweb</td>\n",
       "      <td>rt username researcher say three year act climate change late urlweb urlweb</td>\n",
       "    </tr>\n",
       "    <tr>\n",
       "      <th>573736</th>\n",
       "      <td>1</td>\n",
       "      <td>todayinmaker wired   was a pivotal year in the war on climate change urlweb</td>\n",
       "      <td>todayinmaker wired pivotal year war climate change urlweb</td>\n",
       "      <td>[todayinmaker, wired, pivotal, year, war, climate, change, urlweb]</td>\n",
       "      <td>[todayinmak, wire, pivot, year, war, climat, chang, urlweb]</td>\n",
       "      <td>[todayinmak, wire, pivot, year, war, climat, chang, urlweb]</td>\n",
       "      <td>[todayinmak, wir, pivot, year, war, clim, chang, urlweb]</td>\n",
       "      <td>[todayinmaker, wired, pivotal, year, war, climate, change, urlweb]</td>\n",
       "      <td>todayinmak wire pivot year war climat chang urlweb</td>\n",
       "      <td>todayinmak wire pivot year war climat chang urlweb</td>\n",
       "      <td>todayinmak wir pivot year war clim chang urlweb</td>\n",
       "      <td>todayinmaker wired pivotal year war climate change urlweb</td>\n",
       "    </tr>\n",
       "    <tr>\n",
       "      <th>466954</th>\n",
       "      <td>1</td>\n",
       "      <td>rt username its  and a racist sexist climate change denying bigot is leading in the polls electionnight</td>\n",
       "      <td>rt username racist sexist climate change denying bigot leading polls electionnight</td>\n",
       "      <td>[rt, username, racist, sexist, climate, change, denying, bigot, leading, polls, electionnight]</td>\n",
       "      <td>[rt, usernam, racist, sexist, climat, chang, deni, bigot, lead, poll, electionnight]</td>\n",
       "      <td>[rt, usernam, racist, sexist, climat, chang, deni, bigot, lead, poll, electionnight]</td>\n",
       "      <td>[rt, usernam, rac, sex, clim, chang, deny, bigot, lead, pol, electionnight]</td>\n",
       "      <td>[rt, username, racist, sexist, climate, change, denying, bigot, leading, poll, electionnight]</td>\n",
       "      <td>rt usernam racist sexist climat chang deni bigot lead poll electionnight</td>\n",
       "      <td>rt usernam racist sexist climat chang deni bigot lead poll electionnight</td>\n",
       "      <td>rt usernam rac sex clim chang deny bigot lead pol electionnight</td>\n",
       "      <td>rt username racist sexist climate change denying bigot leading poll electionnight</td>\n",
       "    </tr>\n",
       "  </tbody>\n",
       "</table>\n",
       "</div>"
      ],
      "text/plain": [
       "         sentiment  \\\n",
       "tweetid              \n",
       "625221           1   \n",
       "126103           1   \n",
       "698562           2   \n",
       "573736           1   \n",
       "466954           1   \n",
       "\n",
       "                                                                                                                      message  \\\n",
       "tweetid                                                                                                                         \n",
       "625221   polyscimajor epa chief doesnt think carbon dioxide is main cause of global warming and wait what urlweb via username   \n",
       "126103                                                          its not like we lack evidence of anthropogenic global warming   \n",
       "698562             rt username researchers say we have three years to act on climate change before its too late urlweb urlweb   \n",
       "573736                                            todayinmaker wired   was a pivotal year in the war on climate change urlweb   \n",
       "466954                rt username its  and a racist sexist climate change denying bigot is leading in the polls electionnight   \n",
       "\n",
       "                                                                                                         clean  \\\n",
       "tweetid                                                                                                          \n",
       "625221   polyscimajor epa chief doesnt think carbon dioxide main cause global warming wait urlweb via username   \n",
       "126103                                                         like lack evidence anthropogenic global warming   \n",
       "698562                           rt username researchers say three years act climate change late urlweb urlweb   \n",
       "573736                                               todayinmaker wired pivotal year war climate change urlweb   \n",
       "466954                      rt username racist sexist climate change denying bigot leading polls electionnight   \n",
       "\n",
       "                                                                                                                        tokens  \\\n",
       "tweetid                                                                                                                          \n",
       "625221   [polyscimajor, epa, chief, doesnt, think, carbon, dioxide, main, cause, global, warming, wait, urlweb, via, username]   \n",
       "126103                                                                  [like, lack, evidence, anthropogenic, global, warming]   \n",
       "698562                              [rt, username, researchers, say, three, years, act, climate, change, late, urlweb, urlweb]   \n",
       "573736                                                      [todayinmaker, wired, pivotal, year, war, climate, change, urlweb]   \n",
       "466954                          [rt, username, racist, sexist, climate, change, denying, bigot, leading, polls, electionnight]   \n",
       "\n",
       "                                                                                                                 sb_stem  \\\n",
       "tweetid                                                                                                                    \n",
       "625221   [polyscimajor, epa, chief, doesnt, think, carbon, dioxid, main, caus, global, warm, wait, urlweb, via, usernam]   \n",
       "126103                                                                     [like, lack, evid, anthropogen, global, warm]   \n",
       "698562                               [rt, usernam, research, say, three, year, act, climat, chang, late, urlweb, urlweb]   \n",
       "573736                                                       [todayinmak, wire, pivot, year, war, climat, chang, urlweb]   \n",
       "466954                              [rt, usernam, racist, sexist, climat, chang, deni, bigot, lead, poll, electionnight]   \n",
       "\n",
       "                                                                                                               port_stem  \\\n",
       "tweetid                                                                                                                    \n",
       "625221   [polyscimajor, epa, chief, doesnt, think, carbon, dioxid, main, caus, global, warm, wait, urlweb, via, usernam]   \n",
       "126103                                                                     [like, lack, evid, anthropogen, global, warm]   \n",
       "698562                               [rt, usernam, research, say, three, year, act, climat, chang, late, urlweb, urlweb]   \n",
       "573736                                                       [todayinmak, wire, pivot, year, war, climat, chang, urlweb]   \n",
       "466954                              [rt, usernam, racist, sexist, climat, chang, deni, bigot, lead, poll, electionnight]   \n",
       "\n",
       "                                                                                                          lanc_stem  \\\n",
       "tweetid                                                                                                               \n",
       "625221   [polyscimas, ep, chief, doesnt, think, carbon, dioxid, main, caus, glob, warm, wait, urlweb, via, usernam]   \n",
       "126103                                                                     [lik, lack, evid, anthropog, glob, warm]   \n",
       "698562                             [rt, usernam, research, say, three, year, act, clim, chang, lat, urlweb, urlweb]   \n",
       "573736                                                     [todayinmak, wir, pivot, year, war, clim, chang, urlweb]   \n",
       "466954                                  [rt, usernam, rac, sex, clim, chang, deny, bigot, lead, pol, electionnight]   \n",
       "\n",
       "                                                                                                                         lemma  \\\n",
       "tweetid                                                                                                                          \n",
       "625221   [polyscimajor, epa, chief, doesnt, think, carbon, dioxide, main, cause, global, warming, wait, urlweb, via, username]   \n",
       "126103                                                                  [like, lack, evidence, anthropogenic, global, warming]   \n",
       "698562                                [rt, username, researcher, say, three, year, act, climate, change, late, urlweb, urlweb]   \n",
       "573736                                                      [todayinmaker, wired, pivotal, year, war, climate, change, urlweb]   \n",
       "466954                           [rt, username, racist, sexist, climate, change, denying, bigot, leading, poll, electionnight]   \n",
       "\n",
       "                                                                                             sb_stem_str  \\\n",
       "tweetid                                                                                                    \n",
       "625221   polyscimajor epa chief doesnt think carbon dioxid main caus global warm wait urlweb via usernam   \n",
       "126103                                                            like lack evid anthropogen global warm   \n",
       "698562                            rt usernam research say three year act climat chang late urlweb urlweb   \n",
       "573736                                                todayinmak wire pivot year war climat chang urlweb   \n",
       "466954                          rt usernam racist sexist climat chang deni bigot lead poll electionnight   \n",
       "\n",
       "                                                                                           port_stem_str  \\\n",
       "tweetid                                                                                                    \n",
       "625221   polyscimajor epa chief doesnt think carbon dioxid main caus global warm wait urlweb via usernam   \n",
       "126103                                                            like lack evid anthropogen global warm   \n",
       "698562                            rt usernam research say three year act climat chang late urlweb urlweb   \n",
       "573736                                                todayinmak wire pivot year war climat chang urlweb   \n",
       "466954                          rt usernam racist sexist climat chang deni bigot lead poll electionnight   \n",
       "\n",
       "                                                                                      lanc_stem_str  \\\n",
       "tweetid                                                                                               \n",
       "625221   polyscimas ep chief doesnt think carbon dioxid main caus glob warm wait urlweb via usernam   \n",
       "126103                                                            lik lack evid anthropog glob warm   \n",
       "698562                          rt usernam research say three year act clim chang lat urlweb urlweb   \n",
       "573736                                              todayinmak wir pivot year war clim chang urlweb   \n",
       "466954                              rt usernam rac sex clim chang deny bigot lead pol electionnight   \n",
       "\n",
       "                                                                                                     lemma_str  \n",
       "tweetid                                                                                                         \n",
       "625221   polyscimajor epa chief doesnt think carbon dioxide main cause global warming wait urlweb via username  \n",
       "126103                                                         like lack evidence anthropogenic global warming  \n",
       "698562                             rt username researcher say three year act climate change late urlweb urlweb  \n",
       "573736                                               todayinmaker wired pivotal year war climate change urlweb  \n",
       "466954                       rt username racist sexist climate change denying bigot leading poll electionnight  "
      ]
     },
     "execution_count": 128,
     "metadata": {},
     "output_type": "execute_result"
    }
   ],
   "source": [
    "# convert important column from list to str\n",
    "\n",
    "prepare[\"sb_stem_str\"] = [\" \".join(map(str, l)) for l in prepare[\"sb_stem\"]]\n",
    "prepare[\"port_stem_str\"] = [\" \".join(map(str, l)) for l in prepare[\"port_stem\"]]\n",
    "prepare[\"lanc_stem_str\"] = [\" \".join(map(str, l)) for l in prepare[\"lanc_stem\"]]\n",
    "prepare[\"lemma_str\"] = [\" \".join(map(str, l)) for l in prepare[\"lemma\"]]\n",
    "\n",
    "prepare.head()"
   ]
  },
  {
   "cell_type": "code",
   "execution_count": 45,
   "metadata": {},
   "outputs": [
    {
     "data": {
      "application/vnd.plotly.v1+json": {
       "config": {
        "plotlyServerURL": "https://plot.ly"
       },
       "data": [
        {
         "alignmentgroup": "True",
         "hovertemplate": "common_words=%{y}<br>count=%{x}<extra></extra>",
         "legendgroup": "username",
         "marker": {
          "color": "#636efa",
          "pattern": {
           "shape": ""
          }
         },
         "name": "username",
         "offsetgroup": "username",
         "orientation": "h",
         "showlegend": true,
         "textposition": "auto",
         "type": "bar",
         "x": [
          14737
         ],
         "xaxis": "x",
         "y": [
          "username"
         ],
         "yaxis": "y"
        },
        {
         "alignmentgroup": "True",
         "hovertemplate": "common_words=%{y}<br>count=%{x}<extra></extra>",
         "legendgroup": "climate",
         "marker": {
          "color": "#EF553B",
          "pattern": {
           "shape": ""
          }
         },
         "name": "climate",
         "offsetgroup": "climate",
         "orientation": "h",
         "showlegend": true,
         "textposition": "auto",
         "type": "bar",
         "x": [
          12959
         ],
         "xaxis": "x",
         "y": [
          "climate"
         ],
         "yaxis": "y"
        },
        {
         "alignmentgroup": "True",
         "hovertemplate": "common_words=%{y}<br>count=%{x}<extra></extra>",
         "legendgroup": "change",
         "marker": {
          "color": "#00cc96",
          "pattern": {
           "shape": ""
          }
         },
         "name": "change",
         "offsetgroup": "change",
         "orientation": "h",
         "showlegend": true,
         "textposition": "auto",
         "type": "bar",
         "x": [
          12622
         ],
         "xaxis": "x",
         "y": [
          "change"
         ],
         "yaxis": "y"
        },
        {
         "alignmentgroup": "True",
         "hovertemplate": "common_words=%{y}<br>count=%{x}<extra></extra>",
         "legendgroup": "rt",
         "marker": {
          "color": "#ab63fa",
          "pattern": {
           "shape": ""
          }
         },
         "name": "rt",
         "offsetgroup": "rt",
         "orientation": "h",
         "showlegend": true,
         "textposition": "auto",
         "type": "bar",
         "x": [
          9723
         ],
         "xaxis": "x",
         "y": [
          "rt"
         ],
         "yaxis": "y"
        },
        {
         "alignmentgroup": "True",
         "hovertemplate": "common_words=%{y}<br>count=%{x}<extra></extra>",
         "legendgroup": "urlweb",
         "marker": {
          "color": "#FFA15A",
          "pattern": {
           "shape": ""
          }
         },
         "name": "urlweb",
         "offsetgroup": "urlweb",
         "orientation": "h",
         "showlegend": true,
         "textposition": "auto",
         "type": "bar",
         "x": [
          9125
         ],
         "xaxis": "x",
         "y": [
          "urlweb"
         ],
         "yaxis": "y"
        },
        {
         "alignmentgroup": "True",
         "hovertemplate": "common_words=%{y}<br>count=%{x}<extra></extra>",
         "legendgroup": "global",
         "marker": {
          "color": "#19d3f3",
          "pattern": {
           "shape": ""
          }
         },
         "name": "global",
         "offsetgroup": "global",
         "orientation": "h",
         "showlegend": true,
         "textposition": "auto",
         "type": "bar",
         "x": [
          3779
         ],
         "xaxis": "x",
         "y": [
          "global"
         ],
         "yaxis": "y"
        },
        {
         "alignmentgroup": "True",
         "hovertemplate": "common_words=%{y}<br>count=%{x}<extra></extra>",
         "legendgroup": "warming",
         "marker": {
          "color": "#FF6692",
          "pattern": {
           "shape": ""
          }
         },
         "name": "warming",
         "offsetgroup": "warming",
         "orientation": "h",
         "showlegend": true,
         "textposition": "auto",
         "type": "bar",
         "x": [
          3509
         ],
         "xaxis": "x",
         "y": [
          "warming"
         ],
         "yaxis": "y"
        },
        {
         "alignmentgroup": "True",
         "hovertemplate": "common_words=%{y}<br>count=%{x}<extra></extra>",
         "legendgroup": "trump",
         "marker": {
          "color": "#B6E880",
          "pattern": {
           "shape": ""
          }
         },
         "name": "trump",
         "offsetgroup": "trump",
         "orientation": "h",
         "showlegend": true,
         "textposition": "auto",
         "type": "bar",
         "x": [
          2411
         ],
         "xaxis": "x",
         "y": [
          "trump"
         ],
         "yaxis": "y"
        },
        {
         "alignmentgroup": "True",
         "hovertemplate": "common_words=%{y}<br>count=%{x}<extra></extra>",
         "legendgroup": "believe",
         "marker": {
          "color": "#FF97FF",
          "pattern": {
           "shape": ""
          }
         },
         "name": "believe",
         "offsetgroup": "believe",
         "orientation": "h",
         "showlegend": true,
         "textposition": "auto",
         "type": "bar",
         "x": [
          1159
         ],
         "xaxis": "x",
         "y": [
          "believe"
         ],
         "yaxis": "y"
        },
        {
         "alignmentgroup": "True",
         "hovertemplate": "common_words=%{y}<br>count=%{x}<extra></extra>",
         "legendgroup": "u",
         "marker": {
          "color": "#FECB52",
          "pattern": {
           "shape": ""
          }
         },
         "name": "u",
         "offsetgroup": "u",
         "orientation": "h",
         "showlegend": true,
         "textposition": "auto",
         "type": "bar",
         "x": [
          1024
         ],
         "xaxis": "x",
         "y": [
          "u"
         ],
         "yaxis": "y"
        },
        {
         "alignmentgroup": "True",
         "hovertemplate": "common_words=%{y}<br>count=%{x}<extra></extra>",
         "legendgroup": "doesnt",
         "marker": {
          "color": "#636efa",
          "pattern": {
           "shape": ""
          }
         },
         "name": "doesnt",
         "offsetgroup": "doesnt",
         "orientation": "h",
         "showlegend": true,
         "textposition": "auto",
         "type": "bar",
         "x": [
          887
         ],
         "xaxis": "x",
         "y": [
          "doesnt"
         ],
         "yaxis": "y"
        },
        {
         "alignmentgroup": "True",
         "hovertemplate": "common_words=%{y}<br>count=%{x}<extra></extra>",
         "legendgroup": "amp",
         "marker": {
          "color": "#EF553B",
          "pattern": {
           "shape": ""
          }
         },
         "name": "amp",
         "offsetgroup": "amp",
         "orientation": "h",
         "showlegend": true,
         "textposition": "auto",
         "type": "bar",
         "x": [
          880
         ],
         "xaxis": "x",
         "y": [
          "amp"
         ],
         "yaxis": "y"
        },
        {
         "alignmentgroup": "True",
         "hovertemplate": "common_words=%{y}<br>count=%{x}<extra></extra>",
         "legendgroup": "say",
         "marker": {
          "color": "#00cc96",
          "pattern": {
           "shape": ""
          }
         },
         "name": "say",
         "offsetgroup": "say",
         "orientation": "h",
         "showlegend": true,
         "textposition": "auto",
         "type": "bar",
         "x": [
          802
         ],
         "xaxis": "x",
         "y": [
          "say"
         ],
         "yaxis": "y"
        },
        {
         "alignmentgroup": "True",
         "hovertemplate": "common_words=%{y}<br>count=%{x}<extra></extra>",
         "legendgroup": "world",
         "marker": {
          "color": "#ab63fa",
          "pattern": {
           "shape": ""
          }
         },
         "name": "world",
         "offsetgroup": "world",
         "orientation": "h",
         "showlegend": true,
         "textposition": "auto",
         "type": "bar",
         "x": [
          734
         ],
         "xaxis": "x",
         "y": [
          "world"
         ],
         "yaxis": "y"
        },
        {
         "alignmentgroup": "True",
         "hovertemplate": "common_words=%{y}<br>count=%{x}<extra></extra>",
         "legendgroup": "real",
         "marker": {
          "color": "#FFA15A",
          "pattern": {
           "shape": ""
          }
         },
         "name": "real",
         "offsetgroup": "real",
         "orientation": "h",
         "showlegend": true,
         "textposition": "auto",
         "type": "bar",
         "x": [
          716
         ],
         "xaxis": "x",
         "y": [
          "real"
         ],
         "yaxis": "y"
        },
        {
         "alignmentgroup": "True",
         "hovertemplate": "common_words=%{y}<br>count=%{x}<extra></extra>",
         "legendgroup": "going",
         "marker": {
          "color": "#19d3f3",
          "pattern": {
           "shape": ""
          }
         },
         "name": "going",
         "offsetgroup": "going",
         "orientation": "h",
         "showlegend": true,
         "textposition": "auto",
         "type": "bar",
         "x": [
          671
         ],
         "xaxis": "x",
         "y": [
          "going"
         ],
         "yaxis": "y"
        },
        {
         "alignmentgroup": "True",
         "hovertemplate": "common_words=%{y}<br>count=%{x}<extra></extra>",
         "legendgroup": "shes",
         "marker": {
          "color": "#FF6692",
          "pattern": {
           "shape": ""
          }
         },
         "name": "shes",
         "offsetgroup": "shes",
         "orientation": "h",
         "showlegend": true,
         "textposition": "auto",
         "type": "bar",
         "x": [
          638
         ],
         "xaxis": "x",
         "y": [
          "shes"
         ],
         "yaxis": "y"
        },
        {
         "alignmentgroup": "True",
         "hovertemplate": "common_words=%{y}<br>count=%{x}<extra></extra>",
         "legendgroup": "people",
         "marker": {
          "color": "#B6E880",
          "pattern": {
           "shape": ""
          }
         },
         "name": "people",
         "offsetgroup": "people",
         "orientation": "h",
         "showlegend": true,
         "textposition": "auto",
         "type": "bar",
         "x": [
          621
         ],
         "xaxis": "x",
         "y": [
          "people"
         ],
         "yaxis": "y"
        },
        {
         "alignmentgroup": "True",
         "hovertemplate": "common_words=%{y}<br>count=%{x}<extra></extra>",
         "legendgroup": "think",
         "marker": {
          "color": "#FF97FF",
          "pattern": {
           "shape": ""
          }
         },
         "name": "think",
         "offsetgroup": "think",
         "orientation": "h",
         "showlegend": true,
         "textposition": "auto",
         "type": "bar",
         "x": [
          612
         ],
         "xaxis": "x",
         "y": [
          "think"
         ],
         "yaxis": "y"
        },
        {
         "alignmentgroup": "True",
         "hovertemplate": "common_words=%{y}<br>count=%{x}<extra></extra>",
         "legendgroup": "epa",
         "marker": {
          "color": "#FECB52",
          "pattern": {
           "shape": ""
          }
         },
         "name": "epa",
         "offsetgroup": "epa",
         "orientation": "h",
         "showlegend": true,
         "textposition": "auto",
         "type": "bar",
         "x": [
          568
         ],
         "xaxis": "x",
         "y": [
          "epa"
         ],
         "yaxis": "y"
        },
        {
         "alignmentgroup": "True",
         "hovertemplate": "common_words=%{y}<br>count=%{x}<extra></extra>",
         "legendgroup": "scientist",
         "marker": {
          "color": "#636efa",
          "pattern": {
           "shape": ""
          }
         },
         "name": "scientist",
         "offsetgroup": "scientist",
         "orientation": "h",
         "showlegend": true,
         "textposition": "auto",
         "type": "bar",
         "x": [
          548
         ],
         "xaxis": "x",
         "y": [
          "scientist"
         ],
         "yaxis": "y"
        },
        {
         "alignmentgroup": "True",
         "hovertemplate": "common_words=%{y}<br>count=%{x}<extra></extra>",
         "legendgroup": "via",
         "marker": {
          "color": "#EF553B",
          "pattern": {
           "shape": ""
          }
         },
         "name": "via",
         "offsetgroup": "via",
         "orientation": "h",
         "showlegend": true,
         "textposition": "auto",
         "type": "bar",
         "x": [
          547
         ],
         "xaxis": "x",
         "y": [
          "via"
         ],
         "yaxis": "y"
        },
        {
         "alignmentgroup": "True",
         "hovertemplate": "common_words=%{y}<br>count=%{x}<extra></extra>",
         "legendgroup": "new",
         "marker": {
          "color": "#00cc96",
          "pattern": {
           "shape": ""
          }
         },
         "name": "new",
         "offsetgroup": "new",
         "orientation": "h",
         "showlegend": true,
         "textposition": "auto",
         "type": "bar",
         "x": [
          541
         ],
         "xaxis": "x",
         "y": [
          "new"
         ],
         "yaxis": "y"
        },
        {
         "alignmentgroup": "True",
         "hovertemplate": "common_words=%{y}<br>count=%{x}<extra></extra>",
         "legendgroup": "dont",
         "marker": {
          "color": "#ab63fa",
          "pattern": {
           "shape": ""
          }
         },
         "name": "dont",
         "offsetgroup": "dont",
         "orientation": "h",
         "showlegend": true,
         "textposition": "auto",
         "type": "bar",
         "x": [
          533
         ],
         "xaxis": "x",
         "y": [
          "dont"
         ],
         "yaxis": "y"
        },
        {
         "alignmentgroup": "True",
         "hovertemplate": "common_words=%{y}<br>count=%{x}<extra></extra>",
         "legendgroup": "fight",
         "marker": {
          "color": "#FFA15A",
          "pattern": {
           "shape": ""
          }
         },
         "name": "fight",
         "offsetgroup": "fight",
         "orientation": "h",
         "showlegend": true,
         "textposition": "auto",
         "type": "bar",
         "x": [
          496
         ],
         "xaxis": "x",
         "y": [
          "fight"
         ],
         "yaxis": "y"
        },
        {
         "alignmentgroup": "True",
         "hovertemplate": "common_words=%{y}<br>count=%{x}<extra></extra>",
         "legendgroup": "like",
         "marker": {
          "color": "#19d3f3",
          "pattern": {
           "shape": ""
          }
         },
         "name": "like",
         "offsetgroup": "like",
         "orientation": "h",
         "showlegend": true,
         "textposition": "auto",
         "type": "bar",
         "x": [
          472
         ],
         "xaxis": "x",
         "y": [
          "like"
         ],
         "yaxis": "y"
        },
        {
         "alignmentgroup": "True",
         "hovertemplate": "common_words=%{y}<br>count=%{x}<extra></extra>",
         "legendgroup": "science",
         "marker": {
          "color": "#FF6692",
          "pattern": {
           "shape": ""
          }
         },
         "name": "science",
         "offsetgroup": "science",
         "orientation": "h",
         "showlegend": true,
         "textposition": "auto",
         "type": "bar",
         "x": [
          458
         ],
         "xaxis": "x",
         "y": [
          "science"
         ],
         "yaxis": "y"
        },
        {
         "alignmentgroup": "True",
         "hovertemplate": "common_words=%{y}<br>count=%{x}<extra></extra>",
         "legendgroup": "hoax",
         "marker": {
          "color": "#B6E880",
          "pattern": {
           "shape": ""
          }
         },
         "name": "hoax",
         "offsetgroup": "hoax",
         "orientation": "h",
         "showlegend": true,
         "textposition": "auto",
         "type": "bar",
         "x": [
          453
         ],
         "xaxis": "x",
         "y": [
          "hoax"
         ],
         "yaxis": "y"
        },
        {
         "alignmentgroup": "True",
         "hovertemplate": "common_words=%{y}<br>count=%{x}<extra></extra>",
         "legendgroup": "die",
         "marker": {
          "color": "#FF97FF",
          "pattern": {
           "shape": ""
          }
         },
         "name": "die",
         "offsetgroup": "die",
         "orientation": "h",
         "showlegend": true,
         "textposition": "auto",
         "type": "bar",
         "x": [
          418
         ],
         "xaxis": "x",
         "y": [
          "die"
         ],
         "yaxis": "y"
        },
        {
         "alignmentgroup": "True",
         "hovertemplate": "common_words=%{y}<br>count=%{x}<extra></extra>",
         "legendgroup": "denier",
         "marker": {
          "color": "#FECB52",
          "pattern": {
           "shape": ""
          }
         },
         "name": "denier",
         "offsetgroup": "denier",
         "orientation": "h",
         "showlegend": true,
         "textposition": "auto",
         "type": "bar",
         "x": [
          408
         ],
         "xaxis": "x",
         "y": [
          "denier"
         ],
         "yaxis": "y"
        }
       ],
       "layout": {
        "barmode": "relative",
        "height": 700,
        "legend": {
         "title": {
          "text": "common_words"
         },
         "tracegroupgap": 0
        },
        "template": {
         "data": {
          "bar": [
           {
            "error_x": {
             "color": "#2a3f5f"
            },
            "error_y": {
             "color": "#2a3f5f"
            },
            "marker": {
             "line": {
              "color": "#E5ECF6",
              "width": 0.5
             },
             "pattern": {
              "fillmode": "overlay",
              "size": 10,
              "solidity": 0.2
             }
            },
            "type": "bar"
           }
          ],
          "barpolar": [
           {
            "marker": {
             "line": {
              "color": "#E5ECF6",
              "width": 0.5
             },
             "pattern": {
              "fillmode": "overlay",
              "size": 10,
              "solidity": 0.2
             }
            },
            "type": "barpolar"
           }
          ],
          "carpet": [
           {
            "aaxis": {
             "endlinecolor": "#2a3f5f",
             "gridcolor": "white",
             "linecolor": "white",
             "minorgridcolor": "white",
             "startlinecolor": "#2a3f5f"
            },
            "baxis": {
             "endlinecolor": "#2a3f5f",
             "gridcolor": "white",
             "linecolor": "white",
             "minorgridcolor": "white",
             "startlinecolor": "#2a3f5f"
            },
            "type": "carpet"
           }
          ],
          "choropleth": [
           {
            "colorbar": {
             "outlinewidth": 0,
             "ticks": ""
            },
            "type": "choropleth"
           }
          ],
          "contour": [
           {
            "colorbar": {
             "outlinewidth": 0,
             "ticks": ""
            },
            "colorscale": [
             [
              0,
              "#0d0887"
             ],
             [
              0.1111111111111111,
              "#46039f"
             ],
             [
              0.2222222222222222,
              "#7201a8"
             ],
             [
              0.3333333333333333,
              "#9c179e"
             ],
             [
              0.4444444444444444,
              "#bd3786"
             ],
             [
              0.5555555555555556,
              "#d8576b"
             ],
             [
              0.6666666666666666,
              "#ed7953"
             ],
             [
              0.7777777777777778,
              "#fb9f3a"
             ],
             [
              0.8888888888888888,
              "#fdca26"
             ],
             [
              1,
              "#f0f921"
             ]
            ],
            "type": "contour"
           }
          ],
          "contourcarpet": [
           {
            "colorbar": {
             "outlinewidth": 0,
             "ticks": ""
            },
            "type": "contourcarpet"
           }
          ],
          "heatmap": [
           {
            "colorbar": {
             "outlinewidth": 0,
             "ticks": ""
            },
            "colorscale": [
             [
              0,
              "#0d0887"
             ],
             [
              0.1111111111111111,
              "#46039f"
             ],
             [
              0.2222222222222222,
              "#7201a8"
             ],
             [
              0.3333333333333333,
              "#9c179e"
             ],
             [
              0.4444444444444444,
              "#bd3786"
             ],
             [
              0.5555555555555556,
              "#d8576b"
             ],
             [
              0.6666666666666666,
              "#ed7953"
             ],
             [
              0.7777777777777778,
              "#fb9f3a"
             ],
             [
              0.8888888888888888,
              "#fdca26"
             ],
             [
              1,
              "#f0f921"
             ]
            ],
            "type": "heatmap"
           }
          ],
          "heatmapgl": [
           {
            "colorbar": {
             "outlinewidth": 0,
             "ticks": ""
            },
            "colorscale": [
             [
              0,
              "#0d0887"
             ],
             [
              0.1111111111111111,
              "#46039f"
             ],
             [
              0.2222222222222222,
              "#7201a8"
             ],
             [
              0.3333333333333333,
              "#9c179e"
             ],
             [
              0.4444444444444444,
              "#bd3786"
             ],
             [
              0.5555555555555556,
              "#d8576b"
             ],
             [
              0.6666666666666666,
              "#ed7953"
             ],
             [
              0.7777777777777778,
              "#fb9f3a"
             ],
             [
              0.8888888888888888,
              "#fdca26"
             ],
             [
              1,
              "#f0f921"
             ]
            ],
            "type": "heatmapgl"
           }
          ],
          "histogram": [
           {
            "marker": {
             "pattern": {
              "fillmode": "overlay",
              "size": 10,
              "solidity": 0.2
             }
            },
            "type": "histogram"
           }
          ],
          "histogram2d": [
           {
            "colorbar": {
             "outlinewidth": 0,
             "ticks": ""
            },
            "colorscale": [
             [
              0,
              "#0d0887"
             ],
             [
              0.1111111111111111,
              "#46039f"
             ],
             [
              0.2222222222222222,
              "#7201a8"
             ],
             [
              0.3333333333333333,
              "#9c179e"
             ],
             [
              0.4444444444444444,
              "#bd3786"
             ],
             [
              0.5555555555555556,
              "#d8576b"
             ],
             [
              0.6666666666666666,
              "#ed7953"
             ],
             [
              0.7777777777777778,
              "#fb9f3a"
             ],
             [
              0.8888888888888888,
              "#fdca26"
             ],
             [
              1,
              "#f0f921"
             ]
            ],
            "type": "histogram2d"
           }
          ],
          "histogram2dcontour": [
           {
            "colorbar": {
             "outlinewidth": 0,
             "ticks": ""
            },
            "colorscale": [
             [
              0,
              "#0d0887"
             ],
             [
              0.1111111111111111,
              "#46039f"
             ],
             [
              0.2222222222222222,
              "#7201a8"
             ],
             [
              0.3333333333333333,
              "#9c179e"
             ],
             [
              0.4444444444444444,
              "#bd3786"
             ],
             [
              0.5555555555555556,
              "#d8576b"
             ],
             [
              0.6666666666666666,
              "#ed7953"
             ],
             [
              0.7777777777777778,
              "#fb9f3a"
             ],
             [
              0.8888888888888888,
              "#fdca26"
             ],
             [
              1,
              "#f0f921"
             ]
            ],
            "type": "histogram2dcontour"
           }
          ],
          "mesh3d": [
           {
            "colorbar": {
             "outlinewidth": 0,
             "ticks": ""
            },
            "type": "mesh3d"
           }
          ],
          "parcoords": [
           {
            "line": {
             "colorbar": {
              "outlinewidth": 0,
              "ticks": ""
             }
            },
            "type": "parcoords"
           }
          ],
          "pie": [
           {
            "automargin": true,
            "type": "pie"
           }
          ],
          "scatter": [
           {
            "fillpattern": {
             "fillmode": "overlay",
             "size": 10,
             "solidity": 0.2
            },
            "type": "scatter"
           }
          ],
          "scatter3d": [
           {
            "line": {
             "colorbar": {
              "outlinewidth": 0,
              "ticks": ""
             }
            },
            "marker": {
             "colorbar": {
              "outlinewidth": 0,
              "ticks": ""
             }
            },
            "type": "scatter3d"
           }
          ],
          "scattercarpet": [
           {
            "marker": {
             "colorbar": {
              "outlinewidth": 0,
              "ticks": ""
             }
            },
            "type": "scattercarpet"
           }
          ],
          "scattergeo": [
           {
            "marker": {
             "colorbar": {
              "outlinewidth": 0,
              "ticks": ""
             }
            },
            "type": "scattergeo"
           }
          ],
          "scattergl": [
           {
            "marker": {
             "colorbar": {
              "outlinewidth": 0,
              "ticks": ""
             }
            },
            "type": "scattergl"
           }
          ],
          "scattermapbox": [
           {
            "marker": {
             "colorbar": {
              "outlinewidth": 0,
              "ticks": ""
             }
            },
            "type": "scattermapbox"
           }
          ],
          "scatterpolar": [
           {
            "marker": {
             "colorbar": {
              "outlinewidth": 0,
              "ticks": ""
             }
            },
            "type": "scatterpolar"
           }
          ],
          "scatterpolargl": [
           {
            "marker": {
             "colorbar": {
              "outlinewidth": 0,
              "ticks": ""
             }
            },
            "type": "scatterpolargl"
           }
          ],
          "scatterternary": [
           {
            "marker": {
             "colorbar": {
              "outlinewidth": 0,
              "ticks": ""
             }
            },
            "type": "scatterternary"
           }
          ],
          "surface": [
           {
            "colorbar": {
             "outlinewidth": 0,
             "ticks": ""
            },
            "colorscale": [
             [
              0,
              "#0d0887"
             ],
             [
              0.1111111111111111,
              "#46039f"
             ],
             [
              0.2222222222222222,
              "#7201a8"
             ],
             [
              0.3333333333333333,
              "#9c179e"
             ],
             [
              0.4444444444444444,
              "#bd3786"
             ],
             [
              0.5555555555555556,
              "#d8576b"
             ],
             [
              0.6666666666666666,
              "#ed7953"
             ],
             [
              0.7777777777777778,
              "#fb9f3a"
             ],
             [
              0.8888888888888888,
              "#fdca26"
             ],
             [
              1,
              "#f0f921"
             ]
            ],
            "type": "surface"
           }
          ],
          "table": [
           {
            "cells": {
             "fill": {
              "color": "#EBF0F8"
             },
             "line": {
              "color": "white"
             }
            },
            "header": {
             "fill": {
              "color": "#C8D4E3"
             },
             "line": {
              "color": "white"
             }
            },
            "type": "table"
           }
          ]
         },
         "layout": {
          "annotationdefaults": {
           "arrowcolor": "#2a3f5f",
           "arrowhead": 0,
           "arrowwidth": 1
          },
          "autotypenumbers": "strict",
          "coloraxis": {
           "colorbar": {
            "outlinewidth": 0,
            "ticks": ""
           }
          },
          "colorscale": {
           "diverging": [
            [
             0,
             "#8e0152"
            ],
            [
             0.1,
             "#c51b7d"
            ],
            [
             0.2,
             "#de77ae"
            ],
            [
             0.3,
             "#f1b6da"
            ],
            [
             0.4,
             "#fde0ef"
            ],
            [
             0.5,
             "#f7f7f7"
            ],
            [
             0.6,
             "#e6f5d0"
            ],
            [
             0.7,
             "#b8e186"
            ],
            [
             0.8,
             "#7fbc41"
            ],
            [
             0.9,
             "#4d9221"
            ],
            [
             1,
             "#276419"
            ]
           ],
           "sequential": [
            [
             0,
             "#0d0887"
            ],
            [
             0.1111111111111111,
             "#46039f"
            ],
            [
             0.2222222222222222,
             "#7201a8"
            ],
            [
             0.3333333333333333,
             "#9c179e"
            ],
            [
             0.4444444444444444,
             "#bd3786"
            ],
            [
             0.5555555555555556,
             "#d8576b"
            ],
            [
             0.6666666666666666,
             "#ed7953"
            ],
            [
             0.7777777777777778,
             "#fb9f3a"
            ],
            [
             0.8888888888888888,
             "#fdca26"
            ],
            [
             1,
             "#f0f921"
            ]
           ],
           "sequentialminus": [
            [
             0,
             "#0d0887"
            ],
            [
             0.1111111111111111,
             "#46039f"
            ],
            [
             0.2222222222222222,
             "#7201a8"
            ],
            [
             0.3333333333333333,
             "#9c179e"
            ],
            [
             0.4444444444444444,
             "#bd3786"
            ],
            [
             0.5555555555555556,
             "#d8576b"
            ],
            [
             0.6666666666666666,
             "#ed7953"
            ],
            [
             0.7777777777777778,
             "#fb9f3a"
            ],
            [
             0.8888888888888888,
             "#fdca26"
            ],
            [
             1,
             "#f0f921"
            ]
           ]
          },
          "colorway": [
           "#636efa",
           "#EF553B",
           "#00cc96",
           "#ab63fa",
           "#FFA15A",
           "#19d3f3",
           "#FF6692",
           "#B6E880",
           "#FF97FF",
           "#FECB52"
          ],
          "font": {
           "color": "#2a3f5f"
          },
          "geo": {
           "bgcolor": "white",
           "lakecolor": "white",
           "landcolor": "#E5ECF6",
           "showlakes": true,
           "showland": true,
           "subunitcolor": "white"
          },
          "hoverlabel": {
           "align": "left"
          },
          "hovermode": "closest",
          "mapbox": {
           "style": "light"
          },
          "paper_bgcolor": "white",
          "plot_bgcolor": "#E5ECF6",
          "polar": {
           "angularaxis": {
            "gridcolor": "white",
            "linecolor": "white",
            "ticks": ""
           },
           "bgcolor": "#E5ECF6",
           "radialaxis": {
            "gridcolor": "white",
            "linecolor": "white",
            "ticks": ""
           }
          },
          "scene": {
           "xaxis": {
            "backgroundcolor": "#E5ECF6",
            "gridcolor": "white",
            "gridwidth": 2,
            "linecolor": "white",
            "showbackground": true,
            "ticks": "",
            "zerolinecolor": "white"
           },
           "yaxis": {
            "backgroundcolor": "#E5ECF6",
            "gridcolor": "white",
            "gridwidth": 2,
            "linecolor": "white",
            "showbackground": true,
            "ticks": "",
            "zerolinecolor": "white"
           },
           "zaxis": {
            "backgroundcolor": "#E5ECF6",
            "gridcolor": "white",
            "gridwidth": 2,
            "linecolor": "white",
            "showbackground": true,
            "ticks": "",
            "zerolinecolor": "white"
           }
          },
          "shapedefaults": {
           "line": {
            "color": "#2a3f5f"
           }
          },
          "ternary": {
           "aaxis": {
            "gridcolor": "white",
            "linecolor": "white",
            "ticks": ""
           },
           "baxis": {
            "gridcolor": "white",
            "linecolor": "white",
            "ticks": ""
           },
           "bgcolor": "#E5ECF6",
           "caxis": {
            "gridcolor": "white",
            "linecolor": "white",
            "ticks": ""
           }
          },
          "title": {
           "x": 0.05
          },
          "xaxis": {
           "automargin": true,
           "gridcolor": "white",
           "linecolor": "white",
           "ticks": "",
           "title": {
            "standoff": 15
           },
           "zerolinecolor": "white",
           "zerolinewidth": 2
          },
          "yaxis": {
           "automargin": true,
           "gridcolor": "white",
           "linecolor": "white",
           "ticks": "",
           "title": {
            "standoff": 15
           },
           "zerolinecolor": "white",
           "zerolinewidth": 2
          }
         }
        },
        "title": {
         "text": "Most Commmon Words in Tweet"
        },
        "width": 700,
        "xaxis": {
         "anchor": "y",
         "domain": [
          0,
          1
         ],
         "title": {
          "text": "count"
         }
        },
        "yaxis": {
         "anchor": "x",
         "categoryarray": [
          "denier",
          "die",
          "hoax",
          "science",
          "like",
          "fight",
          "dont",
          "new",
          "via",
          "scientist",
          "epa",
          "think",
          "people",
          "shes",
          "going",
          "real",
          "world",
          "say",
          "amp",
          "doesnt",
          "u",
          "believe",
          "trump",
          "warming",
          "global",
          "urlweb",
          "rt",
          "change",
          "climate",
          "username"
         ],
         "categoryorder": "array",
         "domain": [
          0,
          1
         ],
         "title": {
          "text": "common_words"
         }
        }
       }
      }
     },
     "metadata": {},
     "output_type": "display_data"
    }
   ],
   "source": [
    "common_words(prepare[\"lemma_str\"], 30, arrange=\"Most\")"
   ]
  },
  {
   "cell_type": "code",
   "execution_count": 46,
   "metadata": {},
   "outputs": [],
   "source": [
    "# create counter object for each sentiment label\n",
    "\n",
    "column = \"lemma\"\n",
    "news_words = Counter([item for sublist in prepare[prepare[\"sentiment\"]==2][column] for item in sublist])\n",
    "pro_words = Counter([item for sublist in prepare[prepare[\"sentiment\"]==1][column] for item in sublist])\n",
    "neutral_words = Counter([item for sublist in prepare[prepare[\"sentiment\"]==0][column] for item in sublist])\n",
    "anti_words = Counter([item for sublist in prepare[prepare[\"sentiment\"]==-1][column] for item in sublist])"
   ]
  },
  {
   "cell_type": "code",
   "execution_count": 48,
   "metadata": {},
   "outputs": [],
   "source": [
    "def tab_common_words(data, word_qty=30, arrange=\"Least\"):\n",
    "    \"\"\" \n",
    "    Takes in list of counter objects as data\n",
    "\n",
    "            Parameters\n",
    "            ----------\n",
    "            word_qty: int\n",
    "                Number of words to display\n",
    "                \n",
    "            arrange: str\n",
    "                if Least, display least occuring words\n",
    "                elif Most, display most occuring words\n",
    "\n",
    "            Returns\n",
    "            -------\n",
    "            Tabulated display of word and count of all words in each sentiment\n",
    "    \"\"\"\n",
    "    start = pd.DataFrame()\n",
    "    i=2 # highest label value\n",
    "    for info in data:\n",
    "        if \"Least\" in arrange:\n",
    "            df = pd.DataFrame(info.most_common()[::-1])[:word_qty]\n",
    "        elif \"Most\" in arrange:\n",
    "            df = pd.DataFrame(info.most_common())[:word_qty]\n",
    "        df.columns = [\"Common_words\",\"count\"]\n",
    "        start[\"Common_words \"+str(i)] = df[\"Common_words\"]\n",
    "        start[\"count \"+str(i)] = df[\"count\"]\n",
    "        i=i-1 # move backwars from highest label value\n",
    "    \n",
    "    return start"
   ]
  },
  {
   "cell_type": "code",
   "execution_count": 49,
   "metadata": {},
   "outputs": [],
   "source": [
    "def words_unique(data=prepare, column=\"lemma\", word_qty=30, sentiment=[2, \"News\"], arrange=\"Least\"):\n",
    "    \"\"\" \n",
    "    Takes in DataFrame as data\n",
    "\n",
    "            Parameters\n",
    "            ----------\n",
    "            column: str\n",
    "                Column label in data\n",
    "            \n",
    "            word_qty: int\n",
    "                Number of words to display\n",
    "                \n",
    "            sentiment: list of one int and one str\n",
    "                int represents sentiment label int\n",
    "                str represents sentiment label str\n",
    "\n",
    "            arrange: str\n",
    "                if Least, display least occuring words\n",
    "                elif Most, display most occuring words\n",
    "\n",
    "            Returns\n",
    "            -------\n",
    "            Tabulated display of word and count of words unique to each sentiment in descending order of count\n",
    "    \"\"\"\n",
    "    raw_words = [word for word_list in data[column] for word in word_list]\n",
    "\n",
    "    allother = list(set([word for word_list in data[data[\"sentiment\"]!=sentiment[0]][column] for word in word_list]))\n",
    "    \n",
    "    specific_only = [x for x in raw_words if x not in allother]\n",
    "    \n",
    "    mycounter = Counter()\n",
    "    \n",
    "    for item in data[data[\"sentiment\"]==sentiment[0]][column]:\n",
    "        for word in item:\n",
    "            mycounter[word]+=1\n",
    "    \n",
    "    keep = list(specific_only)\n",
    "    \n",
    "    for word in list(mycounter):\n",
    "        if word not in keep:\n",
    "            del mycounter[word]\n",
    "    \n",
    "    if \"Least\" in arrange:\n",
    "        unique_words = pd.DataFrame(mycounter.most_common()[::-1], columns = [sentiment[1]+\" words\",sentiment[1]+\" count\"])[:word_qty]\n",
    "    elif \"Most\" in arrange:\n",
    "        unique_words = pd.DataFrame(mycounter.most_common(), columns = [sentiment[1]+\" words\",sentiment[1]+\" count\"])[:word_qty]\n",
    "    \n",
    "    return unique_words"
   ]
  },
  {
   "cell_type": "code",
   "execution_count": 50,
   "metadata": {},
   "outputs": [],
   "source": [
    "sentiment_words = [news_words, pro_words, neutral_words, anti_words]\n",
    "common_words = tab_common_words(sentiment_words, word_qty=30, arrange=\"Most\")"
   ]
  },
  {
   "cell_type": "code",
   "execution_count": 51,
   "metadata": {},
   "outputs": [],
   "source": [
    "unique_news = words_unique(sentiment=[2, \"News\"], arrange=\"Most\")\n",
    "unique_pro = words_unique(sentiment=[1, \"pro\"], arrange=\"Most\")\n",
    "unique_neutral = words_unique(sentiment=[0, \"Neutral\"], arrange=\"Most\")\n",
    "unique_anti = words_unique(sentiment=[-1, \"Anti\"], arrange=\"Most\")\n",
    "unique_all = (unique_news.join(unique_pro.join(unique_neutral.join(unique_anti))))"
   ]
  },
  {
   "cell_type": "code",
   "execution_count": 52,
   "metadata": {},
   "outputs": [
    {
     "data": {
      "text/html": [
       "<style type=\"text/css\">\n",
       "#T_aee66_row0_col1, #T_aee66_row0_col3, #T_aee66_row0_col5, #T_aee66_row0_col7, #T_aee66_row0_col9, #T_aee66_row0_col11, #T_aee66_row0_col13, #T_aee66_row0_col15 {\n",
       "  background-color: #08306b;\n",
       "  color: #f1f1f1;\n",
       "}\n",
       "#T_aee66_row1_col1 {\n",
       "  background-color: #0c56a0;\n",
       "  color: #f1f1f1;\n",
       "}\n",
       "#T_aee66_row1_col3 {\n",
       "  background-color: #0a539e;\n",
       "  color: #f1f1f1;\n",
       "}\n",
       "#T_aee66_row1_col5 {\n",
       "  background-color: #3a8ac2;\n",
       "  color: #f1f1f1;\n",
       "}\n",
       "#T_aee66_row1_col7 {\n",
       "  background-color: #56a0ce;\n",
       "  color: #f1f1f1;\n",
       "}\n",
       "#T_aee66_row1_col9, #T_aee66_row2_col9, #T_aee66_row3_col9 {\n",
       "  background-color: #a5cde3;\n",
       "  color: #000000;\n",
       "}\n",
       "#T_aee66_row1_col11 {\n",
       "  background-color: #084e98;\n",
       "  color: #f1f1f1;\n",
       "}\n",
       "#T_aee66_row1_col13, #T_aee66_row2_col13, #T_aee66_row3_col13, #T_aee66_row4_col13, #T_aee66_row5_col13 {\n",
       "  background-color: #d8e7f5;\n",
       "  color: #000000;\n",
       "}\n",
       "#T_aee66_row1_col15 {\n",
       "  background-color: #63a8d3;\n",
       "  color: #f1f1f1;\n",
       "}\n",
       "#T_aee66_row2_col1 {\n",
       "  background-color: #105ba4;\n",
       "  color: #f1f1f1;\n",
       "}\n",
       "#T_aee66_row2_col3 {\n",
       "  background-color: #0e58a2;\n",
       "  color: #f1f1f1;\n",
       "}\n",
       "#T_aee66_row2_col5 {\n",
       "  background-color: #3e8ec4;\n",
       "  color: #f1f1f1;\n",
       "}\n",
       "#T_aee66_row2_col7 {\n",
       "  background-color: #60a7d2;\n",
       "  color: #f1f1f1;\n",
       "}\n",
       "#T_aee66_row2_col11 {\n",
       "  background-color: #2070b4;\n",
       "  color: #f1f1f1;\n",
       "}\n",
       "#T_aee66_row2_col15, #T_aee66_row3_col15, #T_aee66_row8_col9, #T_aee66_row9_col9 {\n",
       "  background-color: #c9ddf0;\n",
       "  color: #000000;\n",
       "}\n",
       "#T_aee66_row3_col1 {\n",
       "  background-color: #3282be;\n",
       "  color: #f1f1f1;\n",
       "}\n",
       "#T_aee66_row3_col3 {\n",
       "  background-color: #3585bf;\n",
       "  color: #f1f1f1;\n",
       "}\n",
       "#T_aee66_row3_col5 {\n",
       "  background-color: #6fb0d7;\n",
       "  color: #f1f1f1;\n",
       "}\n",
       "#T_aee66_row3_col7 {\n",
       "  background-color: #74b3d8;\n",
       "  color: #000000;\n",
       "}\n",
       "#T_aee66_row3_col11 {\n",
       "  background-color: #58a1cf;\n",
       "  color: #f1f1f1;\n",
       "}\n",
       "#T_aee66_row4_col1 {\n",
       "  background-color: #5da5d1;\n",
       "  color: #f1f1f1;\n",
       "}\n",
       "#T_aee66_row4_col3, #T_aee66_row4_col7, #T_aee66_row5_col11 {\n",
       "  background-color: #82bbdb;\n",
       "  color: #000000;\n",
       "}\n",
       "#T_aee66_row4_col5, #T_aee66_row4_col11 {\n",
       "  background-color: #7ab6d9;\n",
       "  color: #000000;\n",
       "}\n",
       "#T_aee66_row4_col9, #T_aee66_row5_col9, #T_aee66_row6_col9, #T_aee66_row7_col9 {\n",
       "  background-color: #b8d5ea;\n",
       "  color: #000000;\n",
       "}\n",
       "#T_aee66_row4_col15 {\n",
       "  background-color: #d2e3f3;\n",
       "  color: #000000;\n",
       "}\n",
       "#T_aee66_row5_col1 {\n",
       "  background-color: #c4daee;\n",
       "  color: #000000;\n",
       "}\n",
       "#T_aee66_row5_col3 {\n",
       "  background-color: #d7e6f5;\n",
       "  color: #000000;\n",
       "}\n",
       "#T_aee66_row5_col5 {\n",
       "  background-color: #81badb;\n",
       "  color: #000000;\n",
       "}\n",
       "#T_aee66_row5_col7 {\n",
       "  background-color: #8abfdd;\n",
       "  color: #000000;\n",
       "}\n",
       "#T_aee66_row5_col15, #T_aee66_row6_col3 {\n",
       "  background-color: #dbe9f6;\n",
       "  color: #000000;\n",
       "}\n",
       "#T_aee66_row6_col1 {\n",
       "  background-color: #e2edf8;\n",
       "  color: #000000;\n",
       "}\n",
       "#T_aee66_row6_col5 {\n",
       "  background-color: #a1cbe2;\n",
       "  color: #000000;\n",
       "}\n",
       "#T_aee66_row6_col7 {\n",
       "  background-color: #a9cfe5;\n",
       "  color: #000000;\n",
       "}\n",
       "#T_aee66_row6_col11 {\n",
       "  background-color: #b4d3e9;\n",
       "  color: #000000;\n",
       "}\n",
       "#T_aee66_row6_col13, #T_aee66_row7_col13, #T_aee66_row8_col13, #T_aee66_row9_col13 {\n",
       "  background-color: #e3eef8;\n",
       "  color: #000000;\n",
       "}\n",
       "#T_aee66_row6_col15, #T_aee66_row7_col15, #T_aee66_row8_col15, #T_aee66_row13_col11, #T_aee66_row14_col11 {\n",
       "  background-color: #e4eff9;\n",
       "  color: #000000;\n",
       "}\n",
       "#T_aee66_row7_col1 {\n",
       "  background-color: #e5eff9;\n",
       "  color: #000000;\n",
       "}\n",
       "#T_aee66_row7_col3 {\n",
       "  background-color: #e3eef9;\n",
       "  color: #000000;\n",
       "}\n",
       "#T_aee66_row7_col5, #T_aee66_row21_col9, #T_aee66_row22_col9, #T_aee66_row23_col9, #T_aee66_row24_col9, #T_aee66_row25_col9, #T_aee66_row26_col9, #T_aee66_row27_col9 {\n",
       "  background-color: #ebf3fb;\n",
       "  color: #000000;\n",
       "}\n",
       "#T_aee66_row7_col7, #T_aee66_row12_col1, #T_aee66_row13_col3 {\n",
       "  background-color: #f1f7fd;\n",
       "  color: #000000;\n",
       "}\n",
       "#T_aee66_row7_col11 {\n",
       "  background-color: #bad6eb;\n",
       "  color: #000000;\n",
       "}\n",
       "#T_aee66_row8_col1, #T_aee66_row16_col11 {\n",
       "  background-color: #ecf4fb;\n",
       "  color: #000000;\n",
       "}\n",
       "#T_aee66_row8_col3 {\n",
       "  background-color: #e6f0f9;\n",
       "  color: #000000;\n",
       "}\n",
       "#T_aee66_row8_col5, #T_aee66_row12_col3, #T_aee66_row17_col11, #T_aee66_row18_col11, #T_aee66_row19_col11, #T_aee66_row20_col11, #T_aee66_row21_col11 {\n",
       "  background-color: #f0f6fd;\n",
       "  color: #000000;\n",
       "}\n",
       "#T_aee66_row8_col7, #T_aee66_row9_col5, #T_aee66_row10_col5, #T_aee66_row11_col5, #T_aee66_row13_col1, #T_aee66_row16_col3 {\n",
       "  background-color: #f2f8fd;\n",
       "  color: #000000;\n",
       "}\n",
       "#T_aee66_row8_col11 {\n",
       "  background-color: #c6dbef;\n",
       "  color: #000000;\n",
       "}\n",
       "#T_aee66_row9_col1, #T_aee66_row10_col1, #T_aee66_row10_col13, #T_aee66_row11_col13, #T_aee66_row12_col13, #T_aee66_row13_col13, #T_aee66_row14_col13, #T_aee66_row15_col13, #T_aee66_row16_col13, #T_aee66_row17_col13, #T_aee66_row18_col13, #T_aee66_row19_col13, #T_aee66_row20_col13 {\n",
       "  background-color: #edf4fc;\n",
       "  color: #000000;\n",
       "}\n",
       "#T_aee66_row9_col3 {\n",
       "  background-color: #eaf3fb;\n",
       "  color: #000000;\n",
       "}\n",
       "#T_aee66_row9_col7, #T_aee66_row10_col7, #T_aee66_row11_col7, #T_aee66_row12_col7, #T_aee66_row13_col5, #T_aee66_row14_col1, #T_aee66_row14_col5, #T_aee66_row15_col1, #T_aee66_row15_col5, #T_aee66_row16_col1, #T_aee66_row22_col11, #T_aee66_row23_col11, #T_aee66_row24_col11, #T_aee66_row25_col11, #T_aee66_row26_col11, #T_aee66_row27_col11, #T_aee66_row28_col11 {\n",
       "  background-color: #f4f9fe;\n",
       "  color: #000000;\n",
       "}\n",
       "#T_aee66_row9_col11 {\n",
       "  background-color: #cde0f1;\n",
       "  color: #000000;\n",
       "}\n",
       "#T_aee66_row9_col15, #T_aee66_row10_col3, #T_aee66_row10_col15, #T_aee66_row11_col1, #T_aee66_row11_col3, #T_aee66_row11_col15, #T_aee66_row12_col15, #T_aee66_row13_col15, #T_aee66_row14_col15, #T_aee66_row15_col15, #T_aee66_row16_col15, #T_aee66_row17_col15, #T_aee66_row18_col15, #T_aee66_row19_col15, #T_aee66_row20_col15, #T_aee66_row21_col15 {\n",
       "  background-color: #eef5fc;\n",
       "  color: #000000;\n",
       "}\n",
       "#T_aee66_row10_col9 {\n",
       "  background-color: #d4e4f4;\n",
       "  color: #000000;\n",
       "}\n",
       "#T_aee66_row10_col11 {\n",
       "  background-color: #d1e2f3;\n",
       "  color: #000000;\n",
       "}\n",
       "#T_aee66_row11_col9, #T_aee66_row12_col9, #T_aee66_row13_col9, #T_aee66_row14_col9, #T_aee66_row15_col9, #T_aee66_row16_col9, #T_aee66_row17_col9, #T_aee66_row18_col9, #T_aee66_row19_col9, #T_aee66_row20_col9 {\n",
       "  background-color: #dfecf7;\n",
       "  color: #000000;\n",
       "}\n",
       "#T_aee66_row11_col11 {\n",
       "  background-color: #d9e7f5;\n",
       "  color: #000000;\n",
       "}\n",
       "#T_aee66_row12_col5, #T_aee66_row17_col3 {\n",
       "  background-color: #f3f8fe;\n",
       "  color: #000000;\n",
       "}\n",
       "#T_aee66_row12_col11 {\n",
       "  background-color: #e0ecf8;\n",
       "  color: #000000;\n",
       "}\n",
       "#T_aee66_row13_col7, #T_aee66_row16_col5, #T_aee66_row17_col1, #T_aee66_row17_col5, #T_aee66_row18_col3, #T_aee66_row18_col5, #T_aee66_row19_col3, #T_aee66_row20_col3, #T_aee66_row21_col3 {\n",
       "  background-color: #f5f9fe;\n",
       "  color: #000000;\n",
       "}\n",
       "#T_aee66_row14_col3, #T_aee66_row15_col3 {\n",
       "  background-color: #f2f7fd;\n",
       "  color: #000000;\n",
       "}\n",
       "#T_aee66_row14_col7, #T_aee66_row15_col7, #T_aee66_row16_col7, #T_aee66_row18_col1, #T_aee66_row19_col1, #T_aee66_row19_col5, #T_aee66_row20_col5, #T_aee66_row21_col5, #T_aee66_row22_col3 {\n",
       "  background-color: #f5fafe;\n",
       "  color: #000000;\n",
       "}\n",
       "#T_aee66_row15_col11 {\n",
       "  background-color: #e8f1fa;\n",
       "  color: #000000;\n",
       "}\n",
       "#T_aee66_row17_col7, #T_aee66_row18_col7, #T_aee66_row19_col7, #T_aee66_row20_col1, #T_aee66_row20_col7, #T_aee66_row21_col7, #T_aee66_row22_col5, #T_aee66_row22_col7, #T_aee66_row23_col3, #T_aee66_row23_col7, #T_aee66_row24_col3, #T_aee66_row25_col3 {\n",
       "  background-color: #f6faff;\n",
       "  color: #000000;\n",
       "}\n",
       "#T_aee66_row21_col1, #T_aee66_row21_col13, #T_aee66_row22_col1, #T_aee66_row22_col13, #T_aee66_row22_col15, #T_aee66_row23_col1, #T_aee66_row23_col5, #T_aee66_row23_col13, #T_aee66_row23_col15, #T_aee66_row24_col1, #T_aee66_row24_col5, #T_aee66_row24_col7, #T_aee66_row24_col13, #T_aee66_row24_col15, #T_aee66_row25_col1, #T_aee66_row25_col5, #T_aee66_row25_col7, #T_aee66_row25_col13, #T_aee66_row25_col15, #T_aee66_row26_col1, #T_aee66_row26_col3, #T_aee66_row26_col5, #T_aee66_row26_col7, #T_aee66_row26_col13, #T_aee66_row26_col15, #T_aee66_row27_col1, #T_aee66_row27_col3, #T_aee66_row27_col5, #T_aee66_row27_col7, #T_aee66_row27_col13, #T_aee66_row27_col15, #T_aee66_row28_col1, #T_aee66_row28_col3, #T_aee66_row28_col5, #T_aee66_row28_col7, #T_aee66_row28_col9, #T_aee66_row28_col13, #T_aee66_row28_col15, #T_aee66_row29_col1, #T_aee66_row29_col3, #T_aee66_row29_col5, #T_aee66_row29_col7, #T_aee66_row29_col9, #T_aee66_row29_col11, #T_aee66_row29_col13, #T_aee66_row29_col15 {\n",
       "  background-color: #f7fbff;\n",
       "  color: #000000;\n",
       "}\n",
       "</style>\n",
       "<table id=\"T_aee66\">\n",
       "  <thead>\n",
       "    <tr>\n",
       "      <th class=\"blank level0\" >&nbsp;</th>\n",
       "      <th id=\"T_aee66_level0_col0\" class=\"col_heading level0 col0\" >Common_words 2</th>\n",
       "      <th id=\"T_aee66_level0_col1\" class=\"col_heading level0 col1\" >count 2</th>\n",
       "      <th id=\"T_aee66_level0_col2\" class=\"col_heading level0 col2\" >Common_words 1</th>\n",
       "      <th id=\"T_aee66_level0_col3\" class=\"col_heading level0 col3\" >count 1</th>\n",
       "      <th id=\"T_aee66_level0_col4\" class=\"col_heading level0 col4\" >Common_words 0</th>\n",
       "      <th id=\"T_aee66_level0_col5\" class=\"col_heading level0 col5\" >count 0</th>\n",
       "      <th id=\"T_aee66_level0_col6\" class=\"col_heading level0 col6\" >Common_words -1</th>\n",
       "      <th id=\"T_aee66_level0_col7\" class=\"col_heading level0 col7\" >count -1</th>\n",
       "      <th id=\"T_aee66_level0_col8\" class=\"col_heading level0 col8\" >News words</th>\n",
       "      <th id=\"T_aee66_level0_col9\" class=\"col_heading level0 col9\" >News count</th>\n",
       "      <th id=\"T_aee66_level0_col10\" class=\"col_heading level0 col10\" >pro words</th>\n",
       "      <th id=\"T_aee66_level0_col11\" class=\"col_heading level0 col11\" >pro count</th>\n",
       "      <th id=\"T_aee66_level0_col12\" class=\"col_heading level0 col12\" >Neutral words</th>\n",
       "      <th id=\"T_aee66_level0_col13\" class=\"col_heading level0 col13\" >Neutral count</th>\n",
       "      <th id=\"T_aee66_level0_col14\" class=\"col_heading level0 col14\" >Anti words</th>\n",
       "      <th id=\"T_aee66_level0_col15\" class=\"col_heading level0 col15\" >Anti count</th>\n",
       "    </tr>\n",
       "  </thead>\n",
       "  <tbody>\n",
       "    <tr>\n",
       "      <th id=\"T_aee66_level0_row0\" class=\"row_heading level0 row0\" >0</th>\n",
       "      <td id=\"T_aee66_row0_col0\" class=\"data row0 col0\" >urlweb</td>\n",
       "      <td id=\"T_aee66_row0_col1\" class=\"data row0 col1\" >3907</td>\n",
       "      <td id=\"T_aee66_row0_col2\" class=\"data row0 col2\" >username</td>\n",
       "      <td id=\"T_aee66_row0_col3\" class=\"data row0 col3\" >8460</td>\n",
       "      <td id=\"T_aee66_row0_col4\" class=\"data row0 col4\" >username</td>\n",
       "      <td id=\"T_aee66_row0_col5\" class=\"data row0 col5\" >2183</td>\n",
       "      <td id=\"T_aee66_row0_col6\" class=\"data row0 col6\" >username</td>\n",
       "      <td id=\"T_aee66_row0_col7\" class=\"data row0 col7\" >1381</td>\n",
       "      <td id=\"T_aee66_row0_col8\" class=\"data row0 col8\" >reuters</td>\n",
       "      <td id=\"T_aee66_row0_col9\" class=\"data row0 col9\" >22</td>\n",
       "      <td id=\"T_aee66_row0_col10\" class=\"data row0 col10\" >imvotingbecause</td>\n",
       "      <td id=\"T_aee66_row0_col11\" class=\"data row0 col11\" >62</td>\n",
       "      <td id=\"T_aee66_row0_col12\" class=\"data row0 col12\" >interviewer</td>\n",
       "      <td id=\"T_aee66_row0_col13\" class=\"data row0 col13\" >22</td>\n",
       "      <td id=\"T_aee66_row0_col14\" class=\"data row0 col14\" >noncompetitive</td>\n",
       "      <td id=\"T_aee66_row0_col15\" class=\"data row0 col15\" >23</td>\n",
       "    </tr>\n",
       "    <tr>\n",
       "      <th id=\"T_aee66_level0_row1\" class=\"row_heading level0 row1\" >1</th>\n",
       "      <td id=\"T_aee66_row1_col0\" class=\"data row1 col0\" >climate</td>\n",
       "      <td id=\"T_aee66_row1_col1\" class=\"data row1 col1\" >3350</td>\n",
       "      <td id=\"T_aee66_row1_col2\" class=\"data row1 col2\" >climate</td>\n",
       "      <td id=\"T_aee66_row1_col3\" class=\"data row1 col3\" >7365</td>\n",
       "      <td id=\"T_aee66_row1_col4\" class=\"data row1 col4\" >climate</td>\n",
       "      <td id=\"T_aee66_row1_col5\" class=\"data row1 col5\" >1444</td>\n",
       "      <td id=\"T_aee66_row1_col6\" class=\"data row1 col6\" >climate</td>\n",
       "      <td id=\"T_aee66_row1_col7\" class=\"data row1 col7\" >800</td>\n",
       "      <td id=\"T_aee66_row1_col8\" class=\"data row1 col8\" >emanuel</td>\n",
       "      <td id=\"T_aee66_row1_col9\" class=\"data row1 col9\" >11</td>\n",
       "      <td id=\"T_aee66_row1_col10\" class=\"data row1 col10\" >installing</td>\n",
       "      <td id=\"T_aee66_row1_col11\" class=\"data row1 col11\" >56</td>\n",
       "      <td id=\"T_aee66_row1_col12\" class=\"data row1 col12\" >geographics</td>\n",
       "      <td id=\"T_aee66_row1_col13\" class=\"data row1 col13\" >6</td>\n",
       "      <td id=\"T_aee66_row1_col14\" class=\"data row1 col14\" >enlist</td>\n",
       "      <td id=\"T_aee66_row1_col15\" class=\"data row1 col15\" >13</td>\n",
       "    </tr>\n",
       "    <tr>\n",
       "      <th id=\"T_aee66_level0_row2\" class=\"row_heading level0 row2\" >2</th>\n",
       "      <td id=\"T_aee66_row2_col0\" class=\"data row2 col0\" >change</td>\n",
       "      <td id=\"T_aee66_row2_col1\" class=\"data row2 col1\" >3267</td>\n",
       "      <td id=\"T_aee66_row2_col2\" class=\"data row2 col2\" >change</td>\n",
       "      <td id=\"T_aee66_row2_col3\" class=\"data row2 col3\" >7188</td>\n",
       "      <td id=\"T_aee66_row2_col4\" class=\"data row2 col4\" >change</td>\n",
       "      <td id=\"T_aee66_row2_col5\" class=\"data row2 col5\" >1411</td>\n",
       "      <td id=\"T_aee66_row2_col6\" class=\"data row2 col6\" >change</td>\n",
       "      <td id=\"T_aee66_row2_col7\" class=\"data row2 col7\" >756</td>\n",
       "      <td id=\"T_aee66_row2_col8\" class=\"data row2 col8\" >parking</td>\n",
       "      <td id=\"T_aee66_row2_col9\" class=\"data row2 col9\" >11</td>\n",
       "      <td id=\"T_aee66_row2_col10\" class=\"data row2 col10\" >actonclimate</td>\n",
       "      <td id=\"T_aee66_row2_col11\" class=\"data row2 col11\" >49</td>\n",
       "      <td id=\"T_aee66_row2_col12\" class=\"data row2 col12\" >kentut</td>\n",
       "      <td id=\"T_aee66_row2_col13\" class=\"data row2 col13\" >6</td>\n",
       "      <td id=\"T_aee66_row2_col14\" class=\"data row2 col14\" >hysteria</td>\n",
       "      <td id=\"T_aee66_row2_col15\" class=\"data row2 col15\" >7</td>\n",
       "    </tr>\n",
       "    <tr>\n",
       "      <th id=\"T_aee66_level0_row3\" class=\"row_heading level0 row3\" >3</th>\n",
       "      <td id=\"T_aee66_row3_col0\" class=\"data row3 col0\" >username</td>\n",
       "      <td id=\"T_aee66_row3_col1\" class=\"data row3 col1\" >2713</td>\n",
       "      <td id=\"T_aee66_row3_col2\" class=\"data row3 col2\" >rt</td>\n",
       "      <td id=\"T_aee66_row3_col3\" class=\"data row3 col3\" >5797</td>\n",
       "      <td id=\"T_aee66_row3_col4\" class=\"data row3 col4\" >rt</td>\n",
       "      <td id=\"T_aee66_row3_col5\" class=\"data row3 col5\" >1091</td>\n",
       "      <td id=\"T_aee66_row3_col6\" class=\"data row3 col6\" >rt</td>\n",
       "      <td id=\"T_aee66_row3_col7\" class=\"data row3 col7\" >684</td>\n",
       "      <td id=\"T_aee66_row3_col8\" class=\"data row3 col8\" >teen</td>\n",
       "      <td id=\"T_aee66_row3_col9\" class=\"data row3 col9\" >11</td>\n",
       "      <td id=\"T_aee66_row3_col10\" class=\"data row3 col10\" >bleached</td>\n",
       "      <td id=\"T_aee66_row3_col11\" class=\"data row3 col11\" >39</td>\n",
       "      <td id=\"T_aee66_row3_col12\" class=\"data row3 col12\" >penyebab</td>\n",
       "      <td id=\"T_aee66_row3_col13\" class=\"data row3 col13\" >6</td>\n",
       "      <td id=\"T_aee66_row3_col14\" class=\"data row3 col14\" >patriot</td>\n",
       "      <td id=\"T_aee66_row3_col15\" class=\"data row3 col15\" >7</td>\n",
       "    </tr>\n",
       "    <tr>\n",
       "      <th id=\"T_aee66_level0_row4\" class=\"row_heading level0 row4\" >4</th>\n",
       "      <td id=\"T_aee66_row4_col0\" class=\"data row4 col0\" >rt</td>\n",
       "      <td id=\"T_aee66_row4_col1\" class=\"data row4 col1\" >2151</td>\n",
       "      <td id=\"T_aee66_row4_col2\" class=\"data row4 col2\" >urlweb</td>\n",
       "      <td id=\"T_aee66_row4_col3\" class=\"data row4 col3\" >3893</td>\n",
       "      <td id=\"T_aee66_row4_col4\" class=\"data row4 col4\" >global</td>\n",
       "      <td id=\"T_aee66_row4_col5\" class=\"data row4 col5\" >1039</td>\n",
       "      <td id=\"T_aee66_row4_col6\" class=\"data row4 col6\" >global</td>\n",
       "      <td id=\"T_aee66_row4_col7\" class=\"data row4 col7\" >635</td>\n",
       "      <td id=\"T_aee66_row4_col8\" class=\"data row4 col8\" >herald</td>\n",
       "      <td id=\"T_aee66_row4_col9\" class=\"data row4 col9\" >10</td>\n",
       "      <td id=\"T_aee66_row4_col10\" class=\"data row4 col10\" >prochoice</td>\n",
       "      <td id=\"T_aee66_row4_col11\" class=\"data row4 col11\" >34</td>\n",
       "      <td id=\"T_aee66_row4_col12\" class=\"data row4 col12\" >utama</td>\n",
       "      <td id=\"T_aee66_row4_col13\" class=\"data row4 col13\" >6</td>\n",
       "      <td id=\"T_aee66_row4_col14\" class=\"data row4 col14\" >lefty</td>\n",
       "      <td id=\"T_aee66_row4_col15\" class=\"data row4 col15\" >6</td>\n",
       "    </tr>\n",
       "    <tr>\n",
       "      <th id=\"T_aee66_level0_row5\" class=\"row_heading level0 row5\" >5</th>\n",
       "      <td id=\"T_aee66_row5_col0\" class=\"data row5 col0\" >trump</td>\n",
       "      <td id=\"T_aee66_row5_col1\" class=\"data row5 col1\" >1066</td>\n",
       "      <td id=\"T_aee66_row5_col2\" class=\"data row5 col2\" >global</td>\n",
       "      <td id=\"T_aee66_row5_col3\" class=\"data row5 col3\" >1597</td>\n",
       "      <td id=\"T_aee66_row5_col4\" class=\"data row5 col4\" >warming</td>\n",
       "      <td id=\"T_aee66_row5_col5\" class=\"data row5 col5\" >1004</td>\n",
       "      <td id=\"T_aee66_row5_col6\" class=\"data row5 col6\" >warming</td>\n",
       "      <td id=\"T_aee66_row5_col7\" class=\"data row5 col7\" >612</td>\n",
       "      <td id=\"T_aee66_row5_col8\" class=\"data row5 col8\" >cautiously</td>\n",
       "      <td id=\"T_aee66_row5_col9\" class=\"data row5 col9\" >10</td>\n",
       "      <td id=\"T_aee66_row5_col10\" class=\"data row5 col10\" >ivotedbecause</td>\n",
       "      <td id=\"T_aee66_row5_col11\" class=\"data row5 col11\" >33</td>\n",
       "      <td id=\"T_aee66_row5_col12\" class=\"data row5 col12\" >ang</td>\n",
       "      <td id=\"T_aee66_row5_col13\" class=\"data row5 col13\" >6</td>\n",
       "      <td id=\"T_aee66_row5_col14\" class=\"data row5 col14\" >leftist</td>\n",
       "      <td id=\"T_aee66_row5_col15\" class=\"data row5 col15\" >5</td>\n",
       "    </tr>\n",
       "    <tr>\n",
       "      <th id=\"T_aee66_level0_row6\" class=\"row_heading level0 row6\" >6</th>\n",
       "      <td id=\"T_aee66_row6_col0\" class=\"data row6 col0\" >global</td>\n",
       "      <td id=\"T_aee66_row6_col1\" class=\"data row6 col1\" >508</td>\n",
       "      <td id=\"T_aee66_row6_col2\" class=\"data row6 col2\" >warming</td>\n",
       "      <td id=\"T_aee66_row6_col3\" class=\"data row6 col3\" >1451</td>\n",
       "      <td id=\"T_aee66_row6_col4\" class=\"data row6 col4\" >urlweb</td>\n",
       "      <td id=\"T_aee66_row6_col5\" class=\"data row6 col5\" >825</td>\n",
       "      <td id=\"T_aee66_row6_col6\" class=\"data row6 col6\" >urlweb</td>\n",
       "      <td id=\"T_aee66_row6_col7\" class=\"data row6 col7\" >500</td>\n",
       "      <td id=\"T_aee66_row6_col8\" class=\"data row6 col8\" >octopus</td>\n",
       "      <td id=\"T_aee66_row6_col9\" class=\"data row6 col9\" >10</td>\n",
       "      <td id=\"T_aee66_row6_col10\" class=\"data row6 col10\" >therell</td>\n",
       "      <td id=\"T_aee66_row6_col11\" class=\"data row6 col11\" >26</td>\n",
       "      <td id=\"T_aee66_row6_col12\" class=\"data row6 col12\" >karena</td>\n",
       "      <td id=\"T_aee66_row6_col13\" class=\"data row6 col13\" >5</td>\n",
       "      <td id=\"T_aee66_row6_col14\" class=\"data row6 col14\" >globalist</td>\n",
       "      <td id=\"T_aee66_row6_col15\" class=\"data row6 col15\" >4</td>\n",
       "    </tr>\n",
       "    <tr>\n",
       "      <th id=\"T_aee66_level0_row7\" class=\"row_heading level0 row7\" >7</th>\n",
       "      <td id=\"T_aee66_row7_col0\" class=\"data row7 col0\" >warming</td>\n",
       "      <td id=\"T_aee66_row7_col1\" class=\"data row7 col1\" >442</td>\n",
       "      <td id=\"T_aee66_row7_col2\" class=\"data row7 col2\" >trump</td>\n",
       "      <td id=\"T_aee66_row7_col3\" class=\"data row7 col3\" >1100</td>\n",
       "      <td id=\"T_aee66_row7_col4\" class=\"data row7 col4\" >trump</td>\n",
       "      <td id=\"T_aee66_row7_col5\" class=\"data row7 col5\" >177</td>\n",
       "      <td id=\"T_aee66_row7_col6\" class=\"data row7 col6\" >amp</td>\n",
       "      <td id=\"T_aee66_row7_col7\" class=\"data row7 col7\" >84</td>\n",
       "      <td id=\"T_aee66_row7_col8\" class=\"data row7 col8\" >unconvinced</td>\n",
       "      <td id=\"T_aee66_row7_col9\" class=\"data row7 col9\" >10</td>\n",
       "      <td id=\"T_aee66_row7_col10\" class=\"data row7 col10\" >fossi</td>\n",
       "      <td id=\"T_aee66_row7_col11\" class=\"data row7 col11\" >25</td>\n",
       "      <td id=\"T_aee66_row7_col12\" class=\"data row7 col12\" >gaga</td>\n",
       "      <td id=\"T_aee66_row7_col13\" class=\"data row7 col13\" >5</td>\n",
       "      <td id=\"T_aee66_row7_col14\" class=\"data row7 col14\" >zealot</td>\n",
       "      <td id=\"T_aee66_row7_col15\" class=\"data row7 col15\" >4</td>\n",
       "    </tr>\n",
       "    <tr>\n",
       "      <th id=\"T_aee66_level0_row8\" class=\"row_heading level0 row8\" >8</th>\n",
       "      <td id=\"T_aee66_row8_col0\" class=\"data row8 col0\" >say</td>\n",
       "      <td id=\"T_aee66_row8_col1\" class=\"data row8 col1\" >307</td>\n",
       "      <td id=\"T_aee66_row8_col2\" class=\"data row8 col2\" >believe</td>\n",
       "      <td id=\"T_aee66_row8_col3\" class=\"data row8 col3\" >1005</td>\n",
       "      <td id=\"T_aee66_row8_col4\" class=\"data row8 col4\" >u</td>\n",
       "      <td id=\"T_aee66_row8_col5\" class=\"data row8 col5\" >130</td>\n",
       "      <td id=\"T_aee66_row8_col6\" class=\"data row8 col6\" >science</td>\n",
       "      <td id=\"T_aee66_row8_col7\" class=\"data row8 col7\" >78</td>\n",
       "      <td id=\"T_aee66_row8_col8\" class=\"data row8 col8\" >garage</td>\n",
       "      <td id=\"T_aee66_row8_col9\" class=\"data row8 col9\" >9</td>\n",
       "      <td id=\"T_aee66_row8_col10\" class=\"data row8 col10\" >virtually</td>\n",
       "      <td id=\"T_aee66_row8_col11\" class=\"data row8 col11\" >23</td>\n",
       "      <td id=\"T_aee66_row8_col12\" class=\"data row8 col12\" >fri</td>\n",
       "      <td id=\"T_aee66_row8_col13\" class=\"data row8 col13\" >5</td>\n",
       "      <td id=\"T_aee66_row8_col14\" class=\"data row8 col14\" >doctrine</td>\n",
       "      <td id=\"T_aee66_row8_col15\" class=\"data row8 col15\" >4</td>\n",
       "    </tr>\n",
       "    <tr>\n",
       "      <th id=\"T_aee66_level0_row9\" class=\"row_heading level0 row9\" >9</th>\n",
       "      <td id=\"T_aee66_row9_col0\" class=\"data row9 col0\" >via</td>\n",
       "      <td id=\"T_aee66_row9_col1\" class=\"data row9 col1\" >302</td>\n",
       "      <td id=\"T_aee66_row9_col2\" class=\"data row9 col2\" >doesnt</td>\n",
       "      <td id=\"T_aee66_row9_col3\" class=\"data row9 col3\" >788</td>\n",
       "      <td id=\"T_aee66_row9_col4\" class=\"data row9 col4\" >amp</td>\n",
       "      <td id=\"T_aee66_row9_col5\" class=\"data row9 col5\" >101</td>\n",
       "      <td id=\"T_aee66_row9_col6\" class=\"data row9 col6\" >u</td>\n",
       "      <td id=\"T_aee66_row9_col7\" class=\"data row9 col7\" >68</td>\n",
       "      <td id=\"T_aee66_row9_col8\" class=\"data row9 col8\" >worldnews</td>\n",
       "      <td id=\"T_aee66_row9_col9\" class=\"data row9 col9\" >9</td>\n",
       "      <td id=\"T_aee66_row9_col10\" class=\"data row9 col10\" >betwe</td>\n",
       "      <td id=\"T_aee66_row9_col11\" class=\"data row9 col11\" >21</td>\n",
       "      <td id=\"T_aee66_row9_col12\" class=\"data row9 col12\" >dari</td>\n",
       "      <td id=\"T_aee66_row9_col13\" class=\"data row9 col13\" >5</td>\n",
       "      <td id=\"T_aee66_row9_col14\" class=\"data row9 col14\" >sally</td>\n",
       "      <td id=\"T_aee66_row9_col15\" class=\"data row9 col15\" >3</td>\n",
       "    </tr>\n",
       "    <tr>\n",
       "      <th id=\"T_aee66_level0_row10\" class=\"row_heading level0 row10\" >10</th>\n",
       "      <td id=\"T_aee66_row10_col0\" class=\"data row10 col0\" >u</td>\n",
       "      <td id=\"T_aee66_row10_col1\" class=\"data row10 col1\" >295</td>\n",
       "      <td id=\"T_aee66_row10_col2\" class=\"data row10 col2\" >amp</td>\n",
       "      <td id=\"T_aee66_row10_col3\" class=\"data row10 col3\" >660</td>\n",
       "      <td id=\"T_aee66_row10_col4\" class=\"data row10 col4\" >real</td>\n",
       "      <td id=\"T_aee66_row10_col5\" class=\"data row10 col5\" >99</td>\n",
       "      <td id=\"T_aee66_row10_col6\" class=\"data row10 col6\" >trump</td>\n",
       "      <td id=\"T_aee66_row10_col7\" class=\"data row10 col7\" >68</td>\n",
       "      <td id=\"T_aee66_row10_col8\" class=\"data row10 col8\" >xi</td>\n",
       "      <td id=\"T_aee66_row10_col9\" class=\"data row10 col9\" >8</td>\n",
       "      <td id=\"T_aee66_row10_col10\" class=\"data row10 col10\" >tank</td>\n",
       "      <td id=\"T_aee66_row10_col11\" class=\"data row10 col11\" >20</td>\n",
       "      <td id=\"T_aee66_row10_col12\" class=\"data row10 col12\" >album</td>\n",
       "      <td id=\"T_aee66_row10_col13\" class=\"data row10 col13\" >4</td>\n",
       "      <td id=\"T_aee66_row10_col14\" class=\"data row10 col14\" >manipulation</td>\n",
       "      <td id=\"T_aee66_row10_col15\" class=\"data row10 col15\" >3</td>\n",
       "    </tr>\n",
       "    <tr>\n",
       "      <th id=\"T_aee66_level0_row11\" class=\"row_heading level0 row11\" >11</th>\n",
       "      <td id=\"T_aee66_row11_col0\" class=\"data row11 col0\" >epa</td>\n",
       "      <td id=\"T_aee66_row11_col1\" class=\"data row11 col1\" >260</td>\n",
       "      <td id=\"T_aee66_row11_col2\" class=\"data row11 col2\" >shes</td>\n",
       "      <td id=\"T_aee66_row11_col3\" class=\"data row11 col3\" >627</td>\n",
       "      <td id=\"T_aee66_row11_col4\" class=\"data row11 col4\" >like</td>\n",
       "      <td id=\"T_aee66_row11_col5\" class=\"data row11 col5\" >98</td>\n",
       "      <td id=\"T_aee66_row11_col6\" class=\"data row11 col6\" >scientist</td>\n",
       "      <td id=\"T_aee66_row11_col7\" class=\"data row11 col7\" >63</td>\n",
       "      <td id=\"T_aee66_row11_col8\" class=\"data row11 col8\" >rahm</td>\n",
       "      <td id=\"T_aee66_row11_col9\" class=\"data row11 col9\" >7</td>\n",
       "      <td id=\"T_aee66_row11_col10\" class=\"data row11 col10\" >realize</td>\n",
       "      <td id=\"T_aee66_row11_col11\" class=\"data row11 col11\" >18</td>\n",
       "      <td id=\"T_aee66_row11_col12\" class=\"data row11 col12\" >wash</td>\n",
       "      <td id=\"T_aee66_row11_col13\" class=\"data row11 col13\" >4</td>\n",
       "      <td id=\"T_aee66_row11_col14\" class=\"data row11 col14\" >climatescam</td>\n",
       "      <td id=\"T_aee66_row11_col15\" class=\"data row11 col15\" >3</td>\n",
       "    </tr>\n",
       "    <tr>\n",
       "      <th id=\"T_aee66_level0_row12\" class=\"row_heading level0 row12\" >12</th>\n",
       "      <td id=\"T_aee66_row12_col0\" class=\"data row12 col0\" >scientist</td>\n",
       "      <td id=\"T_aee66_row12_col1\" class=\"data row12 col1\" >216</td>\n",
       "      <td id=\"T_aee66_row12_col2\" class=\"data row12 col2\" >going</td>\n",
       "      <td id=\"T_aee66_row12_col3\" class=\"data row12 col3\" >590</td>\n",
       "      <td id=\"T_aee66_row12_col4\" class=\"data row12 col4\" >think</td>\n",
       "      <td id=\"T_aee66_row12_col5\" class=\"data row12 col5\" >95</td>\n",
       "      <td id=\"T_aee66_row12_col6\" class=\"data row12 col6\" >year</td>\n",
       "      <td id=\"T_aee66_row12_col7\" class=\"data row12 col7\" >63</td>\n",
       "      <td id=\"T_aee66_row12_col8\" class=\"data row12 col8\" >campaigner</td>\n",
       "      <td id=\"T_aee66_row12_col9\" class=\"data row12 col9\" >7</td>\n",
       "      <td id=\"T_aee66_row12_col10\" class=\"data row12 col10\" >christmas</td>\n",
       "      <td id=\"T_aee66_row12_col11\" class=\"data row12 col11\" >16</td>\n",
       "      <td id=\"T_aee66_row12_col12\" class=\"data row12 col12\" >att</td>\n",
       "      <td id=\"T_aee66_row12_col13\" class=\"data row12 col13\" >4</td>\n",
       "      <td id=\"T_aee66_row12_col14\" class=\"data row12 col14\" >treehuggin</td>\n",
       "      <td id=\"T_aee66_row12_col15\" class=\"data row12 col15\" >3</td>\n",
       "    </tr>\n",
       "    <tr>\n",
       "      <th id=\"T_aee66_level0_row13\" class=\"row_heading level0 row13\" >13</th>\n",
       "      <td id=\"T_aee66_row13_col0\" class=\"data row13 col0\" >new</td>\n",
       "      <td id=\"T_aee66_row13_col1\" class=\"data row13 col1\" >191</td>\n",
       "      <td id=\"T_aee66_row13_col2\" class=\"data row13 col2\" >u</td>\n",
       "      <td id=\"T_aee66_row13_col3\" class=\"data row13 col3\" >531</td>\n",
       "      <td id=\"T_aee66_row13_col4\" class=\"data row13 col4\" >believe</td>\n",
       "      <td id=\"T_aee66_row13_col5\" class=\"data row13 col5\" >87</td>\n",
       "      <td id=\"T_aee66_row13_col6\" class=\"data row13 col6\" >real</td>\n",
       "      <td id=\"T_aee66_row13_col7\" class=\"data row13 col7\" >62</td>\n",
       "      <td id=\"T_aee66_row13_col8\" class=\"data row13 col8\" >rebuke</td>\n",
       "      <td id=\"T_aee66_row13_col9\" class=\"data row13 col9\" >7</td>\n",
       "      <td id=\"T_aee66_row13_col10\" class=\"data row13 col10\" >limiting</td>\n",
       "      <td id=\"T_aee66_row13_col11\" class=\"data row13 col11\" >15</td>\n",
       "      <td id=\"T_aee66_row13_col12\" class=\"data row13 col12\" >adalah</td>\n",
       "      <td id=\"T_aee66_row13_col13\" class=\"data row13 col13\" >4</td>\n",
       "      <td id=\"T_aee66_row13_col14\" class=\"data row13 col14\" >hippie</td>\n",
       "      <td id=\"T_aee66_row13_col15\" class=\"data row13 col15\" >3</td>\n",
       "    </tr>\n",
       "    <tr>\n",
       "      <th id=\"T_aee66_level0_row14\" class=\"row_heading level0 row14\" >14</th>\n",
       "      <td id=\"T_aee66_row14_col0\" class=\"data row14 col0\" >donald</td>\n",
       "      <td id=\"T_aee66_row14_col1\" class=\"data row14 col1\" >166</td>\n",
       "      <td id=\"T_aee66_row14_col2\" class=\"data row14 col2\" >real</td>\n",
       "      <td id=\"T_aee66_row14_col3\" class=\"data row14 col3\" >516</td>\n",
       "      <td id=\"T_aee66_row14_col4\" class=\"data row14 col4\" >im</td>\n",
       "      <td id=\"T_aee66_row14_col5\" class=\"data row14 col5\" >87</td>\n",
       "      <td id=\"T_aee66_row14_col6\" class=\"data row14 col6\" >people</td>\n",
       "      <td id=\"T_aee66_row14_col7\" class=\"data row14 col7\" >57</td>\n",
       "      <td id=\"T_aee66_row14_col8\" class=\"data row14 col8\" >balk</td>\n",
       "      <td id=\"T_aee66_row14_col9\" class=\"data row14 col9\" >7</td>\n",
       "      <td id=\"T_aee66_row14_col10\" class=\"data row14 col10\" >sustainability</td>\n",
       "      <td id=\"T_aee66_row14_col11\" class=\"data row14 col11\" >15</td>\n",
       "      <td id=\"T_aee66_row14_col12\" class=\"data row14 col12\" >liked</td>\n",
       "      <td id=\"T_aee66_row14_col13\" class=\"data row14 col13\" >4</td>\n",
       "      <td id=\"T_aee66_row14_col14\" class=\"data row14 col14\" >crackpot</td>\n",
       "      <td id=\"T_aee66_row14_col15\" class=\"data row14 col15\" >3</td>\n",
       "    </tr>\n",
       "    <tr>\n",
       "      <th id=\"T_aee66_level0_row15\" class=\"row_heading level0 row15\" >15</th>\n",
       "      <td id=\"T_aee66_row15_col0\" class=\"data row15 col0\" >fight</td>\n",
       "      <td id=\"T_aee66_row15_col1\" class=\"data row15 col1\" >165</td>\n",
       "      <td id=\"T_aee66_row15_col2\" class=\"data row15 col2\" >world</td>\n",
       "      <td id=\"T_aee66_row15_col3\" class=\"data row15 col3\" >498</td>\n",
       "      <td id=\"T_aee66_row15_col4\" class=\"data row15 col4\" >penguin</td>\n",
       "      <td id=\"T_aee66_row15_col5\" class=\"data row15 col5\" >86</td>\n",
       "      <td id=\"T_aee66_row15_col6\" class=\"data row15 col6\" >man</td>\n",
       "      <td id=\"T_aee66_row15_col7\" class=\"data row15 col7\" >55</td>\n",
       "      <td id=\"T_aee66_row15_col8\" class=\"data row15 col8\" >row</td>\n",
       "      <td id=\"T_aee66_row15_col9\" class=\"data row15 col9\" >7</td>\n",
       "      <td id=\"T_aee66_row15_col10\" class=\"data row15 col10\" >killer</td>\n",
       "      <td id=\"T_aee66_row15_col11\" class=\"data row15 col11\" >14</td>\n",
       "      <td id=\"T_aee66_row15_col12\" class=\"data row15 col12\" >cub</td>\n",
       "      <td id=\"T_aee66_row15_col13\" class=\"data row15 col13\" >4</td>\n",
       "      <td id=\"T_aee66_row15_col14\" class=\"data row15 col14\" >gasket</td>\n",
       "      <td id=\"T_aee66_row15_col15\" class=\"data row15 col15\" >3</td>\n",
       "    </tr>\n",
       "    <tr>\n",
       "      <th id=\"T_aee66_level0_row16\" class=\"row_heading level0 row16\" >16</th>\n",
       "      <td id=\"T_aee66_row16_col0\" class=\"data row16 col0\" >china</td>\n",
       "      <td id=\"T_aee66_row16_col1\" class=\"data row16 col1\" >165</td>\n",
       "      <td id=\"T_aee66_row16_col2\" class=\"data row16 col2\" >people</td>\n",
       "      <td id=\"T_aee66_row16_col3\" class=\"data row16 col3\" >466</td>\n",
       "      <td id=\"T_aee66_row16_col4\" class=\"data row16 col4\" >say</td>\n",
       "      <td id=\"T_aee66_row16_col5\" class=\"data row16 col5\" >78</td>\n",
       "      <td id=\"T_aee66_row16_col6\" class=\"data row16 col6\" >scam</td>\n",
       "      <td id=\"T_aee66_row16_col7\" class=\"data row16 col7\" >54</td>\n",
       "      <td id=\"T_aee66_row16_col8\" class=\"data row16 col8\" >fastest</td>\n",
       "      <td id=\"T_aee66_row16_col9\" class=\"data row16 col9\" >7</td>\n",
       "      <td id=\"T_aee66_row16_col10\" class=\"data row16 col10\" >trumpn</td>\n",
       "      <td id=\"T_aee66_row16_col11\" class=\"data row16 col11\" >13</td>\n",
       "      <td id=\"T_aee66_row16_col12\" class=\"data row16 col12\" >cozy</td>\n",
       "      <td id=\"T_aee66_row16_col13\" class=\"data row16 col13\" >4</td>\n",
       "      <td id=\"T_aee66_row16_col14\" class=\"data row16 col14\" >bald</td>\n",
       "      <td id=\"T_aee66_row16_col15\" class=\"data row16 col15\" >3</td>\n",
       "    </tr>\n",
       "    <tr>\n",
       "      <th id=\"T_aee66_level0_row17\" class=\"row_heading level0 row17\" >17</th>\n",
       "      <td id=\"T_aee66_row17_col0\" class=\"data row17 col0\" >world</td>\n",
       "      <td id=\"T_aee66_row17_col1\" class=\"data row17 col1\" >153</td>\n",
       "      <td id=\"T_aee66_row17_col2\" class=\"data row17 col2\" >think</td>\n",
       "      <td id=\"T_aee66_row17_col3\" class=\"data row17 col3\" >455</td>\n",
       "      <td id=\"T_aee66_row17_col4\" class=\"data row17 col4\" >he</td>\n",
       "      <td id=\"T_aee66_row17_col5\" class=\"data row17 col5\" >78</td>\n",
       "      <td id=\"T_aee66_row17_col6\" class=\"data row17 col6\" >liberal</td>\n",
       "      <td id=\"T_aee66_row17_col7\" class=\"data row17 col7\" >51</td>\n",
       "      <td id=\"T_aee66_row17_col8\" class=\"data row17 col8\" >extending</td>\n",
       "      <td id=\"T_aee66_row17_col9\" class=\"data row17 col9\" >7</td>\n",
       "      <td id=\"T_aee66_row17_col10\" class=\"data row17 col10\" >climateaction</td>\n",
       "      <td id=\"T_aee66_row17_col11\" class=\"data row17 col11\" >12</td>\n",
       "      <td id=\"T_aee66_row17_col12\" class=\"data row17 col12\" >yang</td>\n",
       "      <td id=\"T_aee66_row17_col13\" class=\"data row17 col13\" >4</td>\n",
       "      <td id=\"T_aee66_row17_col14\" class=\"data row17 col14\" >apology</td>\n",
       "      <td id=\"T_aee66_row17_col15\" class=\"data row17 col15\" >3</td>\n",
       "    </tr>\n",
       "    <tr>\n",
       "      <th id=\"T_aee66_level0_row18\" class=\"row_heading level0 row18\" >18</th>\n",
       "      <td id=\"T_aee66_row18_col0\" class=\"data row18 col0\" >could</td>\n",
       "      <td id=\"T_aee66_row18_col1\" class=\"data row18 col1\" >133</td>\n",
       "      <td id=\"T_aee66_row18_col2\" class=\"data row18 col2\" >die</td>\n",
       "      <td id=\"T_aee66_row18_col3\" class=\"data row18 col3\" >394</td>\n",
       "      <td id=\"T_aee66_row18_col4\" class=\"data row18 col4\" >dont</td>\n",
       "      <td id=\"T_aee66_row18_col5\" class=\"data row18 col5\" >74</td>\n",
       "      <td id=\"T_aee66_row18_col6\" class=\"data row18 col6\" >would</td>\n",
       "      <td id=\"T_aee66_row18_col7\" class=\"data row18 col7\" >50</td>\n",
       "      <td id=\"T_aee66_row18_col8\" class=\"data row18 col8\" >oman</td>\n",
       "      <td id=\"T_aee66_row18_col9\" class=\"data row18 col9\" >7</td>\n",
       "      <td id=\"T_aee66_row18_col10\" class=\"data row18 col10\" >pretending</td>\n",
       "      <td id=\"T_aee66_row18_col11\" class=\"data row18 col11\" >12</td>\n",
       "      <td id=\"T_aee66_row18_col12\" class=\"data row18 col12\" >dat</td>\n",
       "      <td id=\"T_aee66_row18_col13\" class=\"data row18 col13\" >4</td>\n",
       "      <td id=\"T_aee66_row18_col14\" class=\"data row18 col14\" >httptcowgxvifdvz</td>\n",
       "      <td id=\"T_aee66_row18_col15\" class=\"data row18 col15\" >3</td>\n",
       "    </tr>\n",
       "    <tr>\n",
       "      <th id=\"T_aee66_level0_row19\" class=\"row_heading level0 row19\" >19</th>\n",
       "      <td id=\"T_aee66_row19_col0\" class=\"data row19 col0\" >news</td>\n",
       "      <td id=\"T_aee66_row19_col1\" class=\"data row19 col1\" >128</td>\n",
       "      <td id=\"T_aee66_row19_col2\" class=\"data row19 col2\" >dont</td>\n",
       "      <td id=\"T_aee66_row19_col3\" class=\"data row19 col3\" >386</td>\n",
       "      <td id=\"T_aee66_row19_col4\" class=\"data row19 col4\" >cause</td>\n",
       "      <td id=\"T_aee66_row19_col5\" class=\"data row19 col5\" >71</td>\n",
       "      <td id=\"T_aee66_row19_col6\" class=\"data row19 col6\" >fake</td>\n",
       "      <td id=\"T_aee66_row19_col7\" class=\"data row19 col7\" >50</td>\n",
       "      <td id=\"T_aee66_row19_col8\" class=\"data row19 col8\" >ratifies</td>\n",
       "      <td id=\"T_aee66_row19_col9\" class=\"data row19 col9\" >7</td>\n",
       "      <td id=\"T_aee66_row19_col10\" class=\"data row19 col10\" >eg</td>\n",
       "      <td id=\"T_aee66_row19_col11\" class=\"data row19 col11\" >12</td>\n",
       "      <td id=\"T_aee66_row19_col12\" class=\"data row19 col12\" >yg</td>\n",
       "      <td id=\"T_aee66_row19_col13\" class=\"data row19 col13\" >4</td>\n",
       "      <td id=\"T_aee66_row19_col14\" class=\"data row19 col14\" >scammer</td>\n",
       "      <td id=\"T_aee66_row19_col15\" class=\"data row19 col15\" >3</td>\n",
       "    </tr>\n",
       "    <tr>\n",
       "      <th id=\"T_aee66_level0_row20\" class=\"row_heading level0 row20\" >20</th>\n",
       "      <td id=\"T_aee66_row20_col0\" class=\"data row20 col0\" >scott</td>\n",
       "      <td id=\"T_aee66_row20_col1\" class=\"data row20 col1\" >113</td>\n",
       "      <td id=\"T_aee66_row20_col2\" class=\"data row20 col2\" >denier</td>\n",
       "      <td id=\"T_aee66_row20_col3\" class=\"data row20 col3\" >373</td>\n",
       "      <td id=\"T_aee66_row20_col4\" class=\"data row20 col4\" >people</td>\n",
       "      <td id=\"T_aee66_row20_col5\" class=\"data row20 col5\" >69</td>\n",
       "      <td id=\"T_aee66_row20_col6\" class=\"data row20 col6\" >hoax</td>\n",
       "      <td id=\"T_aee66_row20_col7\" class=\"data row20 col7\" >50</td>\n",
       "      <td id=\"T_aee66_row20_col8\" class=\"data row20 col8\" >coauthor</td>\n",
       "      <td id=\"T_aee66_row20_col9\" class=\"data row20 col9\" >7</td>\n",
       "      <td id=\"T_aee66_row20_col10\" class=\"data row20 col10\" >creationist</td>\n",
       "      <td id=\"T_aee66_row20_col11\" class=\"data row20 col11\" >12</td>\n",
       "      <td id=\"T_aee66_row20_col12\" class=\"data row20 col12\" >gunshot</td>\n",
       "      <td id=\"T_aee66_row20_col13\" class=\"data row20 col13\" >4</td>\n",
       "      <td id=\"T_aee66_row20_col14\" class=\"data row20 col14\" >warmists</td>\n",
       "      <td id=\"T_aee66_row20_col15\" class=\"data row20 col15\" >3</td>\n",
       "    </tr>\n",
       "    <tr>\n",
       "      <th id=\"T_aee66_level0_row21\" class=\"row_heading level0 row21\" >21</th>\n",
       "      <td id=\"T_aee66_row21_col0\" class=\"data row21 col0\" >paris</td>\n",
       "      <td id=\"T_aee66_row21_col1\" class=\"data row21 col1\" >110</td>\n",
       "      <td id=\"T_aee66_row21_col2\" class=\"data row21 col2\" >say</td>\n",
       "      <td id=\"T_aee66_row21_col3\" class=\"data row21 col3\" >372</td>\n",
       "      <td id=\"T_aee66_row21_col4\" class=\"data row21 col4\" >know</td>\n",
       "      <td id=\"T_aee66_row21_col5\" class=\"data row21 col5\" >67</td>\n",
       "      <td id=\"T_aee66_row21_col6\" class=\"data row21 col6\" >data</td>\n",
       "      <td id=\"T_aee66_row21_col7\" class=\"data row21 col7\" >49</td>\n",
       "      <td id=\"T_aee66_row21_col8\" class=\"data row21 col8\" >snorkeling</td>\n",
       "      <td id=\"T_aee66_row21_col9\" class=\"data row21 col9\" >6</td>\n",
       "      <td id=\"T_aee66_row21_col10\" class=\"data row21 col10\" >lgbtq</td>\n",
       "      <td id=\"T_aee66_row21_col11\" class=\"data row21 col11\" >12</td>\n",
       "      <td id=\"T_aee66_row21_col12\" class=\"data row21 col12\" >adam</td>\n",
       "      <td id=\"T_aee66_row21_col13\" class=\"data row21 col13\" >3</td>\n",
       "      <td id=\"T_aee66_row21_col14\" class=\"data row21 col14\" >globalists</td>\n",
       "      <td id=\"T_aee66_row21_col15\" class=\"data row21 col15\" >3</td>\n",
       "    </tr>\n",
       "    <tr>\n",
       "      <th id=\"T_aee66_level0_row22\" class=\"row_heading level0 row22\" >22</th>\n",
       "      <td id=\"T_aee66_row22_col0\" class=\"data row22 col0\" >plan</td>\n",
       "      <td id=\"T_aee66_row22_col1\" class=\"data row22 col1\" >108</td>\n",
       "      <td id=\"T_aee66_row22_col2\" class=\"data row22 col2\" >thinking</td>\n",
       "      <td id=\"T_aee66_row22_col3\" class=\"data row22 col3\" >338</td>\n",
       "      <td id=\"T_aee66_row22_col4\" class=\"data row22 col4\" >isnt</td>\n",
       "      <td id=\"T_aee66_row22_col5\" class=\"data row22 col5\" >58</td>\n",
       "      <td id=\"T_aee66_row22_col6\" class=\"data row22 col6\" >make</td>\n",
       "      <td id=\"T_aee66_row22_col7\" class=\"data row22 col7\" >48</td>\n",
       "      <td id=\"T_aee66_row22_col8\" class=\"data row22 col8\" >rerouted</td>\n",
       "      <td id=\"T_aee66_row22_col9\" class=\"data row22 col9\" >6</td>\n",
       "      <td id=\"T_aee66_row22_col10\" class=\"data row22 col10\" >changetonight</td>\n",
       "      <td id=\"T_aee66_row22_col11\" class=\"data row22 col11\" >11</td>\n",
       "      <td id=\"T_aee66_row22_col12\" class=\"data row22 col12\" >modeling</td>\n",
       "      <td id=\"T_aee66_row22_col13\" class=\"data row22 col13\" >3</td>\n",
       "      <td id=\"T_aee66_row22_col14\" class=\"data row22 col14\" >kohns</td>\n",
       "      <td id=\"T_aee66_row22_col15\" class=\"data row22 col15\" >2</td>\n",
       "    </tr>\n",
       "    <tr>\n",
       "      <th id=\"T_aee66_level0_row23\" class=\"row_heading level0 row23\" >23</th>\n",
       "      <td id=\"T_aee66_row23_col0\" class=\"data row23 col0\" >energy</td>\n",
       "      <td id=\"T_aee66_row23_col1\" class=\"data row23 col1\" >104</td>\n",
       "      <td id=\"T_aee66_row23_col2\" class=\"data row23 col2\" >hoax</td>\n",
       "      <td id=\"T_aee66_row23_col3\" class=\"data row23 col3\" >328</td>\n",
       "      <td id=\"T_aee66_row23_col4\" class=\"data row23 col4\" >doesnt</td>\n",
       "      <td id=\"T_aee66_row23_col5\" class=\"data row23 col5\" >53</td>\n",
       "      <td id=\"T_aee66_row23_col6\" class=\"data row23 col6\" >made</td>\n",
       "      <td id=\"T_aee66_row23_col7\" class=\"data row23 col7\" >48</td>\n",
       "      <td id=\"T_aee66_row23_col8\" class=\"data row23 col8\" >mixed</td>\n",
       "      <td id=\"T_aee66_row23_col9\" class=\"data row23 col9\" >6</td>\n",
       "      <td id=\"T_aee66_row23_col10\" class=\"data row23 col10\" >disgusting</td>\n",
       "      <td id=\"T_aee66_row23_col11\" class=\"data row23 col11\" >11</td>\n",
       "      <td id=\"T_aee66_row23_col12\" class=\"data row23 col12\" >thot</td>\n",
       "      <td id=\"T_aee66_row23_col13\" class=\"data row23 col13\" >3</td>\n",
       "      <td id=\"T_aee66_row23_col14\" class=\"data row23 col14\" >propagating</td>\n",
       "      <td id=\"T_aee66_row23_col15\" class=\"data row23 col15\" >2</td>\n",
       "    </tr>\n",
       "    <tr>\n",
       "      <th id=\"T_aee66_level0_row24\" class=\"row_heading level0 row24\" >24</th>\n",
       "      <td id=\"T_aee66_row24_col0\" class=\"data row24 col0\" >president</td>\n",
       "      <td id=\"T_aee66_row24_col1\" class=\"data row24 col1\" >104</td>\n",
       "      <td id=\"T_aee66_row24_col2\" class=\"data row24 col2\" >like</td>\n",
       "      <td id=\"T_aee66_row24_col3\" class=\"data row24 col3\" >313</td>\n",
       "      <td id=\"T_aee66_row24_col4\" class=\"data row24 col4\" >one</td>\n",
       "      <td id=\"T_aee66_row24_col5\" class=\"data row24 col5\" >52</td>\n",
       "      <td id=\"T_aee66_row24_col6\" class=\"data row24 col6\" >manmade</td>\n",
       "      <td id=\"T_aee66_row24_col7\" class=\"data row24 col7\" >47</td>\n",
       "      <td id=\"T_aee66_row24_col8\" class=\"data row24 col8\" >ladybird</td>\n",
       "      <td id=\"T_aee66_row24_col9\" class=\"data row24 col9\" >6</td>\n",
       "      <td id=\"T_aee66_row24_col10\" class=\"data row24 col10\" >homophobic</td>\n",
       "      <td id=\"T_aee66_row24_col11\" class=\"data row24 col11\" >11</td>\n",
       "      <td id=\"T_aee66_row24_col12\" class=\"data row24 col12\" >fashion</td>\n",
       "      <td id=\"T_aee66_row24_col13\" class=\"data row24 col13\" >3</td>\n",
       "      <td id=\"T_aee66_row24_col14\" class=\"data row24 col14\" >bust</td>\n",
       "      <td id=\"T_aee66_row24_col15\" class=\"data row24 col15\" >2</td>\n",
       "    </tr>\n",
       "    <tr>\n",
       "      <th id=\"T_aee66_level0_row25\" class=\"row_heading level0 row25\" >25</th>\n",
       "      <td id=\"T_aee66_row25_col0\" class=\"data row25 col0\" >chief</td>\n",
       "      <td id=\"T_aee66_row25_col1\" class=\"data row25 col1\" >102</td>\n",
       "      <td id=\"T_aee66_row25_col2\" class=\"data row25 col2\" >husband</td>\n",
       "      <td id=\"T_aee66_row25_col3\" class=\"data row25 col3\" >312</td>\n",
       "      <td id=\"T_aee66_row25_col4\" class=\"data row25 col4\" >hot</td>\n",
       "      <td id=\"T_aee66_row25_col5\" class=\"data row25 col5\" >52</td>\n",
       "      <td id=\"T_aee66_row25_col6\" class=\"data row25 col6\" >tax</td>\n",
       "      <td id=\"T_aee66_row25_col7\" class=\"data row25 col7\" >46</td>\n",
       "      <td id=\"T_aee66_row25_col8\" class=\"data row25 col8\" >appear</td>\n",
       "      <td id=\"T_aee66_row25_col9\" class=\"data row25 col9\" >6</td>\n",
       "      <td id=\"T_aee66_row25_col10\" class=\"data row25 col10\" >irrefutable</td>\n",
       "      <td id=\"T_aee66_row25_col11\" class=\"data row25 col11\" >11</td>\n",
       "      <td id=\"T_aee66_row25_col12\" class=\"data row25 col12\" >hairline</td>\n",
       "      <td id=\"T_aee66_row25_col13\" class=\"data row25 col13\" >3</td>\n",
       "      <td id=\"T_aee66_row25_col14\" class=\"data row25 col14\" >starnes</td>\n",
       "      <td id=\"T_aee66_row25_col15\" class=\"data row25 col15\" >2</td>\n",
       "    </tr>\n",
       "    <tr>\n",
       "      <th id=\"T_aee66_level0_row26\" class=\"row_heading level0 row26\" >26</th>\n",
       "      <td id=\"T_aee66_row26_col0\" class=\"data row26 col0\" >study</td>\n",
       "      <td id=\"T_aee66_row26_col1\" class=\"data row26 col1\" >100</td>\n",
       "      <td id=\"T_aee66_row26_col2\" class=\"data row26 col2\" >fight</td>\n",
       "      <td id=\"T_aee66_row26_col3\" class=\"data row26 col3\" >296</td>\n",
       "      <td id=\"T_aee66_row26_col4\" class=\"data row26 col4\" >right</td>\n",
       "      <td id=\"T_aee66_row26_col5\" class=\"data row26 col5\" >50</td>\n",
       "      <td id=\"T_aee66_row26_col6\" class=\"data row26 col6\" >believe</td>\n",
       "      <td id=\"T_aee66_row26_col7\" class=\"data row26 col7\" >46</td>\n",
       "      <td id=\"T_aee66_row26_col8\" class=\"data row26 col8\" >poised</td>\n",
       "      <td id=\"T_aee66_row26_col9\" class=\"data row26 col9\" >6</td>\n",
       "      <td id=\"T_aee66_row26_col10\" class=\"data row26 col10\" >doomed</td>\n",
       "      <td id=\"T_aee66_row26_col11\" class=\"data row26 col11\" >11</td>\n",
       "      <td id=\"T_aee66_row26_col12\" class=\"data row26 col12\" >taehyung</td>\n",
       "      <td id=\"T_aee66_row26_col13\" class=\"data row26 col13\" >3</td>\n",
       "      <td id=\"T_aee66_row26_col14\" class=\"data row26 col14\" >npr</td>\n",
       "      <td id=\"T_aee66_row26_col15\" class=\"data row26 col15\" >2</td>\n",
       "    </tr>\n",
       "    <tr>\n",
       "      <th id=\"T_aee66_level0_row27\" class=\"row_heading level0 row27\" >27</th>\n",
       "      <td id=\"T_aee66_row27_col0\" class=\"data row27 col0\" >science</td>\n",
       "      <td id=\"T_aee66_row27_col1\" class=\"data row27 col1\" >98</td>\n",
       "      <td id=\"T_aee66_row27_col2\" class=\"data row27 col2\" >right</td>\n",
       "      <td id=\"T_aee66_row27_col3\" class=\"data row27 col3\" >283</td>\n",
       "      <td id=\"T_aee66_row27_col4\" class=\"data row27 col4\" >get</td>\n",
       "      <td id=\"T_aee66_row27_col5\" class=\"data row27 col5\" >50</td>\n",
       "      <td id=\"T_aee66_row27_col6\" class=\"data row27 col6\" >say</td>\n",
       "      <td id=\"T_aee66_row27_col7\" class=\"data row27 col7\" >45</td>\n",
       "      <td id=\"T_aee66_row27_col8\" class=\"data row27 col8\" >lifeblood</td>\n",
       "      <td id=\"T_aee66_row27_col9\" class=\"data row27 col9\" >6</td>\n",
       "      <td id=\"T_aee66_row27_col10\" class=\"data row27 col10\" >corporation</td>\n",
       "      <td id=\"T_aee66_row27_col11\" class=\"data row27 col11\" >11</td>\n",
       "      <td id=\"T_aee66_row27_col12\" class=\"data row27 col12\" >watered</td>\n",
       "      <td id=\"T_aee66_row27_col13\" class=\"data row27 col13\" >3</td>\n",
       "      <td id=\"T_aee66_row27_col14\" class=\"data row27 col14\" >tailpipe</td>\n",
       "      <td id=\"T_aee66_row27_col15\" class=\"data row27 col15\" >2</td>\n",
       "    </tr>\n",
       "    <tr>\n",
       "      <th id=\"T_aee66_level0_row28\" class=\"row_heading level0 row28\" >28</th>\n",
       "      <td id=\"T_aee66_row28_col0\" class=\"data row28 col0\" >may</td>\n",
       "      <td id=\"T_aee66_row28_col1\" class=\"data row28 col1\" >96</td>\n",
       "      <td id=\"T_aee66_row28_col2\" class=\"data row28 col2\" >new</td>\n",
       "      <td id=\"T_aee66_row28_col3\" class=\"data row28 col3\" >283</td>\n",
       "      <td id=\"T_aee66_row28_col4\" class=\"data row28 col4\" >thing</td>\n",
       "      <td id=\"T_aee66_row28_col5\" class=\"data row28 col5\" >48</td>\n",
       "      <td id=\"T_aee66_row28_col6\" class=\"data row28 col6\" >gore</td>\n",
       "      <td id=\"T_aee66_row28_col7\" class=\"data row28 col7\" >44</td>\n",
       "      <td id=\"T_aee66_row28_col8\" class=\"data row28 col8\" >oyster</td>\n",
       "      <td id=\"T_aee66_row28_col9\" class=\"data row28 col9\" >5</td>\n",
       "      <td id=\"T_aee66_row28_col10\" class=\"data row28 col10\" >filled</td>\n",
       "      <td id=\"T_aee66_row28_col11\" class=\"data row28 col11\" >11</td>\n",
       "      <td id=\"T_aee66_row28_col12\" class=\"data row28 col12\" >orthodox</td>\n",
       "      <td id=\"T_aee66_row28_col13\" class=\"data row28 col13\" >3</td>\n",
       "      <td id=\"T_aee66_row28_col14\" class=\"data row28 col14\" >clooney</td>\n",
       "      <td id=\"T_aee66_row28_col15\" class=\"data row28 col15\" >2</td>\n",
       "    </tr>\n",
       "    <tr>\n",
       "      <th id=\"T_aee66_level0_row29\" class=\"row_heading level0 row29\" >29</th>\n",
       "      <td id=\"T_aee66_row29_col0\" class=\"data row29 col0\" >pruitt</td>\n",
       "      <td id=\"T_aee66_row29_col1\" class=\"data row29 col1\" >96</td>\n",
       "      <td id=\"T_aee66_row29_col2\" class=\"data row29 col2\" >need</td>\n",
       "      <td id=\"T_aee66_row29_col3\" class=\"data row29 col3\" >272</td>\n",
       "      <td id=\"T_aee66_row29_col4\" class=\"data row29 col4\" >need</td>\n",
       "      <td id=\"T_aee66_row29_col5\" class=\"data row29 col5\" >47</td>\n",
       "      <td id=\"T_aee66_row29_col6\" class=\"data row29 col6\" >dont</td>\n",
       "      <td id=\"T_aee66_row29_col7\" class=\"data row29 col7\" >42</td>\n",
       "      <td id=\"T_aee66_row29_col8\" class=\"data row29 col8\" >reaffirm</td>\n",
       "      <td id=\"T_aee66_row29_col9\" class=\"data row29 col9\" >5</td>\n",
       "      <td id=\"T_aee66_row29_col10\" class=\"data row29 col10\" >electionnight</td>\n",
       "      <td id=\"T_aee66_row29_col11\" class=\"data row29 col11\" >10</td>\n",
       "      <td id=\"T_aee66_row29_col12\" class=\"data row29 col12\" >hewanhewan</td>\n",
       "      <td id=\"T_aee66_row29_col13\" class=\"data row29 col13\" >3</td>\n",
       "      <td id=\"T_aee66_row29_col14\" class=\"data row29 col14\" >globalism</td>\n",
       "      <td id=\"T_aee66_row29_col15\" class=\"data row29 col15\" >2</td>\n",
       "    </tr>\n",
       "  </tbody>\n",
       "</table>\n"
      ],
      "text/plain": [
       "<pandas.io.formats.style.Styler at 0x1c4f48d8d00>"
      ]
     },
     "execution_count": 52,
     "metadata": {},
     "output_type": "execute_result"
    }
   ],
   "source": [
    "mearge_words = common_words.join(unique_all)\n",
    "mearge_words.style.background_gradient(cmap=\"Blues\")"
   ]
  },
  {
   "cell_type": "code",
   "execution_count": 193,
   "metadata": {},
   "outputs": [],
   "source": [
    "# transform chosen column to vector using word frequency\n",
    "\n",
    "vect = CountVectorizer(ngram_range=(1,3))\n",
    "X = vect.fit_transform(prepare[\"lemma_str\"])\n",
    "\n",
    "# max_df=5000\n",
    "# min_df=5\n",
    "# tokenizer=StemTokenizer()\n",
    "# strip_accents=\"ascii\"\n",
    "# stop_words=new_stops\n",
    "# ngram_range=(1,3)"
   ]
  },
  {
   "cell_type": "code",
   "execution_count": 52,
   "metadata": {},
   "outputs": [],
   "source": [
    "# transform chosen column to vector using Term Frequency (TF) and Document Frequency (DF)\n",
    "# Term frequency-inverse document frequency (TFIDF)\n",
    "\n",
    "# tfidfconverter = TfidfTransformer()\n",
    "# X_tfid = tfidfconverter.fit_transform(X).toarray()"
   ]
  },
  {
   "cell_type": "code",
   "execution_count": 53,
   "metadata": {},
   "outputs": [],
   "source": [
    "# tfidfconverter = TfidfVectorizer(norm = None)\n",
    "# X_tfid_tans = tfidfconverter.fit_transform(prepare[\"lemma_str\"]).toarray()"
   ]
  },
  {
   "cell_type": "code",
   "execution_count": 54,
   "metadata": {},
   "outputs": [],
   "source": [
    "# tfidf_vectorizer = TfidfVectorizer(use_idf=True)\n",
    "# X_vectors_tfidf = tfidf_vectorizer.fit_transform(prepare[\"lemma_str\"])"
   ]
  },
  {
   "cell_type": "code",
   "execution_count": 158,
   "metadata": {},
   "outputs": [
    {
     "name": "stdout",
     "output_type": "stream",
     "text": [
      "['aaa' 'aaaaaaaaaaa' 'aaaaaand' ... 'zoo' 'zum' 'zwizku'] 14825\n"
     ]
    }
   ],
   "source": [
    "# observe list of selected words and their count\n",
    "\n",
    "word_list = vect.get_feature_names_out()\n",
    "count_list = np.asarray(X.sum(axis=0))[0]\n",
    "\n",
    "# plt.hist([v for v in count_list], color=\"blue\")\n",
    "# plt.ylabel(\"# of words havin count\")\n",
    "# plt.xlabel(\"word count\")\n",
    "\n",
    "print(word_list, len(word_list))\n",
    "# print(dict(zip(word_list, count_list)))"
   ]
  },
  {
   "cell_type": "code",
   "execution_count": 99,
   "metadata": {},
   "outputs": [
    {
     "data": {
      "image/png": "[encoded data removed]",
      "text/plain": [
       "<Figure size 864x864 with 1 Axes>"
      ]
     },
     "metadata": {},
     "output_type": "display_data"
    }
   ],
   "source": [
    "wordcloud_draw(word_list, color=\"black\", max_font_size=100, title_size=30, title=\"Selected Words\")"
   ]
  },
  {
   "cell_type": "markdown",
   "metadata": {},
   "source": [
    "<a id=\"five_one\"></a>\n",
    "### 5.1. Scaling features\n",
    "\n",
    "<a href=#five>Back to Model Files</a>"
   ]
  },
  {
   "cell_type": "code",
   "execution_count": 195,
   "metadata": {},
   "outputs": [
    {
     "data": {
      "text/html": [
       "<div>\n",
       "<style scoped>\n",
       "    .dataframe tbody tr th:only-of-type {\n",
       "        vertical-align: middle;\n",
       "    }\n",
       "\n",
       "    .dataframe tbody tr th {\n",
       "        vertical-align: top;\n",
       "    }\n",
       "\n",
       "    .dataframe thead th {\n",
       "        text-align: right;\n",
       "    }\n",
       "</style>\n",
       "<table border=\"1\" class=\"dataframe\">\n",
       "  <thead>\n",
       "    <tr style=\"text-align: right;\">\n",
       "      <th></th>\n",
       "      <th>0</th>\n",
       "      <th>1</th>\n",
       "      <th>2</th>\n",
       "      <th>3</th>\n",
       "      <th>4</th>\n",
       "      <th>5</th>\n",
       "      <th>6</th>\n",
       "      <th>7</th>\n",
       "      <th>8</th>\n",
       "      <th>9</th>\n",
       "      <th>...</th>\n",
       "      <th>185789</th>\n",
       "      <th>185790</th>\n",
       "      <th>185791</th>\n",
       "      <th>185792</th>\n",
       "      <th>185793</th>\n",
       "      <th>185794</th>\n",
       "      <th>185795</th>\n",
       "      <th>185796</th>\n",
       "      <th>185797</th>\n",
       "      <th>185798</th>\n",
       "    </tr>\n",
       "  </thead>\n",
       "  <tbody>\n",
       "    <tr>\n",
       "      <th>0</th>\n",
       "      <td>0</td>\n",
       "      <td>0</td>\n",
       "      <td>0</td>\n",
       "      <td>0</td>\n",
       "      <td>0</td>\n",
       "      <td>0</td>\n",
       "      <td>0</td>\n",
       "      <td>0</td>\n",
       "      <td>0</td>\n",
       "      <td>0</td>\n",
       "      <td>...</td>\n",
       "      <td>0</td>\n",
       "      <td>0</td>\n",
       "      <td>0</td>\n",
       "      <td>0</td>\n",
       "      <td>0</td>\n",
       "      <td>0</td>\n",
       "      <td>0</td>\n",
       "      <td>0</td>\n",
       "      <td>0</td>\n",
       "      <td>0</td>\n",
       "    </tr>\n",
       "    <tr>\n",
       "      <th>1</th>\n",
       "      <td>0</td>\n",
       "      <td>0</td>\n",
       "      <td>0</td>\n",
       "      <td>0</td>\n",
       "      <td>0</td>\n",
       "      <td>0</td>\n",
       "      <td>0</td>\n",
       "      <td>0</td>\n",
       "      <td>0</td>\n",
       "      <td>0</td>\n",
       "      <td>...</td>\n",
       "      <td>0</td>\n",
       "      <td>0</td>\n",
       "      <td>0</td>\n",
       "      <td>0</td>\n",
       "      <td>0</td>\n",
       "      <td>0</td>\n",
       "      <td>0</td>\n",
       "      <td>0</td>\n",
       "      <td>0</td>\n",
       "      <td>0</td>\n",
       "    </tr>\n",
       "    <tr>\n",
       "      <th>2</th>\n",
       "      <td>0</td>\n",
       "      <td>0</td>\n",
       "      <td>0</td>\n",
       "      <td>0</td>\n",
       "      <td>0</td>\n",
       "      <td>0</td>\n",
       "      <td>0</td>\n",
       "      <td>0</td>\n",
       "      <td>0</td>\n",
       "      <td>0</td>\n",
       "      <td>...</td>\n",
       "      <td>0</td>\n",
       "      <td>0</td>\n",
       "      <td>0</td>\n",
       "      <td>0</td>\n",
       "      <td>0</td>\n",
       "      <td>0</td>\n",
       "      <td>0</td>\n",
       "      <td>0</td>\n",
       "      <td>0</td>\n",
       "      <td>0</td>\n",
       "    </tr>\n",
       "    <tr>\n",
       "      <th>3</th>\n",
       "      <td>0</td>\n",
       "      <td>0</td>\n",
       "      <td>0</td>\n",
       "      <td>0</td>\n",
       "      <td>0</td>\n",
       "      <td>0</td>\n",
       "      <td>0</td>\n",
       "      <td>0</td>\n",
       "      <td>0</td>\n",
       "      <td>0</td>\n",
       "      <td>...</td>\n",
       "      <td>0</td>\n",
       "      <td>0</td>\n",
       "      <td>0</td>\n",
       "      <td>0</td>\n",
       "      <td>0</td>\n",
       "      <td>0</td>\n",
       "      <td>0</td>\n",
       "      <td>0</td>\n",
       "      <td>0</td>\n",
       "      <td>0</td>\n",
       "    </tr>\n",
       "    <tr>\n",
       "      <th>4</th>\n",
       "      <td>0</td>\n",
       "      <td>0</td>\n",
       "      <td>0</td>\n",
       "      <td>0</td>\n",
       "      <td>0</td>\n",
       "      <td>0</td>\n",
       "      <td>0</td>\n",
       "      <td>0</td>\n",
       "      <td>0</td>\n",
       "      <td>0</td>\n",
       "      <td>...</td>\n",
       "      <td>0</td>\n",
       "      <td>0</td>\n",
       "      <td>0</td>\n",
       "      <td>0</td>\n",
       "      <td>0</td>\n",
       "      <td>0</td>\n",
       "      <td>0</td>\n",
       "      <td>0</td>\n",
       "      <td>0</td>\n",
       "      <td>0</td>\n",
       "    </tr>\n",
       "  </tbody>\n",
       "</table>\n",
       "<p>5 rows × 185799 columns</p>\n",
       "</div>"
      ],
      "text/plain": [
       "   0       1       2       3       4       5       6       7       8       \\\n",
       "0       0       0       0       0       0       0       0       0       0   \n",
       "1       0       0       0       0       0       0       0       0       0   \n",
       "2       0       0       0       0       0       0       0       0       0   \n",
       "3       0       0       0       0       0       0       0       0       0   \n",
       "4       0       0       0       0       0       0       0       0       0   \n",
       "\n",
       "   9       ...  185789  185790  185791  185792  185793  185794  185795  \\\n",
       "0       0  ...       0       0       0       0       0       0       0   \n",
       "1       0  ...       0       0       0       0       0       0       0   \n",
       "2       0  ...       0       0       0       0       0       0       0   \n",
       "3       0  ...       0       0       0       0       0       0       0   \n",
       "4       0  ...       0       0       0       0       0       0       0   \n",
       "\n",
       "   185796  185797  185798  \n",
       "0       0       0       0  \n",
       "1       0       0       0  \n",
       "2       0       0       0  \n",
       "3       0       0       0  \n",
       "4       0       0       0  \n",
       "\n",
       "[5 rows x 185799 columns]"
      ]
     },
     "execution_count": 195,
     "metadata": {},
     "output_type": "execute_result"
    }
   ],
   "source": [
    "X_df = pd.DataFrame(X.A)\n",
    "\n",
    "X_df.head()"
   ]
  },
  {
   "cell_type": "code",
   "execution_count": 198,
   "metadata": {},
   "outputs": [
    {
     "ename": "MemoryError",
     "evalue": "Unable to allocate 21.9 GiB for an array with shape (15819, 185799) and data type int64",
     "output_type": "error",
     "traceback": [
      "\u001b[1;31m---------------------------------------------------------------------------\u001b[0m",
      "\u001b[1;31mMemoryError\u001b[0m                               Traceback (most recent call last)",
      "\u001b[1;32mc:\\Users\\ADEBOWALE Tosin\\Desktop\\tee\\Explore\\predict\\06 - Advanced Classification\\EDSA_Climate_Change_Belief_Analysis_2022_Team_NM3\\1_Kaggle\\Team_NM3.ipynb Cell 75'\u001b[0m in \u001b[0;36m<cell line: 2>\u001b[1;34m()\u001b[0m\n\u001b[0;32m      <a href='vscode-notebook-cell:/c%3A/Users/ADEBOWALE%20Tosin/Desktop/tee/Explore/predict/06%20-%20Advanced%20Classification/EDSA_Climate_Change_Belief_Analysis_2022_Team_NM3/1_Kaggle/Team_NM3.ipynb#ch0000074?line=0'>1</a>\u001b[0m min_max_scaler \u001b[39m=\u001b[39m MinMaxScaler()\n\u001b[1;32m----> <a href='vscode-notebook-cell:/c%3A/Users/ADEBOWALE%20Tosin/Desktop/tee/Explore/predict/06%20-%20Advanced%20Classification/EDSA_Climate_Change_Belief_Analysis_2022_Team_NM3/1_Kaggle/Team_NM3.ipynb#ch0000074?line=1'>2</a>\u001b[0m X_minmax \u001b[39m=\u001b[39m min_max_scaler\u001b[39m.\u001b[39mfit_transform(X\u001b[39m.\u001b[39;49mA)\n\u001b[0;32m      <a href='vscode-notebook-cell:/c%3A/Users/ADEBOWALE%20Tosin/Desktop/tee/Explore/predict/06%20-%20Advanced%20Classification/EDSA_Climate_Change_Belief_Analysis_2022_Team_NM3/1_Kaggle/Team_NM3.ipynb#ch0000074?line=3'>4</a>\u001b[0m X_minmax_df \u001b[39m=\u001b[39m pd\u001b[39m.\u001b[39mDataFrame(X_minmax)\n\u001b[0;32m      <a href='vscode-notebook-cell:/c%3A/Users/ADEBOWALE%20Tosin/Desktop/tee/Explore/predict/06%20-%20Advanced%20Classification/EDSA_Climate_Change_Belief_Analysis_2022_Team_NM3/1_Kaggle/Team_NM3.ipynb#ch0000074?line=4'>5</a>\u001b[0m X_minmax_df\u001b[39m.\u001b[39mhead()\n",
      "File \u001b[1;32mc:\\Python310\\lib\\site-packages\\scipy\\sparse\\_base.py:745\u001b[0m, in \u001b[0;36mspmatrix.__getattr__\u001b[1;34m(self, attr)\u001b[0m\n\u001b[0;32m    741\u001b[0m     \u001b[39mif\u001b[39;00m \u001b[39mself\u001b[39m\u001b[39m.\u001b[39m_is_array:\n\u001b[0;32m    742\u001b[0m         warn(np\u001b[39m.\u001b[39mVisibleDeprecationWarning(\n\u001b[0;32m    743\u001b[0m             \u001b[39m\"\u001b[39m\u001b[39mPlease use `.todense()` instead\u001b[39m\u001b[39m\"\u001b[39m\n\u001b[0;32m    744\u001b[0m         ))\n\u001b[1;32m--> 745\u001b[0m     \u001b[39mreturn\u001b[39;00m \u001b[39mself\u001b[39;49m\u001b[39m.\u001b[39;49mtoarray()\n\u001b[0;32m    746\u001b[0m \u001b[39melif\u001b[39;00m attr \u001b[39m==\u001b[39m \u001b[39m'\u001b[39m\u001b[39mT\u001b[39m\u001b[39m'\u001b[39m:\n\u001b[0;32m    747\u001b[0m     \u001b[39mreturn\u001b[39;00m \u001b[39mself\u001b[39m\u001b[39m.\u001b[39mtranspose()\n",
      "File \u001b[1;32mc:\\Python310\\lib\\site-packages\\scipy\\sparse\\_compressed.py:1051\u001b[0m, in \u001b[0;36m_cs_matrix.toarray\u001b[1;34m(self, order, out)\u001b[0m\n\u001b[0;32m   1049\u001b[0m \u001b[39mif\u001b[39;00m out \u001b[39mis\u001b[39;00m \u001b[39mNone\u001b[39;00m \u001b[39mand\u001b[39;00m order \u001b[39mis\u001b[39;00m \u001b[39mNone\u001b[39;00m:\n\u001b[0;32m   1050\u001b[0m     order \u001b[39m=\u001b[39m \u001b[39mself\u001b[39m\u001b[39m.\u001b[39m_swap(\u001b[39m'\u001b[39m\u001b[39mcf\u001b[39m\u001b[39m'\u001b[39m)[\u001b[39m0\u001b[39m]\n\u001b[1;32m-> 1051\u001b[0m out \u001b[39m=\u001b[39m \u001b[39mself\u001b[39;49m\u001b[39m.\u001b[39;49m_process_toarray_args(order, out)\n\u001b[0;32m   1052\u001b[0m \u001b[39mif\u001b[39;00m \u001b[39mnot\u001b[39;00m (out\u001b[39m.\u001b[39mflags\u001b[39m.\u001b[39mc_contiguous \u001b[39mor\u001b[39;00m out\u001b[39m.\u001b[39mflags\u001b[39m.\u001b[39mf_contiguous):\n\u001b[0;32m   1053\u001b[0m     \u001b[39mraise\u001b[39;00m \u001b[39mValueError\u001b[39;00m(\u001b[39m'\u001b[39m\u001b[39mOutput array must be C or F contiguous\u001b[39m\u001b[39m'\u001b[39m)\n",
      "File \u001b[1;32mc:\\Python310\\lib\\site-packages\\scipy\\sparse\\_base.py:1288\u001b[0m, in \u001b[0;36mspmatrix._process_toarray_args\u001b[1;34m(self, order, out)\u001b[0m\n\u001b[0;32m   1286\u001b[0m     \u001b[39mreturn\u001b[39;00m out\n\u001b[0;32m   1287\u001b[0m \u001b[39melse\u001b[39;00m:\n\u001b[1;32m-> 1288\u001b[0m     \u001b[39mreturn\u001b[39;00m np\u001b[39m.\u001b[39;49mzeros(\u001b[39mself\u001b[39;49m\u001b[39m.\u001b[39;49mshape, dtype\u001b[39m=\u001b[39;49m\u001b[39mself\u001b[39;49m\u001b[39m.\u001b[39;49mdtype, order\u001b[39m=\u001b[39;49morder)\n",
      "\u001b[1;31mMemoryError\u001b[0m: Unable to allocate 21.9 GiB for an array with shape (15819, 185799) and data type int64"
     ]
    }
   ],
   "source": [
    "min_max_scaler = MinMaxScaler()\n",
    "X_minmax = min_max_scaler.fit_transform(X.A)\n",
    "\n",
    "X_minmax_df = pd.DataFrame(X_minmax)\n",
    "X_minmax_df.head()"
   ]
  },
  {
   "cell_type": "code",
   "execution_count": 59,
   "metadata": {},
   "outputs": [],
   "source": [
    "# standard_scaler = StandardScaler()\n",
    "# X_standard = standard_scaler.fit_transform(X.A)\n",
    "\n",
    "# X_standard_df = pd.DataFrame(X_standard)\n",
    "# X_standard_df.head()"
   ]
  },
  {
   "cell_type": "code",
   "execution_count": 58,
   "metadata": {},
   "outputs": [
    {
     "data": {
      "text/html": [
       "<div>\n",
       "<style scoped>\n",
       "    .dataframe tbody tr th:only-of-type {\n",
       "        vertical-align: middle;\n",
       "    }\n",
       "\n",
       "    .dataframe tbody tr th {\n",
       "        vertical-align: top;\n",
       "    }\n",
       "\n",
       "    .dataframe thead th {\n",
       "        text-align: right;\n",
       "    }\n",
       "</style>\n",
       "<table border=\"1\" class=\"dataframe\">\n",
       "  <thead>\n",
       "    <tr style=\"text-align: right;\">\n",
       "      <th></th>\n",
       "      <th>0</th>\n",
       "      <th>1</th>\n",
       "      <th>2</th>\n",
       "      <th>3</th>\n",
       "      <th>4</th>\n",
       "      <th>5</th>\n",
       "      <th>6</th>\n",
       "      <th>7</th>\n",
       "      <th>8</th>\n",
       "      <th>9</th>\n",
       "      <th>...</th>\n",
       "      <th>12146</th>\n",
       "      <th>12147</th>\n",
       "      <th>12148</th>\n",
       "      <th>12149</th>\n",
       "      <th>12150</th>\n",
       "      <th>12151</th>\n",
       "      <th>12152</th>\n",
       "      <th>12153</th>\n",
       "      <th>12154</th>\n",
       "      <th>12155</th>\n",
       "    </tr>\n",
       "  </thead>\n",
       "  <tbody>\n",
       "    <tr>\n",
       "      <th>0</th>\n",
       "      <td>0.0</td>\n",
       "      <td>0.0</td>\n",
       "      <td>0.0</td>\n",
       "      <td>0.0</td>\n",
       "      <td>0.0</td>\n",
       "      <td>0.0</td>\n",
       "      <td>0.0</td>\n",
       "      <td>0.0</td>\n",
       "      <td>0.0</td>\n",
       "      <td>0.0</td>\n",
       "      <td>...</td>\n",
       "      <td>0.0</td>\n",
       "      <td>0.0</td>\n",
       "      <td>0.0</td>\n",
       "      <td>0.0</td>\n",
       "      <td>0.0</td>\n",
       "      <td>0.0</td>\n",
       "      <td>0.0</td>\n",
       "      <td>0.0</td>\n",
       "      <td>0.0</td>\n",
       "      <td>0.0</td>\n",
       "    </tr>\n",
       "    <tr>\n",
       "      <th>1</th>\n",
       "      <td>0.0</td>\n",
       "      <td>0.0</td>\n",
       "      <td>0.0</td>\n",
       "      <td>0.0</td>\n",
       "      <td>0.0</td>\n",
       "      <td>0.0</td>\n",
       "      <td>0.0</td>\n",
       "      <td>0.0</td>\n",
       "      <td>0.0</td>\n",
       "      <td>0.0</td>\n",
       "      <td>...</td>\n",
       "      <td>0.0</td>\n",
       "      <td>0.0</td>\n",
       "      <td>0.0</td>\n",
       "      <td>0.0</td>\n",
       "      <td>0.0</td>\n",
       "      <td>0.0</td>\n",
       "      <td>0.0</td>\n",
       "      <td>0.0</td>\n",
       "      <td>0.0</td>\n",
       "      <td>0.0</td>\n",
       "    </tr>\n",
       "    <tr>\n",
       "      <th>2</th>\n",
       "      <td>0.0</td>\n",
       "      <td>0.0</td>\n",
       "      <td>0.0</td>\n",
       "      <td>0.0</td>\n",
       "      <td>0.0</td>\n",
       "      <td>0.0</td>\n",
       "      <td>0.0</td>\n",
       "      <td>0.0</td>\n",
       "      <td>0.0</td>\n",
       "      <td>0.0</td>\n",
       "      <td>...</td>\n",
       "      <td>0.0</td>\n",
       "      <td>0.0</td>\n",
       "      <td>0.0</td>\n",
       "      <td>0.0</td>\n",
       "      <td>0.0</td>\n",
       "      <td>0.0</td>\n",
       "      <td>0.0</td>\n",
       "      <td>0.0</td>\n",
       "      <td>0.0</td>\n",
       "      <td>0.0</td>\n",
       "    </tr>\n",
       "    <tr>\n",
       "      <th>3</th>\n",
       "      <td>0.0</td>\n",
       "      <td>0.0</td>\n",
       "      <td>0.0</td>\n",
       "      <td>0.0</td>\n",
       "      <td>0.0</td>\n",
       "      <td>0.0</td>\n",
       "      <td>0.0</td>\n",
       "      <td>0.0</td>\n",
       "      <td>0.0</td>\n",
       "      <td>0.0</td>\n",
       "      <td>...</td>\n",
       "      <td>0.0</td>\n",
       "      <td>0.0</td>\n",
       "      <td>0.0</td>\n",
       "      <td>0.0</td>\n",
       "      <td>0.0</td>\n",
       "      <td>0.0</td>\n",
       "      <td>0.0</td>\n",
       "      <td>0.0</td>\n",
       "      <td>0.0</td>\n",
       "      <td>0.0</td>\n",
       "    </tr>\n",
       "    <tr>\n",
       "      <th>4</th>\n",
       "      <td>0.0</td>\n",
       "      <td>0.0</td>\n",
       "      <td>0.0</td>\n",
       "      <td>0.0</td>\n",
       "      <td>0.0</td>\n",
       "      <td>0.0</td>\n",
       "      <td>0.0</td>\n",
       "      <td>0.0</td>\n",
       "      <td>0.0</td>\n",
       "      <td>0.0</td>\n",
       "      <td>...</td>\n",
       "      <td>0.0</td>\n",
       "      <td>0.0</td>\n",
       "      <td>0.0</td>\n",
       "      <td>0.0</td>\n",
       "      <td>0.0</td>\n",
       "      <td>0.0</td>\n",
       "      <td>0.0</td>\n",
       "      <td>0.0</td>\n",
       "      <td>0.0</td>\n",
       "      <td>0.0</td>\n",
       "    </tr>\n",
       "  </tbody>\n",
       "</table>\n",
       "<p>5 rows × 12156 columns</p>\n",
       "</div>"
      ],
      "text/plain": [
       "   0      1      2      3      4      5      6      7      8      9      ...  \\\n",
       "0    0.0    0.0    0.0    0.0    0.0    0.0    0.0    0.0    0.0    0.0  ...   \n",
       "1    0.0    0.0    0.0    0.0    0.0    0.0    0.0    0.0    0.0    0.0  ...   \n",
       "2    0.0    0.0    0.0    0.0    0.0    0.0    0.0    0.0    0.0    0.0  ...   \n",
       "3    0.0    0.0    0.0    0.0    0.0    0.0    0.0    0.0    0.0    0.0  ...   \n",
       "4    0.0    0.0    0.0    0.0    0.0    0.0    0.0    0.0    0.0    0.0  ...   \n",
       "\n",
       "   12146  12147  12148  12149  12150  12151  12152  12153  12154  12155  \n",
       "0    0.0    0.0    0.0    0.0    0.0    0.0    0.0    0.0    0.0    0.0  \n",
       "1    0.0    0.0    0.0    0.0    0.0    0.0    0.0    0.0    0.0    0.0  \n",
       "2    0.0    0.0    0.0    0.0    0.0    0.0    0.0    0.0    0.0    0.0  \n",
       "3    0.0    0.0    0.0    0.0    0.0    0.0    0.0    0.0    0.0    0.0  \n",
       "4    0.0    0.0    0.0    0.0    0.0    0.0    0.0    0.0    0.0    0.0  \n",
       "\n",
       "[5 rows x 12156 columns]"
      ]
     },
     "execution_count": 58,
     "metadata": {},
     "output_type": "execute_result"
    }
   ],
   "source": [
    "maxabs_scaler = MaxAbsScaler()\n",
    "X_maxabs = maxabs_scaler.fit_transform(X.A)\n",
    "\n",
    "X_maxabs_df = pd.DataFrame(X_maxabs)\n",
    "X_maxabs_df.head()"
   ]
  },
  {
   "cell_type": "markdown",
   "metadata": {
    "tags": []
   },
   "source": [
    "<a id=\"five_two\"></a>\n",
    "### 5.2. Prepare label\n",
    "\n",
    "<a href=#five>Back to Model Files</a>"
   ]
  },
  {
   "cell_type": "code",
   "execution_count": 60,
   "metadata": {},
   "outputs": [
    {
     "data": {
      "text/plain": [
       "(15819,)"
      ]
     },
     "execution_count": 60,
     "metadata": {},
     "output_type": "execute_result"
    }
   ],
   "source": [
    "y = tweet[\"sentiment\"]\n",
    "y.shape"
   ]
  },
  {
   "cell_type": "markdown",
   "metadata": {},
   "source": [
    "<a id=\"five_three\"></a>\n",
    "### 5.3. Train_Test_Split\n",
    "\n",
    "<a href=#five>Back to Model Files</a>"
   ]
  },
  {
   "cell_type": "code",
   "execution_count": 205,
   "metadata": {},
   "outputs": [
    {
     "ename": "MemoryError",
     "evalue": "Unable to allocate 21.9 GiB for an array with shape (15819, 185799) and data type int64",
     "output_type": "error",
     "traceback": [
      "\u001b[1;31m---------------------------------------------------------------------------\u001b[0m",
      "\u001b[1;31mMemoryError\u001b[0m                               Traceback (most recent call last)",
      "\u001b[1;32mc:\\Users\\ADEBOWALE Tosin\\Desktop\\tee\\Explore\\predict\\06 - Advanced Classification\\EDSA_Climate_Change_Belief_Analysis_2022_Team_NM3\\1_Kaggle\\Team_NM3.ipynb Cell 81'\u001b[0m in \u001b[0;36m<cell line: 1>\u001b[1;34m()\u001b[0m\n\u001b[1;32m----> <a href='vscode-notebook-cell:/c%3A/Users/ADEBOWALE%20Tosin/Desktop/tee/Explore/predict/06%20-%20Advanced%20Classification/EDSA_Climate_Change_Belief_Analysis_2022_Team_NM3/1_Kaggle/Team_NM3.ipynb#ch0000079?line=0'>1</a>\u001b[0m X_train, X_test, y_train, y_test \u001b[39m=\u001b[39m train_test_split(X\u001b[39m.\u001b[39;49mA, y, test_size\u001b[39m=\u001b[39m\u001b[39m0.2\u001b[39m, random_state\u001b[39m=\u001b[39m\u001b[39m42\u001b[39m)\n",
      "File \u001b[1;32mc:\\Python310\\lib\\site-packages\\scipy\\sparse\\_base.py:745\u001b[0m, in \u001b[0;36mspmatrix.__getattr__\u001b[1;34m(self, attr)\u001b[0m\n\u001b[0;32m    741\u001b[0m     \u001b[39mif\u001b[39;00m \u001b[39mself\u001b[39m\u001b[39m.\u001b[39m_is_array:\n\u001b[0;32m    742\u001b[0m         warn(np\u001b[39m.\u001b[39mVisibleDeprecationWarning(\n\u001b[0;32m    743\u001b[0m             \u001b[39m\"\u001b[39m\u001b[39mPlease use `.todense()` instead\u001b[39m\u001b[39m\"\u001b[39m\n\u001b[0;32m    744\u001b[0m         ))\n\u001b[1;32m--> 745\u001b[0m     \u001b[39mreturn\u001b[39;00m \u001b[39mself\u001b[39;49m\u001b[39m.\u001b[39;49mtoarray()\n\u001b[0;32m    746\u001b[0m \u001b[39melif\u001b[39;00m attr \u001b[39m==\u001b[39m \u001b[39m'\u001b[39m\u001b[39mT\u001b[39m\u001b[39m'\u001b[39m:\n\u001b[0;32m    747\u001b[0m     \u001b[39mreturn\u001b[39;00m \u001b[39mself\u001b[39m\u001b[39m.\u001b[39mtranspose()\n",
      "File \u001b[1;32mc:\\Python310\\lib\\site-packages\\scipy\\sparse\\_compressed.py:1051\u001b[0m, in \u001b[0;36m_cs_matrix.toarray\u001b[1;34m(self, order, out)\u001b[0m\n\u001b[0;32m   1049\u001b[0m \u001b[39mif\u001b[39;00m out \u001b[39mis\u001b[39;00m \u001b[39mNone\u001b[39;00m \u001b[39mand\u001b[39;00m order \u001b[39mis\u001b[39;00m \u001b[39mNone\u001b[39;00m:\n\u001b[0;32m   1050\u001b[0m     order \u001b[39m=\u001b[39m \u001b[39mself\u001b[39m\u001b[39m.\u001b[39m_swap(\u001b[39m'\u001b[39m\u001b[39mcf\u001b[39m\u001b[39m'\u001b[39m)[\u001b[39m0\u001b[39m]\n\u001b[1;32m-> 1051\u001b[0m out \u001b[39m=\u001b[39m \u001b[39mself\u001b[39;49m\u001b[39m.\u001b[39;49m_process_toarray_args(order, out)\n\u001b[0;32m   1052\u001b[0m \u001b[39mif\u001b[39;00m \u001b[39mnot\u001b[39;00m (out\u001b[39m.\u001b[39mflags\u001b[39m.\u001b[39mc_contiguous \u001b[39mor\u001b[39;00m out\u001b[39m.\u001b[39mflags\u001b[39m.\u001b[39mf_contiguous):\n\u001b[0;32m   1053\u001b[0m     \u001b[39mraise\u001b[39;00m \u001b[39mValueError\u001b[39;00m(\u001b[39m'\u001b[39m\u001b[39mOutput array must be C or F contiguous\u001b[39m\u001b[39m'\u001b[39m)\n",
      "File \u001b[1;32mc:\\Python310\\lib\\site-packages\\scipy\\sparse\\_base.py:1288\u001b[0m, in \u001b[0;36mspmatrix._process_toarray_args\u001b[1;34m(self, order, out)\u001b[0m\n\u001b[0;32m   1286\u001b[0m     \u001b[39mreturn\u001b[39;00m out\n\u001b[0;32m   1287\u001b[0m \u001b[39melse\u001b[39;00m:\n\u001b[1;32m-> 1288\u001b[0m     \u001b[39mreturn\u001b[39;00m np\u001b[39m.\u001b[39;49mzeros(\u001b[39mself\u001b[39;49m\u001b[39m.\u001b[39;49mshape, dtype\u001b[39m=\u001b[39;49m\u001b[39mself\u001b[39;49m\u001b[39m.\u001b[39;49mdtype, order\u001b[39m=\u001b[39;49morder)\n",
      "\u001b[1;31mMemoryError\u001b[0m: Unable to allocate 21.9 GiB for an array with shape (15819, 185799) and data type int64"
     ]
    }
   ],
   "source": [
    "X_train, X_test, y_train, y_test = train_test_split(X.A, y, test_size=0.2, random_state=42)\n",
    "# , stratify=y"
   ]
  },
  {
   "cell_type": "code",
   "execution_count": 64,
   "metadata": {},
   "outputs": [
    {
     "data": {
      "image/png": "[encoded data removed]",
      "text/plain": [
       "<Figure size 720x504 with 1 Axes>"
      ]
     },
     "metadata": {},
     "output_type": "display_data"
    },
    {
     "data": {
      "text/plain": [
       " 1    8530\n",
       " 2    3640\n",
       " 0    2353\n",
       "-1    1296\n",
       "Name: sentiment, dtype: int64"
      ]
     },
     "execution_count": 64,
     "metadata": {},
     "output_type": "execute_result"
    }
   ],
   "source": [
    "# plot split across sentiments\n",
    "\n",
    "unique, counts = np.unique(y_train, return_counts=True)\n",
    "plt.bar(unique, counts, color=\"blue\")\n",
    "unique, counts = np.unique(y_test, return_counts=True)\n",
    "plt.bar(unique, counts, color=\"lightblue\")\n",
    "\n",
    "plt.title(\"Class Frequency\")\n",
    "plt.xlabel(\"Class\")\n",
    "plt.ylabel(\"Frequency\")\n",
    "plt.xticks(ticks=[1,2,0,-1], labels=[1,2,0,-1])\n",
    "plt.legend([\"train\", \"test\"])\n",
    "\n",
    "plt.show()\n",
    "y.value_counts()"
   ]
  },
  {
   "cell_type": "markdown",
   "metadata": {},
   "source": [
    " <a id=\"six\"></a>\n",
    "## 6. Modelling\n",
    "<a href=#linkup>Back to Table of Contents</a>\n",
    "\n",
    "---\n",
    "    \n",
    "## <center>| ⚡ Description ⚡ |\n",
    "\n",
    "**<center>Developing model and evaluate accuracy.<center>**\n",
    "\n",
    "---"
   ]
  },
  {
   "cell_type": "markdown",
   "metadata": {
    "tags": []
   },
   "source": [
    "<a id=\"six_zero\"></a>\n",
    "### 6.0. Improve model individually\n",
    "\n",
    "<a href=#six>Back to Modelling</a>"
   ]
  },
  {
   "cell_type": "code",
   "execution_count": 63,
   "metadata": {
    "colab": {
     "base_uri": "https://localhost:8080/",
     "height": 235
    },
    "colab_type": "code",
    "id": "k_N5SgT-muv0",
    "outputId": "3d356c34-292b-4ba1-c965-83ded720a1ac"
   },
   "outputs": [],
   "source": [
    "# parameters = {\"kernel\":(\"linear\", \"rbf\"), \n",
    "#               \"C\":(0.25,1.0),\n",
    "#               \"gamma\": (1,2)}\n",
    "\n",
    "# svm = SVC()\n",
    "# model = GridSearchCV(svm, parameters)"
   ]
  },
  {
   "cell_type": "code",
   "execution_count": 185,
   "metadata": {},
   "outputs": [],
   "source": [
    "model = LogisticRegression(max_iter=500)\n",
    "\n",
    "# RandomForestClassifier(n_estimators = 100)\n",
    "# LinearSVC(C=0.01)\n",
    "# LogisticRegression(max_iter=500)\n",
    "# RandomForestClassifier(n_estimators=1000, random_state=0)\n"
   ]
  },
  {
   "cell_type": "code",
   "execution_count": 187,
   "metadata": {},
   "outputs": [
    {
     "data": {
      "text/html": [
       "<style>#sk-container-id-13 {color: black;background-color: white;}#sk-container-id-13 pre{padding: 0;}#sk-container-id-13 div.sk-toggleable {background-color: white;}#sk-container-id-13 label.sk-toggleable__label {cursor: pointer;display: block;width: 100%;margin-bottom: 0;padding: 0.3em;box-sizing: border-box;text-align: center;}#sk-container-id-13 label.sk-toggleable__label-arrow:before {content: \"▸\";float: left;margin-right: 0.25em;color: #696969;}#sk-container-id-13 label.sk-toggleable__label-arrow:hover:before {color: black;}#sk-container-id-13 div.sk-estimator:hover label.sk-toggleable__label-arrow:before {color: black;}#sk-container-id-13 div.sk-toggleable__content {max-height: 0;max-width: 0;overflow: hidden;text-align: left;background-color: #f0f8ff;}#sk-container-id-13 div.sk-toggleable__content pre {margin: 0.2em;color: black;border-radius: 0.25em;background-color: #f0f8ff;}#sk-container-id-13 input.sk-toggleable__control:checked~div.sk-toggleable__content {max-height: 200px;max-width: 100%;overflow: auto;}#sk-container-id-13 input.sk-toggleable__control:checked~label.sk-toggleable__label-arrow:before {content: \"▾\";}#sk-container-id-13 div.sk-estimator input.sk-toggleable__control:checked~label.sk-toggleable__label {background-color: #d4ebff;}#sk-container-id-13 div.sk-label input.sk-toggleable__control:checked~label.sk-toggleable__label {background-color: #d4ebff;}#sk-container-id-13 input.sk-hidden--visually {border: 0;clip: rect(1px 1px 1px 1px);clip: rect(1px, 1px, 1px, 1px);height: 1px;margin: -1px;overflow: hidden;padding: 0;position: absolute;width: 1px;}#sk-container-id-13 div.sk-estimator {font-family: monospace;background-color: #f0f8ff;border: 1px dotted black;border-radius: 0.25em;box-sizing: border-box;margin-bottom: 0.5em;}#sk-container-id-13 div.sk-estimator:hover {background-color: #d4ebff;}#sk-container-id-13 div.sk-parallel-item::after {content: \"\";width: 100%;border-bottom: 1px solid gray;flex-grow: 1;}#sk-container-id-13 div.sk-label:hover label.sk-toggleable__label {background-color: #d4ebff;}#sk-container-id-13 div.sk-serial::before {content: \"\";position: absolute;border-left: 1px solid gray;box-sizing: border-box;top: 0;bottom: 0;left: 50%;z-index: 0;}#sk-container-id-13 div.sk-serial {display: flex;flex-direction: column;align-items: center;background-color: white;padding-right: 0.2em;padding-left: 0.2em;position: relative;}#sk-container-id-13 div.sk-item {position: relative;z-index: 1;}#sk-container-id-13 div.sk-parallel {display: flex;align-items: stretch;justify-content: center;background-color: white;position: relative;}#sk-container-id-13 div.sk-item::before, #sk-container-id-13 div.sk-parallel-item::before {content: \"\";position: absolute;border-left: 1px solid gray;box-sizing: border-box;top: 0;bottom: 0;left: 50%;z-index: -1;}#sk-container-id-13 div.sk-parallel-item {display: flex;flex-direction: column;z-index: 1;position: relative;background-color: white;}#sk-container-id-13 div.sk-parallel-item:first-child::after {align-self: flex-end;width: 50%;}#sk-container-id-13 div.sk-parallel-item:last-child::after {align-self: flex-start;width: 50%;}#sk-container-id-13 div.sk-parallel-item:only-child::after {width: 0;}#sk-container-id-13 div.sk-dashed-wrapped {border: 1px dashed gray;margin: 0 0.4em 0.5em 0.4em;box-sizing: border-box;padding-bottom: 0.4em;background-color: white;}#sk-container-id-13 div.sk-label label {font-family: monospace;font-weight: bold;display: inline-block;line-height: 1.2em;}#sk-container-id-13 div.sk-label-container {text-align: center;}#sk-container-id-13 div.sk-container {/* jupyter's `normalize.less` sets `[hidden] { display: none; }` but bootstrap.min.css set `[hidden] { display: none !important; }` so we also need the `!important` here to be able to override the default hidden behavior on the sphinx rendered scikit-learn.org. See: https://github.com/scikit-learn/scikit-learn/issues/21755 */display: inline-block !important;position: relative;}#sk-container-id-13 div.sk-text-repr-fallback {display: none;}</style><div id=\"sk-container-id-13\" class=\"sk-top-container\"><div class=\"sk-text-repr-fallback\"><pre>LogisticRegression(max_iter=500)</pre><b>In a Jupyter environment, please rerun this cell to show the HTML representation or trust the notebook. <br />On GitHub, the HTML representation is unable to render, please try loading this page with nbviewer.org.</b></div><div class=\"sk-container\" hidden><div class=\"sk-item\"><div class=\"sk-estimator sk-toggleable\"><input class=\"sk-toggleable__control sk-hidden--visually\" id=\"sk-estimator-id-13\" type=\"checkbox\" checked><label for=\"sk-estimator-id-13\" class=\"sk-toggleable__label sk-toggleable__label-arrow\">LogisticRegression</label><div class=\"sk-toggleable__content\"><pre>LogisticRegression(max_iter=500)</pre></div></div></div></div></div>"
      ],
      "text/plain": [
       "LogisticRegression(max_iter=500)"
      ]
     },
     "execution_count": 187,
     "metadata": {},
     "output_type": "execute_result"
    }
   ],
   "source": [
    "model.fit(X_train, y_train)"
   ]
  },
  {
   "cell_type": "code",
   "execution_count": 189,
   "metadata": {},
   "outputs": [],
   "source": [
    "y_pred_prog = model.predict(X_test)"
   ]
  },
  {
   "cell_type": "code",
   "execution_count": 75,
   "metadata": {},
   "outputs": [
    {
     "data": {
      "text/plain": [
       "array([-1,  0,  1,  2], dtype=int64)"
      ]
     },
     "execution_count": 75,
     "metadata": {},
     "output_type": "execute_result"
    }
   ],
   "source": [
    "np.unique(y_pred_prog)"
   ]
  },
  {
   "cell_type": "code",
   "execution_count": 68,
   "metadata": {},
   "outputs": [],
   "source": [
    "# model.best_params_"
   ]
  },
  {
   "cell_type": "markdown",
   "metadata": {},
   "source": [
    "<a id=\"six_one\"></a>\n",
    "### 6.1. Model Performance\n",
    "\n",
    "<a href=#six>Back to Modelling</a>"
   ]
  },
  {
   "cell_type": "code",
   "execution_count": 190,
   "metadata": {},
   "outputs": [
    {
     "data": {
      "text/plain": [
       "(0.7006953223767383,\n",
       " 0.7006953223767383,\n",
       " 0.7006953223767383,\n",
       " 0.7006953223767383)"
      ]
     },
     "execution_count": 190,
     "metadata": {},
     "output_type": "execute_result"
    }
   ],
   "source": [
    "Accuracy_prog = accuracy_score(y_test, y_pred_prog)\n",
    "Precision_prog = precision_score(y_test, y_pred_prog, average=\"micro\")\n",
    "Recall_prog = recall_score(y_test, y_pred_prog, average=\"micro\")\n",
    "F1_Score_prog = f1_score(y_test, y_pred_prog, average=\"micro\")\n",
    "\n",
    "(Accuracy_prog, Precision_prog, Recall_prog, F1_Score_prog)"
   ]
  },
  {
   "cell_type": "code",
   "execution_count": 191,
   "metadata": {},
   "outputs": [
    {
     "name": "stdout",
     "output_type": "stream",
     "text": [
      "              precision    recall  f1-score   support\n",
      "\n",
      "          -1       0.79      0.27      0.40       278\n",
      "           0       0.50      0.34      0.40       425\n",
      "           1       0.71      0.87      0.78      1755\n",
      "           2       0.74      0.67      0.70       706\n",
      "\n",
      "    accuracy                           0.70      3164\n",
      "   macro avg       0.68      0.54      0.57      3164\n",
      "weighted avg       0.70      0.70      0.68      3164\n",
      "\n"
     ]
    },
    {
     "data": {
      "text/plain": [
       "array([[  74,   50,  143,   11],\n",
       "       [   6,  145,  253,   21],\n",
       "       [  11,   81, 1528,  135],\n",
       "       [   3,   16,  217,  470]], dtype=int64)"
      ]
     },
     "execution_count": 191,
     "metadata": {},
     "output_type": "execute_result"
    }
   ],
   "source": [
    "confusion_prog = confusion_matrix(y_test, y_pred_prog)\n",
    "class_report_prog = classification_report(y_test, y_pred_prog)\n",
    "print(class_report_prog)\n",
    "confusion_prog"
   ]
  },
  {
   "cell_type": "code",
   "execution_count": 71,
   "metadata": {},
   "outputs": [],
   "source": [
    "# y_pred_prog.shape"
   ]
  },
  {
   "cell_type": "code",
   "execution_count": 72,
   "metadata": {},
   "outputs": [
    {
     "data": {
      "image/png": "[encoded data removed]",
      "text/plain": [
       "<Figure size 720x504 with 1 Axes>"
      ]
     },
     "metadata": {},
     "output_type": "display_data"
    }
   ],
   "source": [
    "# plot count of each sentiment in prediction\n",
    "\n",
    "see = pd.DataFrame(pd.DataFrame(y_pred_prog).value_counts(), columns=[\"count\"])\n",
    "\n",
    "ax = see.sort_values(\"count\").plot(kind=\"barh\", color=\"blue\")\n",
    "ax.bar_label(ax.containers[0])\n",
    "plt.show()"
   ]
  },
  {
   "cell_type": "markdown",
   "metadata": {
    "tags": []
   },
   "source": [
    "<a id=\"six_two\"></a>\n",
    "### 6.2. Run all models\n",
    "\n",
    "<a href=#six>Back to Modelling</a>"
   ]
  },
  {
   "cell_type": "code",
   "execution_count": 73,
   "metadata": {},
   "outputs": [],
   "source": [
    "names = [\"Logistic Regression\", \"Nearest Neighbors\", \"Support Vector Machines\"]"
   ]
  },
  {
   "cell_type": "code",
   "execution_count": 74,
   "metadata": {},
   "outputs": [],
   "source": [
    "classifiers = [LogisticRegression(max_iter=500), KNeighborsClassifier(3), SVC(kernel=\"rbf\", C=1, gamma=1)]"
   ]
  },
  {
   "cell_type": "code",
   "execution_count": 75,
   "metadata": {},
   "outputs": [],
   "source": [
    "# results = []\n",
    "\n",
    "# models = {}\n",
    "# confusion = {}\n",
    "# class_report = {}\n",
    "\n",
    "\n",
    "# for name, clf in zip(names, classifiers):    \n",
    "#     print (\"Fitting {:s} model...\".format(name))\n",
    "#     run_time = %timeit -q -o clf.fit(X_train, y_train)\n",
    "    \n",
    "#     print (\"... predicting\") \n",
    "#     y_pred = clf.predict(X_test)\n",
    "    \n",
    "#     print (\"... scoring\")\n",
    "#     accuracy  = metrics.accuracy_score(y_test, y_pred)\n",
    "#     precision = metrics.precision_score(y_test, y_pred, average=\"micro\")\n",
    "#     recall    = metrics.recall_score(y_test, y_pred, average=\"micro\")\n",
    "#     f1_test        = metrics.f1_score(y_test, y_pred, average=\"micro\")    \n",
    "    \n",
    "#     # Save the results to dictionaries\n",
    "#     models[name] = clf    \n",
    "#     confusion[name] = metrics.confusion_matrix(y_test, y_pred)\n",
    "#     class_report[name] = metrics.classification_report(y_test, y_pred)\n",
    "    \n",
    "#     results.append([name, accuracy, precision, recall, f1_test, run_time.best])\n",
    "\n",
    "    \n",
    "# results = pd.DataFrame(results, columns=[\"Classifier\", \"Accuracy\", \"Precision\", \"Recall\", \"F1 Test\", \"Train Time\"])\n",
    "# results.set_index(\"Classifier\", inplace= True)\n",
    "\n",
    "# print (\"... All done!\")"
   ]
  },
  {
   "cell_type": "code",
   "execution_count": 76,
   "metadata": {},
   "outputs": [],
   "source": [
    "# results.sort_values(\"F1 Test\", ascending=False)"
   ]
  },
  {
   "cell_type": "code",
   "execution_count": 77,
   "metadata": {},
   "outputs": [],
   "source": [
    "# print(class_report[\"Logistic Regression\"])\n",
    "# confusion[\"Logistic Regression\"]"
   ]
  },
  {
   "cell_type": "markdown",
   "metadata": {
    "tags": []
   },
   "source": [
    "<a id=\"six_three\"></a>\n",
    "### 6.3. Kaggle Submission\n",
    "\n",
    "<a href=#six>Back to Modelling</a>"
   ]
  },
  {
   "cell_type": "code",
   "execution_count": 78,
   "metadata": {},
   "outputs": [],
   "source": [
    "def predict_unseen(X_train, y_train, X_test, model):\n",
    "    # function to predict Unseen data\n",
    "    model.fit(X_train, y_train)\n",
    "    predictions = model.predict(X_test)\n",
    "    return predictions\n",
    "\n",
    "def save_sub(series, col_file=\"test.csv\", file=\"sample_submission.csv\"):\n",
    "    # function to save submission\n",
    "    my_series = pd.Series(series)\n",
    "    prediction = my_series.to_frame()\n",
    "    prediction = prediction.rename(columns = {0:\"sentiment\"})\n",
    "    tweetid = pd.read_csv(col_file)[[\"tweetid\"]]\n",
    "    sample = tweetid.join(other = prediction)\n",
    "    sample.to_csv(file, index=False)"
   ]
  },
  {
   "cell_type": "code",
   "execution_count": 79,
   "metadata": {},
   "outputs": [],
   "source": [
    "# data preprocessing\n",
    "\n",
    "unseen = pd.read_csv(\"test.csv\", index_col=[\"tweetid\"])\n",
    "unseen[\"message\"] = unseen.loc[:, \"message\"].str.encode(\"ascii\", \"ignore\").str.decode(\"ascii\")\n",
    "unseen.replace({\"message\": pattern_replace}, regex=True, inplace=True)\n",
    "unseen[\"message\"] = unseen[\"message\"].apply(remove_punctuation_numbers_caps)\n",
    "unseen[\"clean\"] = unseen[\"message\"].apply(remove_stop_words)\n",
    "unseen[\"tokens\"] = unseen[\"clean\"].apply(tokeniser.tokenize)\n",
    "# unseen[\"stem\"] = unseen[\"tokens\"].apply(word_stemmer, args=(stemmer, ))\n",
    "# unseen[\"stem_list\"] = [\" \".join(map(str, l)) for l in unseen[\"stem\"]]\n",
    "unseen[\"lemma\"] = unseen[\"tokens\"].apply(word_lemma, args=(lemmatizer, ))\n",
    "unseen[\"lemma_str\"] = [\" \".join(map(str, l)) for l in unseen[\"lemma\"]]\n",
    "X_unseen = vect.transform(unseen[\"lemma_str\"])\n",
    "X_unseen_df = pd.DataFrame(X_unseen.A)"
   ]
  },
  {
   "cell_type": "code",
   "execution_count": 80,
   "metadata": {},
   "outputs": [
    {
     "data": {
      "text/plain": [
       "(10546, 14825)"
      ]
     },
     "execution_count": 80,
     "metadata": {},
     "output_type": "execute_result"
    }
   ],
   "source": [
    "X_unseen_df.shape"
   ]
  },
  {
   "cell_type": "code",
   "execution_count": 81,
   "metadata": {},
   "outputs": [],
   "source": [
    "y_test_pred = predict_unseen(X_df, y, X_unseen_df, LogisticRegression(max_iter=500)) #observed to have better score (A)\n",
    "# y_test_pred = model.predict(X_unseen_df) # (B)"
   ]
  },
  {
   "cell_type": "code",
   "execution_count": 82,
   "metadata": {},
   "outputs": [
    {
     "data": {
      "text/plain": [
       "array([-1,  0,  1,  2], dtype=int64)"
      ]
     },
     "execution_count": 82,
     "metadata": {},
     "output_type": "execute_result"
    }
   ],
   "source": [
    "np.unique(y_test_pred)"
   ]
  },
  {
   "cell_type": "code",
   "execution_count": 83,
   "metadata": {},
   "outputs": [],
   "source": [
    "save_sub(y_test_pred, col_file=\"test.csv\", file=\"submissions/sample_submission_lemma_logreg_base.csv\")"
   ]
  },
  {
   "cell_type": "markdown",
   "metadata": {
    "jp-MarkdownHeadingCollapsed": true,
    "tags": []
   },
   "source": [
    " <a id=\"seven\"></a>\n",
    "## 7. End Comet Experiment\n",
    "<a href=#linkup>Back to Table of Contents</a>\n",
    "\n",
    "---\n",
    "    \n",
    "## <center>| ⚡ Description ⚡ |\n",
    "\n",
    "**<center>Create logs and ending experiment.<center>**\n",
    "\n",
    "---"
   ]
  },
  {
   "cell_type": "code",
   "execution_count": 84,
   "metadata": {
    "id": "-1kDE76cGRSd"
   },
   "outputs": [],
   "source": [
    "# # Create dictionaries for data to be logged\n",
    "\n",
    "# params = {\"clean\": \"punc_num_cap\",\n",
    "#           \"word stem\": \"lemmatizer\",\n",
    "#           \"resample\": False,\n",
    "#           \"feature extraction\": \"CountVectorizer(max_df=5000, min_df=5)\",\n",
    "#           \"scaler\": False,\n",
    "#           \"test size\": 0.2,\n",
    "#           \"stratify\": False,\n",
    "#           \"random_state\": 42,\n",
    "#           \"model_type\": \"LogisticRegression(max_iter=500)\",\n",
    "#           \"param grid\": False\n",
    "#           }\n",
    "# metrics_score = {\"f1\": F1_Score_prog,\n",
    "#            \"recall\": Recall_prog,\n",
    "#            \"precision\": Precision_prog,\n",
    "#            \"acuracy\": Accuracy_prog\n",
    "#            }"
   ]
  },
  {
   "cell_type": "code",
   "execution_count": 85,
   "metadata": {
    "id": "oun_B6m5GXEz"
   },
   "outputs": [],
   "source": [
    "# # Log our parameters and results\n",
    "\n",
    "# experiment.log_parameters(params)\n",
    "# experiment.log_metrics(metrics_score)\n",
    "# experiment.log_confusion_matrix(y_test, y_pred_prog)"
   ]
  },
  {
   "cell_type": "code",
   "execution_count": 86,
   "metadata": {
    "colab": {
     "base_uri": "https://localhost:8080/",
     "height": 269
    },
    "id": "CbQ3tKA-G6rW",
    "outputId": "d5818c72-cc5b-4c51-d4ef-cea92962f19f"
   },
   "outputs": [],
   "source": [
    "# experiment.end()"
   ]
  },
  {
   "cell_type": "code",
   "execution_count": 87,
   "metadata": {
    "colab": {
     "base_uri": "https://localhost:8080/",
     "height": 821
    },
    "id": "B-5ZmY-ZHFRf",
    "outputId": "4ea3e2c5-783d-49af-e71e-aaa59e63ea18"
   },
   "outputs": [],
   "source": [
    "# experiment.display()"
   ]
  },
  {
   "cell_type": "markdown",
   "metadata": {
    "id": "fupy3YeZolRA",
    "tags": []
   },
   "source": [
    " <a id=\"eight\"></a>\n",
    "## 8. Extra\n",
    "<a href=#linkup>Back to Table of Contents</a>\n",
    "\n",
    "---\n",
    "    \n",
    "## <center>| ⚡ Description ⚡ |\n",
    "\n",
    "**<center>Additional material.<center>**\n",
    "\n",
    "---"
   ]
  },
  {
   "cell_type": "code",
   "execution_count": 91,
   "metadata": {},
   "outputs": [
    {
     "name": "stdout",
     "output_type": "stream",
     "text": [
      "Saving model to: C:\\Users\\ADEBOWALE Tosin\\Desktop\\tee\\Explore\\predict\\06 - Advanced Classification\\EDSA_Climate_Change_Belief_Analysis_2022_Team_NM3\\2_Streamlit_and_AWS\\resources\\NM3_model.pkl\n"
     ]
    }
   ],
   "source": [
    "# Pickle model for use within app\n",
    "save_path = r\"C:\\Users\\ADEBOWALE Tosin\\Desktop\\tee\\Explore\\predict\\06 - Advanced Classification\\EDSA_Climate_Change_Belief_Analysis_2022_Team_NM3\\2_Streamlit_and_AWS\\resources\\NM3_model.pkl\"\n",
    "print (f\"Saving model to: {save_path}\")\n",
    "pickle.dump(model, open(save_path,'wb'))"
   ]
  },
  {
   "cell_type": "code",
   "execution_count": 90,
   "metadata": {},
   "outputs": [
    {
     "name": "stdout",
     "output_type": "stream",
     "text": [
      "Saving vectorizer to: C:\\Users\\ADEBOWALE Tosin\\Desktop\\tee\\Explore\\predict\\06 - Advanced Classification\\EDSA_Climate_Change_Belief_Analysis_2022_Team_NM3\\2_Streamlit_and_AWS\\resources\\NM3_vect.pkl\n"
     ]
    }
   ],
   "source": [
    "# Pickle vectorizer for use within app\n",
    "save_path = r\"C:\\Users\\ADEBOWALE Tosin\\Desktop\\tee\\Explore\\predict\\06 - Advanced Classification\\EDSA_Climate_Change_Belief_Analysis_2022_Team_NM3\\2_Streamlit_and_AWS\\resources\\NM3_vect.pkl\"\n",
    "print (f\"Saving vectorizer to: {save_path}\")\n",
    "pickle.dump(vect, open(save_path,'wb'))"
   ]
  }
 ],
 "metadata": {
  "colab": {
   "collapsed_sections": [],
   "name": "sklearn_comet_starter_notebook.ipynb",
   "provenance": []
  },
  "kernelspec": {
   "display_name": "Python 3.10.4 64-bit",
   "language": "python",
   "name": "python3"
  },
  "language_info": {
   "codemirror_mode": {
    "name": "ipython",
    "version": 3
   },
   "file_extension": ".py",
   "mimetype": "text/x-python",
   "name": "python",
   "nbconvert_exporter": "python",
   "pygments_lexer": "ipython3",
   "version": "3.10.4"
  },
  "vscode": {
   "interpreter": {
    "hash": "369f2c481f4da34e4445cda3fffd2e751bd1c4d706f27375911949ba6bb62e1c"
   }
  },
  "widgets": {
   "application/vnd.jupyter.widget-state+json": {
    "state": {},
    "version_major": 2,
    "version_minor": 0
   }
  }
 },
 "nbformat": 4,
 "nbformat_minor": 4
}
